{
  "cells": [
    {
      "cell_type": "markdown",
      "metadata": {
        "id": "view-in-github",
        "colab_type": "text"
      },
      "source": [
        "<a href=\"https://colab.research.google.com/github/FarahRadwan/MachineLearning/blob/main/Logistic2_finalll_43_3247.ipynb\" target=\"_parent\"><img src=\"https://colab.research.google.com/assets/colab-badge.svg\" alt=\"Open In Colab\"/></a>"
      ]
    },
    {
      "cell_type": "code",
      "execution_count": null,
      "id": "ca31dd43",
      "metadata": {
        "id": "ca31dd43"
      },
      "outputs": [],
      "source": [
        "import numpy as np\n",
        "import pandas as pd\n",
        "import matplotlib.pyplot as plt\n",
        "import seaborn as sns\n",
        "from sklearn.model_selection import train_test_split,cross_val_score\n",
        "from sklearn.preprocessing import LabelEncoder\n",
        "from sklearn.linear_model import LogisticRegression\n",
        "from sklearn.metrics import accuracy_score,confusion_matrix,classification_report\n",
        "from sklearn.svm import SVC\n",
        "from sklearn.model_selection import StratifiedKFold\n",
        "from sklearn.model_selection import KFold\n",
        "from sklearn.model_selection import cross_val_score\n",
        "from sklearn import preprocessing\n",
        "from sklearn.linear_model import RidgeCV\n",
        "from sklearn.model_selection import RepeatedKFold\n",
        "import warnings\n",
        "warnings.filterwarnings(\"ignore\")"
      ]
    },
    {
      "cell_type": "code",
      "execution_count": null,
      "id": "975595b7",
      "metadata": {
        "id": "975595b7",
        "outputId": "718b521e-1856-4c65-b0d3-80a58822ed85"
      },
      "outputs": [
        {
          "data": {
            "text/html": [
              "<div>\n",
              "<style scoped>\n",
              "    .dataframe tbody tr th:only-of-type {\n",
              "        vertical-align: middle;\n",
              "    }\n",
              "\n",
              "    .dataframe tbody tr th {\n",
              "        vertical-align: top;\n",
              "    }\n",
              "\n",
              "    .dataframe thead th {\n",
              "        text-align: right;\n",
              "    }\n",
              "</style>\n",
              "<table border=\"1\" class=\"dataframe\">\n",
              "  <thead>\n",
              "    <tr style=\"text-align: right;\">\n",
              "      <th></th>\n",
              "      <th>step</th>\n",
              "      <th>type</th>\n",
              "      <th>amount</th>\n",
              "      <th>nameOrig</th>\n",
              "      <th>oldbalanceOrg</th>\n",
              "      <th>newbalanceOrig</th>\n",
              "      <th>nameDest</th>\n",
              "      <th>oldbalanceDest</th>\n",
              "      <th>newbalanceDest</th>\n",
              "      <th>isFraud</th>\n",
              "      <th>isFlaggedFraud</th>\n",
              "    </tr>\n",
              "  </thead>\n",
              "  <tbody>\n",
              "    <tr>\n",
              "      <th>0</th>\n",
              "      <td>1</td>\n",
              "      <td>PAYMENT</td>\n",
              "      <td>9839.64</td>\n",
              "      <td>C1231006815</td>\n",
              "      <td>170136.0</td>\n",
              "      <td>160296.36</td>\n",
              "      <td>M1979787155</td>\n",
              "      <td>0.0</td>\n",
              "      <td>0.0</td>\n",
              "      <td>0</td>\n",
              "      <td>0</td>\n",
              "    </tr>\n",
              "    <tr>\n",
              "      <th>1</th>\n",
              "      <td>1</td>\n",
              "      <td>PAYMENT</td>\n",
              "      <td>1864.28</td>\n",
              "      <td>C1666544295</td>\n",
              "      <td>21249.0</td>\n",
              "      <td>19384.72</td>\n",
              "      <td>M2044282225</td>\n",
              "      <td>0.0</td>\n",
              "      <td>0.0</td>\n",
              "      <td>0</td>\n",
              "      <td>0</td>\n",
              "    </tr>\n",
              "    <tr>\n",
              "      <th>2</th>\n",
              "      <td>1</td>\n",
              "      <td>TRANSFER</td>\n",
              "      <td>181.00</td>\n",
              "      <td>C1305486145</td>\n",
              "      <td>181.0</td>\n",
              "      <td>0.00</td>\n",
              "      <td>C553264065</td>\n",
              "      <td>0.0</td>\n",
              "      <td>0.0</td>\n",
              "      <td>1</td>\n",
              "      <td>0</td>\n",
              "    </tr>\n",
              "    <tr>\n",
              "      <th>3</th>\n",
              "      <td>1</td>\n",
              "      <td>CASH_OUT</td>\n",
              "      <td>181.00</td>\n",
              "      <td>C840083671</td>\n",
              "      <td>181.0</td>\n",
              "      <td>0.00</td>\n",
              "      <td>C38997010</td>\n",
              "      <td>21182.0</td>\n",
              "      <td>0.0</td>\n",
              "      <td>1</td>\n",
              "      <td>0</td>\n",
              "    </tr>\n",
              "    <tr>\n",
              "      <th>4</th>\n",
              "      <td>1</td>\n",
              "      <td>PAYMENT</td>\n",
              "      <td>11668.14</td>\n",
              "      <td>C2048537720</td>\n",
              "      <td>41554.0</td>\n",
              "      <td>29885.86</td>\n",
              "      <td>M1230701703</td>\n",
              "      <td>0.0</td>\n",
              "      <td>0.0</td>\n",
              "      <td>0</td>\n",
              "      <td>0</td>\n",
              "    </tr>\n",
              "  </tbody>\n",
              "</table>\n",
              "</div>"
            ],
            "text/plain": [
              "   step      type    amount     nameOrig  oldbalanceOrg  newbalanceOrig  \\\n",
              "0     1   PAYMENT   9839.64  C1231006815       170136.0       160296.36   \n",
              "1     1   PAYMENT   1864.28  C1666544295        21249.0        19384.72   \n",
              "2     1  TRANSFER    181.00  C1305486145          181.0            0.00   \n",
              "3     1  CASH_OUT    181.00   C840083671          181.0            0.00   \n",
              "4     1   PAYMENT  11668.14  C2048537720        41554.0        29885.86   \n",
              "\n",
              "      nameDest  oldbalanceDest  newbalanceDest  isFraud  isFlaggedFraud  \n",
              "0  M1979787155             0.0             0.0        0               0  \n",
              "1  M2044282225             0.0             0.0        0               0  \n",
              "2   C553264065             0.0             0.0        1               0  \n",
              "3    C38997010         21182.0             0.0        1               0  \n",
              "4  M1230701703             0.0             0.0        0               0  "
            ]
          },
          "execution_count": 193,
          "metadata": {},
          "output_type": "execute_result"
        }
      ],
      "source": [
        "df=pd.read_csv(\"Fraud.csv\")\n",
        "df.head()"
      ]
    },
    {
      "cell_type": "code",
      "execution_count": null,
      "id": "8f98b680",
      "metadata": {
        "id": "8f98b680",
        "outputId": "9e99b80c-eedf-44df-ce77-29f2f9d07a7a"
      },
      "outputs": [
        {
          "data": {
            "text/plain": [
              "step              0\n",
              "type              0\n",
              "amount            0\n",
              "nameOrig          0\n",
              "oldbalanceOrg     0\n",
              "newbalanceOrig    0\n",
              "nameDest          0\n",
              "oldbalanceDest    0\n",
              "newbalanceDest    0\n",
              "isFraud           0\n",
              "isFlaggedFraud    0\n",
              "dtype: int64"
            ]
          },
          "execution_count": 194,
          "metadata": {},
          "output_type": "execute_result"
        }
      ],
      "source": [
        "df.isnull().sum()"
      ]
    },
    {
      "cell_type": "code",
      "execution_count": null,
      "id": "53eaf66d",
      "metadata": {
        "id": "53eaf66d",
        "outputId": "3b9966ca-3213-47b5-b039-78c478b0d5d9"
      },
      "outputs": [
        {
          "name": "stdout",
          "output_type": "stream",
          "text": [
            "<class 'pandas.core.frame.DataFrame'>\n",
            "RangeIndex: 1048575 entries, 0 to 1048574\n",
            "Data columns (total 11 columns):\n",
            " #   Column          Non-Null Count    Dtype  \n",
            "---  ------          --------------    -----  \n",
            " 0   step            1048575 non-null  int64  \n",
            " 1   type            1048575 non-null  object \n",
            " 2   amount          1048575 non-null  float64\n",
            " 3   nameOrig        1048575 non-null  object \n",
            " 4   oldbalanceOrg   1048575 non-null  float64\n",
            " 5   newbalanceOrig  1048575 non-null  float64\n",
            " 6   nameDest        1048575 non-null  object \n",
            " 7   oldbalanceDest  1048575 non-null  float64\n",
            " 8   newbalanceDest  1048575 non-null  float64\n",
            " 9   isFraud         1048575 non-null  int64  \n",
            " 10  isFlaggedFraud  1048575 non-null  int64  \n",
            "dtypes: float64(5), int64(3), object(3)\n",
            "memory usage: 88.0+ MB\n"
          ]
        }
      ],
      "source": [
        "df.info()"
      ]
    },
    {
      "cell_type": "code",
      "execution_count": null,
      "id": "a3d440e3",
      "metadata": {
        "id": "a3d440e3"
      },
      "outputs": [],
      "source": [
        "#Encoding the categorical data using label encoding ,not one hot encoding as nameOrig has many different values so data will be so big\n",
        "la=LabelEncoder()\n",
        "df['type']=la.fit_transform(df['type'])\n",
        "df['nameOrig']=la.fit_transform(df['nameOrig'])\n",
        "df['nameDest']=la.fit_transform(df['nameDest'])"
      ]
    },
    {
      "cell_type": "code",
      "execution_count": null,
      "id": "8f2a0e5b",
      "metadata": {
        "id": "8f2a0e5b",
        "outputId": "bd7eb462-038e-4baf-eb74-9a95d0b0f0da"
      },
      "outputs": [
        {
          "data": {
            "text/html": [
              "<div>\n",
              "<style scoped>\n",
              "    .dataframe tbody tr th:only-of-type {\n",
              "        vertical-align: middle;\n",
              "    }\n",
              "\n",
              "    .dataframe tbody tr th {\n",
              "        vertical-align: top;\n",
              "    }\n",
              "\n",
              "    .dataframe thead th {\n",
              "        text-align: right;\n",
              "    }\n",
              "</style>\n",
              "<table border=\"1\" class=\"dataframe\">\n",
              "  <thead>\n",
              "    <tr style=\"text-align: right;\">\n",
              "      <th></th>\n",
              "      <th>step</th>\n",
              "      <th>type</th>\n",
              "      <th>amount</th>\n",
              "      <th>nameOrig</th>\n",
              "      <th>oldbalanceOrg</th>\n",
              "      <th>newbalanceOrig</th>\n",
              "      <th>nameDest</th>\n",
              "      <th>oldbalanceDest</th>\n",
              "      <th>newbalanceDest</th>\n",
              "      <th>isFraud</th>\n",
              "      <th>isFlaggedFraud</th>\n",
              "    </tr>\n",
              "  </thead>\n",
              "  <tbody>\n",
              "    <tr>\n",
              "      <th>0</th>\n",
              "      <td>1</td>\n",
              "      <td>3</td>\n",
              "      <td>9839.64</td>\n",
              "      <td>125164</td>\n",
              "      <td>170136.0</td>\n",
              "      <td>160296.36</td>\n",
              "      <td>274917</td>\n",
              "      <td>0.0</td>\n",
              "      <td>0.0</td>\n",
              "      <td>0</td>\n",
              "      <td>0</td>\n",
              "    </tr>\n",
              "    <tr>\n",
              "      <th>1</th>\n",
              "      <td>1</td>\n",
              "      <td>3</td>\n",
              "      <td>1864.28</td>\n",
              "      <td>361319</td>\n",
              "      <td>21249.0</td>\n",
              "      <td>19384.72</td>\n",
              "      <td>286716</td>\n",
              "      <td>0.0</td>\n",
              "      <td>0.0</td>\n",
              "      <td>0</td>\n",
              "      <td>0</td>\n",
              "    </tr>\n",
              "    <tr>\n",
              "      <th>2</th>\n",
              "      <td>1</td>\n",
              "      <td>4</td>\n",
              "      <td>181.00</td>\n",
              "      <td>165236</td>\n",
              "      <td>181.0</td>\n",
              "      <td>0.00</td>\n",
              "      <td>73550</td>\n",
              "      <td>0.0</td>\n",
              "      <td>0.0</td>\n",
              "      <td>1</td>\n",
              "      <td>0</td>\n",
              "    </tr>\n",
              "    <tr>\n",
              "      <th>3</th>\n",
              "      <td>1</td>\n",
              "      <td>1</td>\n",
              "      <td>181.00</td>\n",
              "      <td>961662</td>\n",
              "      <td>181.0</td>\n",
              "      <td>0.00</td>\n",
              "      <td>65464</td>\n",
              "      <td>21182.0</td>\n",
              "      <td>0.0</td>\n",
              "      <td>1</td>\n",
              "      <td>0</td>\n",
              "    </tr>\n",
              "    <tr>\n",
              "      <th>4</th>\n",
              "      <td>1</td>\n",
              "      <td>3</td>\n",
              "      <td>11668.14</td>\n",
              "      <td>567915</td>\n",
              "      <td>41554.0</td>\n",
              "      <td>29885.86</td>\n",
              "      <td>138001</td>\n",
              "      <td>0.0</td>\n",
              "      <td>0.0</td>\n",
              "      <td>0</td>\n",
              "      <td>0</td>\n",
              "    </tr>\n",
              "  </tbody>\n",
              "</table>\n",
              "</div>"
            ],
            "text/plain": [
              "   step  type    amount  nameOrig  oldbalanceOrg  newbalanceOrig  nameDest  \\\n",
              "0     1     3   9839.64    125164       170136.0       160296.36    274917   \n",
              "1     1     3   1864.28    361319        21249.0        19384.72    286716   \n",
              "2     1     4    181.00    165236          181.0            0.00     73550   \n",
              "3     1     1    181.00    961662          181.0            0.00     65464   \n",
              "4     1     3  11668.14    567915        41554.0        29885.86    138001   \n",
              "\n",
              "   oldbalanceDest  newbalanceDest  isFraud  isFlaggedFraud  \n",
              "0             0.0             0.0        0               0  \n",
              "1             0.0             0.0        0               0  \n",
              "2             0.0             0.0        1               0  \n",
              "3         21182.0             0.0        1               0  \n",
              "4             0.0             0.0        0               0  "
            ]
          },
          "execution_count": 197,
          "metadata": {},
          "output_type": "execute_result"
        }
      ],
      "source": [
        "df.head()"
      ]
    },
    {
      "cell_type": "code",
      "execution_count": null,
      "id": "22343cc4",
      "metadata": {
        "id": "22343cc4"
      },
      "outputs": [],
      "source": [
        "X=df.drop('isFraud',axis=1)\n",
        "y=df['isFraud']"
      ]
    },
    {
      "cell_type": "code",
      "execution_count": null,
      "id": "358d4209",
      "metadata": {
        "id": "358d4209"
      },
      "outputs": [],
      "source": [
        "#scaling the data  using minmax as data isnot in the same range\n",
        "scaler = preprocessing.MinMaxScaler()\n",
        "x_scaled = scaler.fit_transform(X)"
      ]
    },
    {
      "cell_type": "code",
      "execution_count": null,
      "id": "0df6d334",
      "metadata": {
        "id": "0df6d334",
        "outputId": "8c53f057-3d19-4c19-9c33-349858fcf680"
      },
      "outputs": [
        {
          "data": {
            "text/html": [
              "<div>\n",
              "<style scoped>\n",
              "    .dataframe tbody tr th:only-of-type {\n",
              "        vertical-align: middle;\n",
              "    }\n",
              "\n",
              "    .dataframe tbody tr th {\n",
              "        vertical-align: top;\n",
              "    }\n",
              "\n",
              "    .dataframe thead th {\n",
              "        text-align: right;\n",
              "    }\n",
              "</style>\n",
              "<table border=\"1\" class=\"dataframe\">\n",
              "  <thead>\n",
              "    <tr style=\"text-align: right;\">\n",
              "      <th></th>\n",
              "      <th>step</th>\n",
              "      <th>type</th>\n",
              "      <th>amount</th>\n",
              "      <th>nameOrig</th>\n",
              "      <th>oldbalanceOrg</th>\n",
              "      <th>newbalanceOrig</th>\n",
              "      <th>nameDest</th>\n",
              "      <th>oldbalanceDest</th>\n",
              "      <th>newbalanceDest</th>\n",
              "      <th>isFlaggedFraud</th>\n",
              "    </tr>\n",
              "  </thead>\n",
              "  <tbody>\n",
              "    <tr>\n",
              "      <th>0</th>\n",
              "      <td>0.0</td>\n",
              "      <td>0.75</td>\n",
              "      <td>0.000984</td>\n",
              "      <td>0.119395</td>\n",
              "      <td>0.004374</td>\n",
              "      <td>0.004121</td>\n",
              "      <td>0.611424</td>\n",
              "      <td>0.000000</td>\n",
              "      <td>0.0</td>\n",
              "      <td>0.0</td>\n",
              "    </tr>\n",
              "    <tr>\n",
              "      <th>1</th>\n",
              "      <td>0.0</td>\n",
              "      <td>0.75</td>\n",
              "      <td>0.000186</td>\n",
              "      <td>0.344666</td>\n",
              "      <td>0.000546</td>\n",
              "      <td>0.000498</td>\n",
              "      <td>0.637665</td>\n",
              "      <td>0.000000</td>\n",
              "      <td>0.0</td>\n",
              "      <td>0.0</td>\n",
              "    </tr>\n",
              "    <tr>\n",
              "      <th>2</th>\n",
              "      <td>0.0</td>\n",
              "      <td>1.00</td>\n",
              "      <td>0.000018</td>\n",
              "      <td>0.157620</td>\n",
              "      <td>0.000005</td>\n",
              "      <td>0.000000</td>\n",
              "      <td>0.163577</td>\n",
              "      <td>0.000000</td>\n",
              "      <td>0.0</td>\n",
              "      <td>0.0</td>\n",
              "    </tr>\n",
              "    <tr>\n",
              "      <th>3</th>\n",
              "      <td>0.0</td>\n",
              "      <td>0.25</td>\n",
              "      <td>0.000018</td>\n",
              "      <td>0.917340</td>\n",
              "      <td>0.000005</td>\n",
              "      <td>0.000000</td>\n",
              "      <td>0.145594</td>\n",
              "      <td>0.000503</td>\n",
              "      <td>0.0</td>\n",
              "      <td>0.0</td>\n",
              "    </tr>\n",
              "    <tr>\n",
              "      <th>4</th>\n",
              "      <td>0.0</td>\n",
              "      <td>0.75</td>\n",
              "      <td>0.001167</td>\n",
              "      <td>0.541740</td>\n",
              "      <td>0.001068</td>\n",
              "      <td>0.000768</td>\n",
              "      <td>0.306919</td>\n",
              "      <td>0.000000</td>\n",
              "      <td>0.0</td>\n",
              "      <td>0.0</td>\n",
              "    </tr>\n",
              "  </tbody>\n",
              "</table>\n",
              "</div>"
            ],
            "text/plain": [
              "   step  type    amount  nameOrig  oldbalanceOrg  newbalanceOrig  nameDest  \\\n",
              "0   0.0  0.75  0.000984  0.119395       0.004374        0.004121  0.611424   \n",
              "1   0.0  0.75  0.000186  0.344666       0.000546        0.000498  0.637665   \n",
              "2   0.0  1.00  0.000018  0.157620       0.000005        0.000000  0.163577   \n",
              "3   0.0  0.25  0.000018  0.917340       0.000005        0.000000  0.145594   \n",
              "4   0.0  0.75  0.001167  0.541740       0.001068        0.000768  0.306919   \n",
              "\n",
              "   oldbalanceDest  newbalanceDest  isFlaggedFraud  \n",
              "0        0.000000             0.0             0.0  \n",
              "1        0.000000             0.0             0.0  \n",
              "2        0.000000             0.0             0.0  \n",
              "3        0.000503             0.0             0.0  \n",
              "4        0.000000             0.0             0.0  "
            ]
          },
          "execution_count": 200,
          "metadata": {},
          "output_type": "execute_result"
        }
      ],
      "source": [
        "df_scaled=pd.DataFrame(x_scaled,columns=X.columns)\n",
        "df_scaled.head()"
      ]
    },
    {
      "cell_type": "code",
      "execution_count": null,
      "id": "302fb25a",
      "metadata": {
        "id": "302fb25a",
        "outputId": "3a69a164-030a-4b20-a056-6fa923418fb5"
      },
      "outputs": [
        {
          "name": "stdout",
          "output_type": "stream",
          "text": [
            "X_train shape: (629145, 10)\n",
            "X_test shape: (209715, 10)\n",
            "y_train shape: (629145,)\n",
            "y_test shape: (209715,)\n",
            "X_val shape: (629145,)\n",
            "y_val shape: (209715,)\n"
          ]
        }
      ],
      "source": [
        "#Dividing the data into train,test and cross_validation\n",
        "X_train, X_test, y_train, y_test = train_test_split(df_scaled, y, test_size=0.2)\n",
        "X_train, X_val, y_train, y_val = train_test_split(X_train, y_train, \n",
        "    test_size=0.25) #0.8*0.25=0.2\n",
        "\n",
        "\n",
        "print(\"X_train shape: {}\".format(X_train.shape))\n",
        "print(\"X_test shape: {}\".format(X_test.shape))\n",
        "print(\"y_train shape: {}\".format(y_train.shape))\n",
        "print(\"y_test shape: {}\".format(y_test.shape))\n",
        "print(\"X_val shape: {}\".format(y_train.shape))\n",
        "print(\"y_val shape: {}\".format(y_test.shape))"
      ]
    },
    {
      "cell_type": "code",
      "execution_count": null,
      "id": "e09c9bed",
      "metadata": {
        "id": "e09c9bed",
        "outputId": "bef5a8df-c138-4e1b-ec1a-cd4da8372ec7"
      },
      "outputs": [
        {
          "name": "stdout",
          "output_type": "stream",
          "text": [
            "Accuracy 99.92942803328326\n",
            "              precision    recall  f1-score   support\n",
            "\n",
            "           0       1.00      1.00      1.00    209485\n",
            "           1       0.88      0.41      0.56       230\n",
            "\n",
            "    accuracy                           1.00    209715\n",
            "   macro avg       0.94      0.71      0.78    209715\n",
            "weighted avg       1.00      1.00      1.00    209715\n",
            "\n"
          ]
        },
        {
          "data": {
            "text/plain": [
              "array([[209472,     13],\n",
              "       [   135,     95]], dtype=int64)"
            ]
          },
          "execution_count": 202,
          "metadata": {},
          "output_type": "execute_result"
        }
      ],
      "source": [
        "#Logistic Regression withoyt penalty\n",
        "lr_clf=LogisticRegression(penalty=\"none\")\n",
        "lr_clf.fit(X_train,y_train)\n",
        "pred=lr_clf.predict(X_test)\n",
        "accuracy=accuracy_score(y_test,pred)\n",
        "print(\"Accuracy\",accuracy*100)\n",
        "print(classification_report(y_test,pred))\n",
        "confusion_matrix(y_test,pred)\n"
      ]
    },
    {
      "cell_type": "code",
      "execution_count": null,
      "id": "79871abc",
      "metadata": {
        "id": "79871abc"
      },
      "outputs": [],
      "source": [
        "#kfold without penalty\n",
        "kf = KFold(n_splits=5, shuffle=True, random_state=1)\n",
        "kfold = []\n",
        "  \n",
        "for train_index, test_index in kf.split(X,y):\n",
        "    x_train_fold, x_test_fold = x_scaled[train_index], x_scaled[test_index]\n",
        "    y_train_fold, y_test_fold = y[train_index], y[test_index]\n",
        "    lr_clf.fit(x_train_fold, y_train_fold)\n",
        "    kfold.append(lr_clf.score(x_test_fold, y_test_fold))"
      ]
    },
    {
      "cell_type": "code",
      "execution_count": null,
      "id": "ccf9566a",
      "metadata": {
        "id": "ccf9566a",
        "outputId": "f8278f64-075b-480e-95f5-aaf4af9d0192"
      },
      "outputs": [
        {
          "data": {
            "text/plain": [
              "[0.9992513649476671,\n",
              " 0.9992895119567031,\n",
              " 0.9993133538373506,\n",
              " 0.9992609016999261,\n",
              " 0.9992990487089621]"
            ]
          },
          "execution_count": 204,
          "metadata": {},
          "output_type": "execute_result"
        }
      ],
      "source": [
        "kfold"
      ]
    },
    {
      "cell_type": "code",
      "execution_count": null,
      "id": "1cdbf306",
      "metadata": {
        "id": "1cdbf306"
      },
      "outputs": [],
      "source": [
        "#Stratified kfold which divide the data into same ratio as original data on no penalty logistc\n",
        "skf = StratifiedKFold(n_splits=5, shuffle=True, random_state=1)\n",
        "Skfold = []\n",
        "  \n",
        "for train_index, test_index in skf.split(X,y):\n",
        "    x_train_fold, x_test_fold = x_scaled[train_index], x_scaled[test_index]\n",
        "    y_train_fold, y_test_fold = y[train_index], y[test_index]\n",
        "    lr_clf.fit(x_train_fold, y_train_fold)\n",
        "    Skfold.append(lr_clf.score(x_test_fold, y_test_fold))"
      ]
    },
    {
      "cell_type": "code",
      "execution_count": null,
      "id": "93b00354",
      "metadata": {
        "id": "93b00354",
        "outputId": "b990a491-8e19-45c6-dbf1-9ff73ed3453b"
      },
      "outputs": [
        {
          "name": "stdout",
          "output_type": "stream",
          "text": [
            "Mean of Kfold: 0.9992828362301218\n",
            "Mean of StratifiedKfold: 0.999290465631929\n"
          ]
        }
      ],
      "source": [
        "print('Mean of Kfold:',np.mean(kfold))\n",
        "print('Mean of StratifiedKfold:', np.mean(Skfold))"
      ]
    },
    {
      "cell_type": "code",
      "execution_count": null,
      "id": "e8966b97",
      "metadata": {
        "id": "e8966b97"
      },
      "outputs": [],
      "source": [
        "#using anoter method cross_val,same result on stratified kfold\n",
        "results = cross_val_score(lr_clf, x_scaled, y, cv=skf) "
      ]
    },
    {
      "cell_type": "code",
      "execution_count": null,
      "id": "6713bf58",
      "metadata": {
        "id": "6713bf58",
        "outputId": "2da06384-e164-461a-91d4-7e0331c5e447"
      },
      "outputs": [
        {
          "name": "stdout",
          "output_type": "stream",
          "text": [
            "0.999290465631929\n"
          ]
        }
      ],
      "source": [
        "print(np.mean(results))"
      ]
    },
    {
      "cell_type": "code",
      "execution_count": null,
      "id": "f4f7436d",
      "metadata": {
        "id": "f4f7436d"
      },
      "outputs": [],
      "source": [
        "#using anoter method cross_val,same result on  kfold\n",
        "results_fold= cross_val_score(lr_clf, x_scaled, y, cv=kf)"
      ]
    },
    {
      "cell_type": "code",
      "execution_count": null,
      "id": "5872b377",
      "metadata": {
        "id": "5872b377",
        "outputId": "89db523d-8108-4472-a7d9-3e6d8614306f"
      },
      "outputs": [
        {
          "name": "stdout",
          "output_type": "stream",
          "text": [
            "0.9992828362301218\n"
          ]
        }
      ],
      "source": [
        "print(np.mean(results_fold))"
      ]
    },
    {
      "cell_type": "code",
      "execution_count": null,
      "id": "7e4aa4d5",
      "metadata": {
        "id": "7e4aa4d5",
        "outputId": "4c2f5943-0180-4004-bad0-179ff25e00e6"
      },
      "outputs": [
        {
          "name": "stdout",
          "output_type": "stream",
          "text": [
            "Accuracy 99.92561333237965\n",
            "              precision    recall  f1-score   support\n",
            "\n",
            "           0       1.00      1.00      1.00    209485\n",
            "           1       0.84      0.40      0.54       230\n",
            "\n",
            "    accuracy                           1.00    209715\n",
            "   macro avg       0.92      0.70      0.77    209715\n",
            "weighted avg       1.00      1.00      1.00    209715\n",
            "\n"
          ]
        },
        {
          "data": {
            "text/plain": [
              "array([[209467,     18],\n",
              "       [   138,     92]], dtype=int64)"
            ]
          },
          "execution_count": 211,
          "metadata": {},
          "output_type": "execute_result"
        }
      ],
      "source": [
        "#Another method to stratify which divides the data into same ratio as original data\n",
        "X_train_str, X_test_str, y_train_str, y_test_str = train_test_split(df_scaled, y, test_size=0.2,stratify=y)\n",
        "lr_clf=LogisticRegression(penalty=\"none\")\n",
        "lr_clf.fit(X_train_str,y_train_str)\n",
        "pred=lr_clf.predict(X_test)\n",
        "accuracy=accuracy_score(y_test,pred)\n",
        "print(\"Accuracy\",accuracy*100)\n",
        "print(classification_report(y_test,pred))\n",
        "confusion_matrix(y_test,pred)\n"
      ]
    },
    {
      "cell_type": "code",
      "execution_count": null,
      "id": "49fa5508",
      "metadata": {
        "id": "49fa5508",
        "outputId": "9c9cebd1-6ead-4438-86a0-d6d06822c669"
      },
      "outputs": [
        {
          "name": "stdout",
          "output_type": "stream",
          "text": [
            "0.9992561333237966\n",
            "              precision    recall  f1-score   support\n",
            "\n",
            "           0       1.00      1.00      1.00    209485\n",
            "           1       0.87      0.06      0.11       230\n",
            "\n",
            "    accuracy                           1.00    209715\n",
            "   macro avg       0.93      0.53      0.55    209715\n",
            "weighted avg       1.00      1.00      1.00    209715\n",
            "\n"
          ]
        },
        {
          "data": {
            "text/plain": [
              "array([[209483,      2],\n",
              "       [   217,     13]], dtype=int64)"
            ]
          },
          "execution_count": 212,
          "metadata": {},
          "output_type": "execute_result"
        }
      ],
      "source": [
        "#Regularization Ridge\n",
        "reg_l2=LogisticRegression(penalty=\"l2\")\n",
        "reg_l2.fit(X_train,y_train)\n",
        "pred_l2=reg_l2.predict(X_test)\n",
        "accuracy=accuracy_score(y_test,pred)\n",
        "print(accuracy)\n",
        "print(classification_report(y_test,pred_l2))\n",
        "confusion_matrix(y_test,pred_l2)"
      ]
    },
    {
      "cell_type": "code",
      "execution_count": null,
      "id": "68976e16",
      "metadata": {
        "id": "68976e16",
        "outputId": "5be12404-3e38-4e65-9915-377cf04e20f8"
      },
      "outputs": [
        {
          "name": "stdout",
          "output_type": "stream",
          "text": [
            "0.9989976873375772\n"
          ]
        }
      ],
      "source": [
        "#Applying kfold on Ridge regularization\n",
        "results_fold_l2= cross_val_score(reg_l2, x_scaled, y, cv=kf)\n",
        "print(np.mean(results_fold_l2))"
      ]
    },
    {
      "cell_type": "code",
      "execution_count": null,
      "id": "06e2948c",
      "metadata": {
        "id": "06e2948c",
        "outputId": "32dd66a1-dd93-4fdc-9ee2-be5404c9f627"
      },
      "outputs": [
        {
          "name": "stdout",
          "output_type": "stream",
          "text": [
            "0.9989967336623513\n"
          ]
        }
      ],
      "source": [
        "#Applying Stratifiedkfold on Ridge regularization\n",
        "results_sfold_l2= cross_val_score(reg_l2, x_scaled, y, cv=skf)\n",
        "print(np.mean(results_sfold_l2))"
      ]
    },
    {
      "cell_type": "code",
      "execution_count": null,
      "id": "ccc4477d",
      "metadata": {
        "id": "ccc4477d",
        "outputId": "c3e69a63-6d6c-4558-c77e-5c5edc9de855"
      },
      "outputs": [
        {
          "name": "stdout",
          "output_type": "stream",
          "text": [
            "0.9991893760579834\n",
            "              precision    recall  f1-score   support\n",
            "\n",
            "           0       1.00      1.00      1.00    209485\n",
            "           1       0.87      0.06      0.11       230\n",
            "\n",
            "    accuracy                           1.00    209715\n",
            "   macro avg       0.93      0.53      0.55    209715\n",
            "weighted avg       1.00      1.00      1.00    209715\n",
            "\n"
          ]
        },
        {
          "data": {
            "text/plain": [
              "array([[209483,      2],\n",
              "       [   168,     62]], dtype=int64)"
            ]
          },
          "execution_count": 215,
          "metadata": {},
          "output_type": "execute_result"
        }
      ],
      "source": [
        "#Regularization Lasso\n",
        "reg_l1=LogisticRegression(penalty=\"l1\",solver=\"liblinear\")\n",
        "reg_l1.fit(X_train,y_train)\n",
        "pred=reg_l1.predict(X_test)\n",
        "accuracy=accuracy_score(y_test,pred)\n",
        "print(accuracy)\n",
        "print(classification_report(y_test,pred_l2))\n",
        "confusion_matrix(y_test,pred)"
      ]
    },
    {
      "cell_type": "code",
      "execution_count": null,
      "id": "cd562abe",
      "metadata": {
        "id": "cd562abe",
        "outputId": "0da0b55b-993a-446c-e2bf-00a4502aeeb4"
      },
      "outputs": [
        {
          "name": "stdout",
          "output_type": "stream",
          "text": [
            "0.9989976873375772\n"
          ]
        }
      ],
      "source": [
        "results_fold_l1= cross_val_score(reg_l1, x_scaled, y, cv=kf)\n",
        "print(np.mean(results_fold_l2))"
      ]
    },
    {
      "cell_type": "code",
      "execution_count": null,
      "id": "45fb6564",
      "metadata": {
        "id": "45fb6564",
        "outputId": "0850d71e-4746-4d86-e599-b1ab712985c5"
      },
      "outputs": [
        {
          "name": "stdout",
          "output_type": "stream",
          "text": [
            "0.9989967336623513\n"
          ]
        }
      ],
      "source": [
        "results_sfold_l1= cross_val_score(reg_l1, x_scaled, y, cv=skf)\n",
        "print(np.mean(results_sfold_l2))"
      ]
    },
    {
      "cell_type": "code",
      "execution_count": null,
      "id": "94061f03",
      "metadata": {
        "id": "94061f03",
        "outputId": "fdeeacc5-f17b-40b3-9564-28bc537b2f0e"
      },
      "outputs": [
        {
          "data": {
            "image/png": "[encoded data removed]",
            "text/plain": [
              "<Figure size 432x288 with 1 Axes>"
            ]
          },
          "metadata": {
            "needs_background": "light"
          },
          "output_type": "display_data"
        }
      ],
      "source": [
        "#l2 =Ridge to find best alpha\n",
        "predict_val=[]\n",
        "predict_train=[]\n",
        "min=[]\n",
        "C_param_range = [0.001,0.01,0.1,1,5,10,50,100]\n",
        "for i in C_param_range:\n",
        "    lr_clf=LogisticRegression(C=i)\n",
        "    lr_clf.fit(X_train,y_train)\n",
        "    pred_val=lr_clf.predict(X_val)\n",
        "    accuracy_val=accuracy_score(y_val,pred_val)\n",
        "    err_val=1-accuracy_val\n",
        "    predict_val.append(1-accuracy_val)\n",
        "    \n",
        "    pred_train=lr_clf.predict(X_train)\n",
        "    accuracy_train=accuracy_score(y_train,pred_train)\n",
        "    predict_train.append(1-accuracy_train)\n",
        "\n",
        "\n",
        "    \n",
        "fig, ax = plt.subplots()\n",
        "ax.plot(C_param_range, predict_train, '-b', label='Train')\n",
        "ax.plot(C_param_range, predict_val, '-r', label='Cross_validation')\n",
        "plt.xlabel(\"lambda (Regularization)\")\n",
        "plt.ylabel(\"Cost Function\")\n",
        "leg = ax.legend();\n",
        "#overfitting of the data train error less than cross as c inverse lambda,the x axis c not lambda "
      ]
    },
    {
      "cell_type": "code",
      "execution_count": null,
      "id": "d8c6b996",
      "metadata": {
        "id": "d8c6b996",
        "outputId": "45a81f31-ba3f-4a79-9069-d0e3d0480f0d"
      },
      "outputs": [
        {
          "data": {
            "text/plain": [
              "100"
            ]
          },
          "execution_count": 219,
          "metadata": {},
          "output_type": "execute_result"
        }
      ],
      "source": [
        "#best lambda is the one the less error in train and cross validation\n",
        "best_lambda=C_param_range[np.argmin(predict_val)]\n",
        "best_lambda"
      ]
    },
    {
      "cell_type": "code",
      "execution_count": null,
      "id": "eda15de8",
      "metadata": {
        "id": "eda15de8",
        "outputId": "07544e4b-1a9a-4af6-ff2b-261cd08212e7"
      },
      "outputs": [
        {
          "name": "stdout",
          "output_type": "stream",
          "text": [
            "0.9991607658012064\n",
            "              precision    recall  f1-score   support\n",
            "\n",
            "           0       1.00      1.00      1.00    209485\n",
            "           1       0.97      0.24      0.39       230\n",
            "\n",
            "    accuracy                           1.00    209715\n",
            "   macro avg       0.98      0.62      0.69    209715\n",
            "weighted avg       1.00      1.00      1.00    209715\n",
            "\n"
          ]
        },
        {
          "data": {
            "text/plain": [
              "array([[209483,      2],\n",
              "       [   174,     56]], dtype=int64)"
            ]
          },
          "execution_count": 220,
          "metadata": {},
          "output_type": "execute_result"
        }
      ],
      "source": [
        "best_lambda=C_param_range[np.argmin(predict_val)]\n",
        "lr_clf=LogisticRegression(C=best_lambda)\n",
        "lr_clf.fit(X_train,y_train)\n",
        "pred_ridge=lr_clf.predict(X_test)\n",
        "accuracy_ridge=accuracy_score(y_test,pred_ridge)\n",
        "print(accuracy_ridge)\n",
        "print(classification_report(y_test,pred_ridge))\n",
        "confusion_matrix(y_test,pred_ridge)"
      ]
    },
    {
      "cell_type": "code",
      "execution_count": null,
      "id": "c31396de",
      "metadata": {
        "id": "c31396de",
        "outputId": "220a86c0-2f59-4d44-f0ec-52b454cf5493"
      },
      "outputs": [
        {
          "name": "stdout",
          "output_type": "stream",
          "text": [
            "0.999184607681854\n"
          ]
        }
      ],
      "source": [
        "results_fold_ridge= cross_val_score(lr_clf, x_scaled, y, cv=kf)\n",
        "print(np.mean(results_fold_ridge))"
      ]
    },
    {
      "cell_type": "code",
      "execution_count": null,
      "id": "166be2a0",
      "metadata": {
        "id": "166be2a0",
        "outputId": "afd991bc-209a-41f9-d0e1-519d23bf5a36"
      },
      "outputs": [
        {
          "name": "stdout",
          "output_type": "stream",
          "text": [
            "0.9991807929809504\n"
          ]
        }
      ],
      "source": [
        "results_sfold_ridge= cross_val_score(lr_clf, x_scaled, y, cv=skf)\n",
        "print(np.mean(results_sfold_ridge))"
      ]
    },
    {
      "cell_type": "code",
      "execution_count": null,
      "id": "b76e0480",
      "metadata": {
        "id": "b76e0480",
        "outputId": "6b166a5f-770b-4e17-d786-eab3f541222c"
      },
      "outputs": [
        {
          "data": {
            "image/png": "[encoded data removed]",
            "text/plain": [
              "<Figure size 432x288 with 1 Axes>"
            ]
          },
          "metadata": {
            "needs_background": "light"
          },
          "output_type": "display_data"
        }
      ],
      "source": [
        "#Regularization Lasso to get best lambda \n",
        "predict_val=[]\n",
        "predict_train=[]\n",
        "min=[]\n",
        "C_param_range = [0.001,0.01,0.1,1,5,10,50,100]\n",
        "for i in C_param_range:\n",
        "    lr_clf_lasso=LogisticRegression(penalty=\"l1\",solver=\"liblinear\",C=i)\n",
        "    lr_clf_lasso.fit(X_train,y_train)\n",
        "    pred_val=lr_clf_lasso.predict(X_val)\n",
        "    accuracy_val=accuracy_score(y_val,pred_val)\n",
        "    err_val=1-accuracy_val\n",
        "    predict_val.append(1-accuracy_val)\n",
        "    \n",
        "    pred_train=lr_clf_lasso.predict(X_train)\n",
        "    accuracy_train=accuracy_score(y_train,pred_train)\n",
        "    predict_train.append(1-accuracy_train)\n",
        "\n",
        "\n",
        "    \n",
        "fig, ax = plt.subplots()\n",
        "ax.plot(C_param_range, predict_train, '-b', label='Train')\n",
        "ax.plot(C_param_range, predict_val, '-r', label='Cross_validation')\n",
        "plt.xlabel(\"lambda (Regularization)\")\n",
        "plt.ylabel(\"Cost Function\")\n",
        "leg = ax.legend();"
      ]
    },
    {
      "cell_type": "code",
      "execution_count": null,
      "id": "e3b504ac",
      "metadata": {
        "id": "e3b504ac",
        "outputId": "e715ac9c-88f1-4304-a9db-0985a04b4e87"
      },
      "outputs": [
        {
          "data": {
            "text/plain": [
              "100"
            ]
          },
          "execution_count": 224,
          "metadata": {},
          "output_type": "execute_result"
        }
      ],
      "source": [
        "best_lambda=C_param_range[np.argmin(predict_val)]\n",
        "best_lambda\n",
        "# best_lambda is one with the less error in both train and cross\n",
        "#C=1/2*lambda "
      ]
    },
    {
      "cell_type": "code",
      "execution_count": null,
      "id": "50706610",
      "metadata": {
        "id": "50706610",
        "outputId": "f9bd4846-d667-4909-8832-2f62e990d6ee"
      },
      "outputs": [
        {
          "name": "stdout",
          "output_type": "stream",
          "text": [
            "0.9991607658012064\n",
            "              precision    recall  f1-score   support\n",
            "\n",
            "           0       1.00      1.00      1.00    209485\n",
            "           1       0.97      0.24      0.39       230\n",
            "\n",
            "    accuracy                           1.00    209715\n",
            "   macro avg       0.98      0.62      0.69    209715\n",
            "weighted avg       1.00      1.00      1.00    209715\n",
            "\n"
          ]
        },
        {
          "data": {
            "text/plain": [
              "array([[209483,      2],\n",
              "       [   174,     56]], dtype=int64)"
            ]
          },
          "execution_count": 225,
          "metadata": {},
          "output_type": "execute_result"
        }
      ],
      "source": [
        "# best_lambda is one with the less error in both train and cross\n",
        "best_lambda=C_param_range[np.argmin(predict_val)]\n",
        "lr_clf_lasso=LogisticRegression(C=best_lambda)\n",
        "lr_clf_lasso.fit(X_train,y_train)\n",
        "pred_lasso=lr_clf_lasso.predict(X_test)\n",
        "accuracy_lasso=accuracy_score(y_test,pred_lasso)\n",
        "print(accuracy_lasso)\n",
        "print(classification_report(y_test,pred_lasso))\n",
        "confusion_matrix(y_test,pred_lasso)\n",
        "#testing on the best C=0.8 and lasso regularization"
      ]
    },
    {
      "cell_type": "code",
      "execution_count": null,
      "id": "21fbcce7",
      "metadata": {
        "id": "21fbcce7",
        "outputId": "6635552b-137e-4197-a88a-b91222a2ab25"
      },
      "outputs": [
        {
          "name": "stdout",
          "output_type": "stream",
          "text": [
            "0.999184607681854\n"
          ]
        }
      ],
      "source": [
        "#Testing on kfold\n",
        "results_fold_lasso= cross_val_score(lr_clf_lasso, x_scaled, y, cv=kf)\n",
        "print(np.mean(results_fold_lasso))"
      ]
    },
    {
      "cell_type": "code",
      "execution_count": null,
      "id": "19934135",
      "metadata": {
        "id": "19934135",
        "outputId": "03ad5495-7d94-41e4-9815-586190a9545f"
      },
      "outputs": [
        {
          "name": "stdout",
          "output_type": "stream",
          "text": [
            "0.9991807929809504\n"
          ]
        }
      ],
      "source": [
        "results_sfold_lasso= cross_val_score(lr_clf_lasso, x_scaled, y, cv=skf)\n",
        "print(np.mean(results_sfold_lasso))"
      ]
    },
    {
      "cell_type": "code",
      "execution_count": null,
      "id": "53af45f2",
      "metadata": {
        "id": "53af45f2",
        "outputId": "7b0f6884-e54e-403e-86ce-269498e5b0ce"
      },
      "outputs": [
        {
          "name": "stdout",
          "output_type": "stream",
          "text": [
            "Max Accuracy: 0.9993019097346398\n",
            "best_alpha 100\n"
          ]
        }
      ],
      "source": [
        "#Testing using cross_val_score on Lasso another way this method divides the data and get the highest score based on cross and test \n",
        "predict_val=[]\n",
        "predict_train=[]\n",
        "min=[]\n",
        "scores_val=[]\n",
        "C_param_range = [0.001,0.01,0.1,1,5,10,100,500]\n",
        "for i in C_param_range:\n",
        "    lr_clf=LogisticRegression(penalty=\"l1\",solver=\"liblinear\",C=i)\n",
        "    lr_clf.fit(X_train,y_train)\n",
        "    pred_val=lr_clf.predict(X_val)\n",
        "    accuracy_val=accuracy_score(y_val,pred_val)\n",
        "    err_val=1-accuracy_val\n",
        "    predict_val.append(1-accuracy_val)\n",
        "    \n",
        "    pred_train=lr_clf.predict(X_train)\n",
        "    accuracy_train=accuracy_score(y_train,pred_train)\n",
        "    predict_train.append(1-accuracy_train)\n",
        "    score=cross_val_score(lr_clf,x_scaled,y,cv=skf)\n",
        "    mean_score=np.mean(score)\n",
        "    scores_val.append(mean_score)\n",
        "\n",
        "\n",
        "    \n",
        "print(\"Max Accuracy:\",np.max(scores_val))\n",
        "print(\"best_alpha\",C_param_range[np.argmax(scores_val)])"
      ]
    },
    {
      "cell_type": "code",
      "execution_count": null,
      "id": "cc2275d5",
      "metadata": {
        "id": "cc2275d5",
        "outputId": "0b083fef-83e2-4f26-924d-f6597d0f674b"
      },
      "outputs": [
        {
          "name": "stdout",
          "output_type": "stream",
          "text": [
            "              precision    recall  f1-score   support\n",
            "\n",
            "           0       1.00      1.00      1.00    209485\n",
            "           1       0.90      0.42      0.57       230\n",
            "\n",
            "    accuracy                           1.00    209715\n",
            "   macro avg       0.95      0.71      0.78    209715\n",
            "weighted avg       1.00      1.00      1.00    209715\n",
            "\n"
          ]
        },
        {
          "data": {
            "text/plain": [
              "array([[209474,     11],\n",
              "       [   134,     96]], dtype=int64)"
            ]
          },
          "execution_count": 229,
          "metadata": {},
          "output_type": "execute_result"
        }
      ],
      "source": [
        "#getting the classification report and confusion matrix\n",
        "lr_clf=LogisticRegression(penalty=\"l1\",solver=\"liblinear\",C=500)\n",
        "lr_clf.fit(X_train,y_train)\n",
        "pred_test=lr_clf.predict(X_test)\n",
        "accuracy_val=accuracy_score(y_test,pred_test)\n",
        "print(classification_report(y_test,pred_test))\n",
        "confusion_matrix(y_test,pred_test)"
      ]
    },
    {
      "cell_type": "code",
      "execution_count": null,
      "id": "df09adb9",
      "metadata": {
        "id": "df09adb9",
        "outputId": "76b358ca-15c9-450f-933d-32e6399df8bf"
      },
      "outputs": [
        {
          "name": "stdout",
          "output_type": "stream",
          "text": [
            "Max Accuracy: 0.9992284767422455\n",
            "best_alpha 500\n"
          ]
        }
      ],
      "source": [
        "#cross_val_score on Ridge another way which divides the data and get the best score\n",
        "predict_val=[]\n",
        "predict_train=[]\n",
        "min=[]\n",
        "scores_val=[]\n",
        "C_param_range = [0.001,0.01,0.1,1,5,10,100,500]\n",
        "for i in C_param_range:\n",
        "    lr_clf=LogisticRegression(penalty=\"l2\",C=i)\n",
        "    lr_clf.fit(X_train,y_train)\n",
        "    pred_val=lr_clf.predict(X_val)\n",
        "    accuracy_val=accuracy_score(y_val,pred_val)\n",
        "    err_val=1-accuracy_val\n",
        "    predict_val.append(1-accuracy_val)\n",
        "    \n",
        "    pred_train=lr_clf.predict(X_train)\n",
        "    accuracy_train=accuracy_score(y_train,pred_train)\n",
        "    predict_train.append(1-accuracy_train)\n",
        "    score=cross_val_score(lr_clf,x_scaled,y,cv=skf)\n",
        "    mean_score=np.mean(score)\n",
        "    scores_val.append(mean_score)\n",
        "\n",
        "\n",
        "    \n",
        "print(\"Max Accuracy:\",np.max(scores_val))\n",
        "print(\"best_alpha\",C_param_range[np.argmax(scores_val)])"
      ]
    },
    {
      "cell_type": "code",
      "execution_count": null,
      "id": "dabdf360",
      "metadata": {
        "id": "dabdf360",
        "outputId": "68373dea-1836-4ae4-9253-5dadfad89b4a"
      },
      "outputs": [
        {
          "name": "stdout",
          "output_type": "stream",
          "text": [
            "              precision    recall  f1-score   support\n",
            "\n",
            "           0       1.00      1.00      1.00    209485\n",
            "           1       0.95      0.30      0.46       230\n",
            "\n",
            "    accuracy                           1.00    209715\n",
            "   macro avg       0.97      0.65      0.73    209715\n",
            "weighted avg       1.00      1.00      1.00    209715\n",
            "\n"
          ]
        },
        {
          "data": {
            "text/plain": [
              "array([[209481,      4],\n",
              "       [   161,     69]], dtype=int64)"
            ]
          },
          "execution_count": 231,
          "metadata": {},
          "output_type": "execute_result"
        }
      ],
      "source": [
        "#getting confusion matrix and classification report\n",
        "lr_clf=LogisticRegression(penalty=\"l2\",C=500)\n",
        "lr_clf.fit(X_train,y_train)\n",
        "pred_test=lr_clf.predict(X_test)\n",
        "accuracy_val=accuracy_score(y_test,pred_test)\n",
        "print(classification_report(y_test,pred_test))\n",
        "confusion_matrix(y_test,pred_test)"
      ]
    },
    {
      "cell_type": "code",
      "execution_count": null,
      "id": "7c689a81",
      "metadata": {
        "id": "7c689a81",
        "outputId": "01ad62e6-12f7-4bcc-865f-47c2c9bf0904"
      },
      "outputs": [
        {
          "name": "stdout",
          "output_type": "stream",
          "text": [
            "alpha: 100.000000\n"
          ]
        }
      ],
      "source": [
        "#Another way to test the best c for the model \n",
        "C_param_range = [0.001,0.01,0.1,1,5,10,100]\n",
        "cv = RepeatedKFold(n_splits=10, n_repeats=3, random_state=1)\n",
        "# define model\n",
        "model = RidgeCV(alphas=C_param_range, cv=cv, scoring='neg_mean_absolute_error')\n",
        "# fit model\n",
        "model.fit(x_scaled, y)\n",
        "# summarize chosen configuration\n",
        "print('alpha: %f' % model.alpha_)"
      ]
    },
    {
      "cell_type": "code",
      "execution_count": null,
      "id": "85607ff8",
      "metadata": {
        "id": "85607ff8",
        "outputId": "37388fb6-f65e-430b-ee00-eec0d5cb1552"
      },
      "outputs": [
        {
          "name": "stdout",
          "output_type": "stream",
          "text": [
            "MAE: -0.001\n",
            "Config: {'C': 100}\n"
          ]
        }
      ],
      "source": [
        "from sklearn.model_selection import GridSearchCV\n",
        "model = LogisticRegression(penalty=\"l2\")\n",
        "# define model evaluation method\n",
        "cv = RepeatedKFold(n_splits=10, n_repeats=3, random_state=1)\n",
        "# define grid\n",
        "grid = dict()\n",
        "grid['C'] = [0.001,0.01,0.1,1,5,10,100]\n",
        "# define search\n",
        "search = GridSearchCV(model, grid, scoring='neg_mean_absolute_error', cv=cv, n_jobs=-1)\n",
        "# perform the search\n",
        "results = search.fit(x_scaled, y)\n",
        "# summarize\n",
        "print('MAE: %.3f' % results.best_score_)\n",
        "print('Config: %s' % results.best_params_)"
      ]
    },
    {
      "cell_type": "code",
      "execution_count": null,
      "id": "ad8c0a15",
      "metadata": {
        "id": "ad8c0a15",
        "outputId": "2c662798-d407-4afe-ae23-21e7369e15c8"
      },
      "outputs": [
        {
          "name": "stdout",
          "output_type": "stream",
          "text": [
            "MAE: -0.001\n",
            "Config: {'C': 100}\n"
          ]
        }
      ],
      "source": [
        "#Another way to test the best c for the model \n",
        "model=LogisticRegression(penalty=\"l1\",solver=\"liblinear\")\n",
        "cv = RepeatedKFold(n_splits=10, n_repeats=3, random_state=1)\n",
        "# define grid\n",
        "grid = dict()\n",
        "grid['C'] = [0.001,0.01,0.1,1,5,10,100]\n",
        "\n",
        "# define search\n",
        "search = GridSearchCV(model, grid, scoring='neg_mean_absolute_error', cv=cv, n_jobs=-1)\n",
        "# perform the search\n",
        "results = search.fit(x_scaled, y)\n",
        "# summarize\n",
        "print('MAE: %.3f' % results.best_score_)\n",
        "print('Config: %s' % results.best_params_)"
      ]
    },
    {
      "cell_type": "code",
      "execution_count": null,
      "id": "76f4ae4d",
      "metadata": {
        "id": "76f4ae4d"
      },
      "outputs": [],
      "source": [
        "#recall=tp/tp+fn(true positive rate)\n",
        "#precision fp/tn+fp (false positive rate)"
      ]
    },
    {
      "cell_type": "code",
      "execution_count": null,
      "id": "3e3fe689",
      "metadata": {
        "id": "3e3fe689"
      },
      "outputs": [],
      "source": [
        ""
      ]
    }
  ],
  "metadata": {
    "kernelspec": {
      "display_name": "Python 3 (ipykernel)",
      "language": "python",
      "name": "python3"
    },
    "language_info": {
      "codemirror_mode": {
        "name": "ipython",
        "version": 3
      },
      "file_extension": ".py",
      "mimetype": "text/x-python",
      "name": "python",
      "nbconvert_exporter": "python",
      "pygments_lexer": "ipython3",
      "version": "3.9.7"
    },
    "colab": {
      "name": "Logistic2_finalll_43-3247.ipynb",
      "provenance": [],
      "include_colab_link": true
    }
  },
  "nbformat": 4,
  "nbformat_minor": 5
}