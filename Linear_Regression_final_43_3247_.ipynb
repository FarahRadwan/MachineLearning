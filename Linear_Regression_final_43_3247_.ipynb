{
  "cells": [
    {
      "cell_type": "markdown",
      "metadata": {
        "id": "view-in-github",
        "colab_type": "text"
      },
      "source": [
        "<a href=\"https://colab.research.google.com/github/FarahRadwan/MachineLearning/blob/main/Linear_Regression_final_43_3247_.ipynb\" target=\"_parent\"><img src=\"https://colab.research.google.com/assets/colab-badge.svg\" alt=\"Open In Colab\"/></a>"
      ]
    },
    {
      "cell_type": "code",
      "execution_count": null,
      "id": "379296b0",
      "metadata": {
        "id": "379296b0"
      },
      "outputs": [],
      "source": [
        "import numpy as np\n",
        "import pandas as pd\n",
        "import matplotlib.pyplot as plt\n",
        "import seaborn as sns\n",
        "from sklearn.model_selection import train_test_split,cross_val_score\n",
        "from sklearn import metrics, linear_model\n",
        "from sklearn.metrics import confusion_matrix\n",
        "from sklearn.metrics import accuracy_score, precision_score, recall_score, f1_score\n",
        "from sklearn.linear_model import Ridge\n",
        "from sklearn.preprocessing import PolynomialFeatures\n",
        "from sklearn import preprocessing\n",
        "from sklearn.metrics import accuracy_score, r2_score\n",
        "import warnings\n",
        "warnings.filterwarnings(\"ignore\")"
      ]
    },
    {
      "cell_type": "code",
      "execution_count": null,
      "id": "360a8a11",
      "metadata": {
        "id": "360a8a11"
      },
      "outputs": [],
      "source": [
        "\n",
        "from sklearn.datasets import load_boston\n",
        "boston = load_boston()"
      ]
    },
    {
      "cell_type": "code",
      "execution_count": null,
      "id": "40ce8c12",
      "metadata": {
        "id": "40ce8c12",
        "outputId": "733ec2ad-dae2-4916-f892-1ee1ea0a797e"
      },
      "outputs": [
        {
          "data": {
            "text/html": [
              "<div>\n",
              "<style scoped>\n",
              "    .dataframe tbody tr th:only-of-type {\n",
              "        vertical-align: middle;\n",
              "    }\n",
              "\n",
              "    .dataframe tbody tr th {\n",
              "        vertical-align: top;\n",
              "    }\n",
              "\n",
              "    .dataframe thead th {\n",
              "        text-align: right;\n",
              "    }\n",
              "</style>\n",
              "<table border=\"1\" class=\"dataframe\">\n",
              "  <thead>\n",
              "    <tr style=\"text-align: right;\">\n",
              "      <th></th>\n",
              "      <th>CRIM</th>\n",
              "      <th>ZN</th>\n",
              "      <th>INDUS</th>\n",
              "      <th>CHAS</th>\n",
              "      <th>NOX</th>\n",
              "      <th>RM</th>\n",
              "      <th>AGE</th>\n",
              "      <th>DIS</th>\n",
              "      <th>RAD</th>\n",
              "      <th>TAX</th>\n",
              "      <th>PTRATIO</th>\n",
              "      <th>B</th>\n",
              "      <th>LSTAT</th>\n",
              "    </tr>\n",
              "  </thead>\n",
              "  <tbody>\n",
              "    <tr>\n",
              "      <th>0</th>\n",
              "      <td>0.00632</td>\n",
              "      <td>18.0</td>\n",
              "      <td>2.31</td>\n",
              "      <td>0.0</td>\n",
              "      <td>0.538</td>\n",
              "      <td>6.575</td>\n",
              "      <td>65.2</td>\n",
              "      <td>4.0900</td>\n",
              "      <td>1.0</td>\n",
              "      <td>296.0</td>\n",
              "      <td>15.3</td>\n",
              "      <td>396.90</td>\n",
              "      <td>4.98</td>\n",
              "    </tr>\n",
              "    <tr>\n",
              "      <th>1</th>\n",
              "      <td>0.02731</td>\n",
              "      <td>0.0</td>\n",
              "      <td>7.07</td>\n",
              "      <td>0.0</td>\n",
              "      <td>0.469</td>\n",
              "      <td>6.421</td>\n",
              "      <td>78.9</td>\n",
              "      <td>4.9671</td>\n",
              "      <td>2.0</td>\n",
              "      <td>242.0</td>\n",
              "      <td>17.8</td>\n",
              "      <td>396.90</td>\n",
              "      <td>9.14</td>\n",
              "    </tr>\n",
              "    <tr>\n",
              "      <th>2</th>\n",
              "      <td>0.02729</td>\n",
              "      <td>0.0</td>\n",
              "      <td>7.07</td>\n",
              "      <td>0.0</td>\n",
              "      <td>0.469</td>\n",
              "      <td>7.185</td>\n",
              "      <td>61.1</td>\n",
              "      <td>4.9671</td>\n",
              "      <td>2.0</td>\n",
              "      <td>242.0</td>\n",
              "      <td>17.8</td>\n",
              "      <td>392.83</td>\n",
              "      <td>4.03</td>\n",
              "    </tr>\n",
              "    <tr>\n",
              "      <th>3</th>\n",
              "      <td>0.03237</td>\n",
              "      <td>0.0</td>\n",
              "      <td>2.18</td>\n",
              "      <td>0.0</td>\n",
              "      <td>0.458</td>\n",
              "      <td>6.998</td>\n",
              "      <td>45.8</td>\n",
              "      <td>6.0622</td>\n",
              "      <td>3.0</td>\n",
              "      <td>222.0</td>\n",
              "      <td>18.7</td>\n",
              "      <td>394.63</td>\n",
              "      <td>2.94</td>\n",
              "    </tr>\n",
              "    <tr>\n",
              "      <th>4</th>\n",
              "      <td>0.06905</td>\n",
              "      <td>0.0</td>\n",
              "      <td>2.18</td>\n",
              "      <td>0.0</td>\n",
              "      <td>0.458</td>\n",
              "      <td>7.147</td>\n",
              "      <td>54.2</td>\n",
              "      <td>6.0622</td>\n",
              "      <td>3.0</td>\n",
              "      <td>222.0</td>\n",
              "      <td>18.7</td>\n",
              "      <td>396.90</td>\n",
              "      <td>5.33</td>\n",
              "    </tr>\n",
              "  </tbody>\n",
              "</table>\n",
              "</div>"
            ],
            "text/plain": [
              "      CRIM    ZN  INDUS  CHAS    NOX     RM   AGE     DIS  RAD    TAX  \\\n",
              "0  0.00632  18.0   2.31   0.0  0.538  6.575  65.2  4.0900  1.0  296.0   \n",
              "1  0.02731   0.0   7.07   0.0  0.469  6.421  78.9  4.9671  2.0  242.0   \n",
              "2  0.02729   0.0   7.07   0.0  0.469  7.185  61.1  4.9671  2.0  242.0   \n",
              "3  0.03237   0.0   2.18   0.0  0.458  6.998  45.8  6.0622  3.0  222.0   \n",
              "4  0.06905   0.0   2.18   0.0  0.458  7.147  54.2  6.0622  3.0  222.0   \n",
              "\n",
              "   PTRATIO       B  LSTAT  \n",
              "0     15.3  396.90   4.98  \n",
              "1     17.8  396.90   9.14  \n",
              "2     17.8  392.83   4.03  \n",
              "3     18.7  394.63   2.94  \n",
              "4     18.7  396.90   5.33  "
            ]
          },
          "execution_count": 109,
          "metadata": {},
          "output_type": "execute_result"
        }
      ],
      "source": [
        "df = pd.DataFrame(boston.data, columns = boston.feature_names)\n",
        "df.head()"
      ]
    },
    {
      "cell_type": "code",
      "execution_count": null,
      "id": "2b2da951",
      "metadata": {
        "id": "2b2da951",
        "outputId": "1f714f00-b033-4f36-e4fb-5dc8b3d32dc1"
      },
      "outputs": [
        {
          "data": {
            "text/plain": [
              "CRIM       0\n",
              "ZN         0\n",
              "INDUS      0\n",
              "CHAS       0\n",
              "NOX        0\n",
              "RM         0\n",
              "AGE        0\n",
              "DIS        0\n",
              "RAD        0\n",
              "TAX        0\n",
              "PTRATIO    0\n",
              "B          0\n",
              "LSTAT      0\n",
              "dtype: int64"
            ]
          },
          "execution_count": 110,
          "metadata": {},
          "output_type": "execute_result"
        }
      ],
      "source": [
        "#Data doesnot contain null values\n",
        "df.isnull().sum()"
      ]
    },
    {
      "cell_type": "code",
      "execution_count": null,
      "id": "f29ba6d2",
      "metadata": {
        "id": "f29ba6d2"
      },
      "outputs": [],
      "source": [
        "#Scaling the data as they are not in the same range\n",
        "scaler = preprocessing.MinMaxScaler()\n",
        "x_scaled = scaler.fit_transform(df)\n",
        "#y_scaled=scaler.fit_transform(y)"
      ]
    },
    {
      "cell_type": "code",
      "execution_count": null,
      "id": "375bba4b",
      "metadata": {
        "id": "375bba4b",
        "outputId": "e2422dbb-1bca-41fe-d069-b1feaffd453d"
      },
      "outputs": [
        {
          "name": "stdout",
          "output_type": "stream",
          "text": [
            "X_train shape: (303, 13)\n",
            "X_test shape: (102, 13)\n",
            "y_train shape: (303,)\n",
            "y_test shape: (102,)\n",
            "X_val shape: (303,)\n",
            "y val shape: (102,)\n"
          ]
        }
      ],
      "source": [
        "#Dividing data into train,test,validation 60,20,20\n",
        "y = boston.target\n",
        "X_train, X_test, y_train, y_test = train_test_split(x_scaled, y, test_size=0.2)\n",
        "X_train, X_val, y_train, y_val = train_test_split(X_train, y_train, \n",
        "    test_size=0.25) #0.8*0.25=0.2\n",
        "print(\"X_train shape: {}\".format(X_train.shape))\n",
        "print(\"X_test shape: {}\".format(X_test.shape))\n",
        "print(\"y_train shape: {}\".format(y_train.shape))\n",
        "print(\"y_test shape: {}\".format(y_test.shape))\n",
        "print(\"X_val shape: {}\".format(y_train.shape))\n",
        "print(\"y val shape: {}\".format(y_test.shape))"
      ]
    },
    {
      "cell_type": "code",
      "execution_count": null,
      "id": "7333caff",
      "metadata": {
        "id": "7333caff",
        "outputId": "edffb32f-014a-43ca-db88-0fc9d4e0b28a"
      },
      "outputs": [
        {
          "name": "stdout",
          "output_type": "stream",
          "text": [
            "RMSE of Linear Regression without Regularization 4.677964486210499\n",
            "Accuracy_score: 0.7570083375226426\n",
            "RMSE of Linear Regression without Regularization Validation 5.3294987620221015\n",
            "Accuracy_score Validation: 0.6242875200017761\n"
          ]
        }
      ],
      "source": [
        "#Applying Linear regression\n",
        "lm = linear_model.LinearRegression()\n",
        "model = lm.fit(X_train, y_train)\n",
        "predictions = lm.predict(X_test)\n",
        "print(\"RMSE of Linear Regression without Regularization\",np.sqrt(metrics.mean_squared_error(y_test,predictions)))\n",
        "acc=lm.score(X_test,y_test)\n",
        "print(\"Accuracy_score:\",acc)\n",
        "r2 = r2_score(y_test, predictions)\n",
        "predictions_val=lm.predict(X_val)\n",
        "print(\"RMSE of Linear Regression without Regularization Validation\",np.sqrt(metrics.mean_squared_error(y_val,predictions_val)))\n",
        "acc_val=lm.score(X_val,y_val)\n",
        "print(\"Accuracy_score Validation:\",acc_val)\n",
        "#The fisrt 2 outputs on the test"
      ]
    },
    {
      "cell_type": "code",
      "execution_count": null,
      "id": "e1b9593f",
      "metadata": {
        "id": "e1b9593f"
      },
      "outputs": [],
      "source": [
        "#To get the best degree without regularization\n",
        "err_val=[]\n",
        "deg=[]\n",
        "err_train=[]\n",
        "score_val=[]\n",
        "score_train=[]\n",
        "errval=[]\n",
        "errtrain=[]\n",
        "for i in range(10):\n",
        "    x=i+1\n",
        "    deg.append(x)\n",
        "    poly = PolynomialFeatures(degree = x)\n",
        "    X_poly = poly.fit_transform(X_train)\n",
        "    x_poly_val=poly.transform(X_val)\n",
        "    pol=linear_model.LinearRegression()\n",
        "    pol.fit(X_poly, y_train) \n",
        "    y_pred=pol.predict(x_poly_val)\n",
        "    scre_val=pol.score(x_poly_val,y_val)\n",
        "    mean_error=np.sqrt(metrics.mean_squared_error(y_val,y_pred))\n",
        "    err_val.append(mean_error)\n",
        "    score_val.append(scre_val)\n",
        "    y_train_pred=pol.predict(X_poly)\n",
        "    mean_error_train=np.sqrt(metrics.mean_squared_error(y_train,y_train_pred))\n",
        "    err_train.append(mean_error_train)\n",
        "    scre_train=pol.score(X_poly,y_train)"
      ]
    },
    {
      "cell_type": "code",
      "execution_count": null,
      "id": "efdba70c",
      "metadata": {
        "id": "efdba70c",
        "outputId": "637be984-c567-4254-c96c-9be0708d29ba"
      },
      "outputs": [
        {
          "data": {
            "image/png": "[encoded data removed]",
            "text/plain": [
              "<Figure size 432x288 with 1 Axes>"
            ]
          },
          "metadata": {
            "needs_background": "light"
          },
          "output_type": "display_data"
        }
      ],
      "source": [
        "fig, ax = plt.subplots()\n",
        "ax.plot(deg, err_train, '-b', label='Train')\n",
        "ax.plot(deg, err_val, '-r', label='Cross_validation')\n",
        "plt.xlabel(\"lambda\")\n",
        "plt.ylabel(\"Cost Function\")\n",
        "leg = ax.legend();"
      ]
    },
    {
      "cell_type": "code",
      "execution_count": null,
      "id": "d22022d2",
      "metadata": {
        "id": "d22022d2",
        "outputId": "025861c8-6ad5-4bbe-e67c-0de2facf415e"
      },
      "outputs": [
        {
          "name": "stdout",
          "output_type": "stream",
          "text": [
            "Degree of the polynomial is 2\n",
            "RMSE without Regularization on validation 4.372324995631432\n",
            "score without regularization on validation 74.71239138259824\n"
          ]
        }
      ],
      "source": [
        "best_degree=deg[np.argmin(err_val)]\n",
        "print(\"Degree of the polynomial is\",best_degree)\n",
        "print(\"RMSE without Regularization on validation\",np.min(err_val))\n",
        "print(\"score without regularization on validation\",np.max(score_val)*100)"
      ]
    },
    {
      "cell_type": "code",
      "execution_count": null,
      "id": "4392d4c9",
      "metadata": {
        "id": "4392d4c9",
        "outputId": "210a3b6e-de43-420a-adff-bb5385a90730"
      },
      "outputs": [
        {
          "name": "stdout",
          "output_type": "stream",
          "text": [
            "score of the best degree on test: 88.59151871081446\n",
            "Error of the best degree on test set: 3.205347736940551\n"
          ]
        }
      ],
      "source": [
        "# get accuracy of best degree on test set without regularization\n",
        "poly = PolynomialFeatures(degree = best_degree)\n",
        "X_poly = poly.fit_transform(X_train)\n",
        "x_poly_test=poly.transform(X_test)\n",
        "pol=linear_model.LinearRegression()\n",
        "pol.fit(X_poly, y_train) \n",
        "y_pred=pol.predict(x_poly_test)\n",
        "score_noregul=pol.score(x_poly_test,y_test)\n",
        "mean_error_noregul=np.sqrt(metrics.mean_squared_error(y_test,y_pred))\n",
        "print(\"score of the best degree on test:\",score_noregul*100)\n",
        "print(\"Error of the best degree on test set:\",mean_error_noregul)"
      ]
    },
    {
      "cell_type": "code",
      "execution_count": null,
      "id": "05f51701",
      "metadata": {
        "id": "05f51701"
      },
      "outputs": [],
      "source": [
        "#Lasso regularization with the best degree obtained\n",
        "err_val=[]\n",
        "deg=[]\n",
        "err_train=[]\n",
        "alpha=[]\n",
        "errval=[]\n",
        "errtrain=[]\n",
        "scr_val=[]\n",
        "scr_train=[]\n",
        "lambdas=[0,0.01,0.02,0.04,0.08,0.16,0.32,0.64,2.56,5.12,10.24,20,100,500,1000]\n",
        "for i in lambdas:\n",
        "    alpha.append(i)\n",
        "    poly = PolynomialFeatures(degree = best_degree)\n",
        "    X_poly = poly.fit_transform(X_train)\n",
        "    x_poly_val=poly.transform(X_val)\n",
        "    pol=linear_model.Lasso(alpha=i)\n",
        "    pol.fit(X_poly, y_train) \n",
        "    scrval=pol.score(x_poly_val,y_val)\n",
        "    scr_val.append(scrval)\n",
        "    errval.append(1-scrval)\n",
        "    y_pred=pol.predict(x_poly_val)\n",
        "    mean_error=np.sqrt(metrics.mean_squared_error(y_val,y_pred))\n",
        "    err_val.append(mean_error)\n",
        "    y_train_pred=pol.predict(X_poly)\n",
        "    scrtrain=pol.score(X_poly,y_train)\n",
        "    scr_train.append(scrtrain)\n",
        "    errtrain.append(1-scrtrain)\n",
        "    mean_error_train=np.sqrt(metrics.mean_squared_error(y_train,y_train_pred))\n",
        "    err_train.append(mean_error_train)"
      ]
    },
    {
      "cell_type": "code",
      "execution_count": null,
      "id": "776398d6",
      "metadata": {
        "id": "776398d6",
        "outputId": "983af81b-1fd7-46e5-e8bc-f652b2d001e7"
      },
      "outputs": [
        {
          "data": {
            "image/png": "[encoded data removed]",
            "text/plain": [
              "<Figure size 432x288 with 1 Axes>"
            ]
          },
          "metadata": {
            "needs_background": "light"
          },
          "output_type": "display_data"
        }
      ],
      "source": [
        "fig, ax = plt.subplots()\n",
        "ax.plot(alpha, err_train, '-b', label='Train')\n",
        "ax.plot(alpha, err_val, '-r', label='Cross_validation')\n",
        "plt.xlabel(\"lambda\")\n",
        "plt.ylabel(\"Cost Function\")\n",
        "leg = ax.legend();\n",
        "#underfitting in the data"
      ]
    },
    {
      "cell_type": "code",
      "execution_count": null,
      "id": "bfeda9e8",
      "metadata": {
        "id": "bfeda9e8",
        "outputId": "2998b905-4218-4370-e18a-80cab6428266"
      },
      "outputs": [
        {
          "data": {
            "text/plain": [
              "0"
            ]
          },
          "execution_count": 119,
          "metadata": {},
          "output_type": "execute_result"
        }
      ],
      "source": [
        "best=lambdas[np.argmin(err_val)]\n",
        "best\n",
        "#best_lambda the less error in both train and cross 0=no regularization"
      ]
    },
    {
      "cell_type": "code",
      "execution_count": null,
      "id": "de9d7fb4",
      "metadata": {
        "id": "de9d7fb4",
        "outputId": "a90b3027-a068-4043-c02d-365f1b23e4d8"
      },
      "outputs": [
        {
          "data": {
            "text/plain": [
              "[3.9596585778212083,\n",
              " 4.606239798638124,\n",
              " 4.972524278772035,\n",
              " 5.260804115958791,\n",
              " 5.556453110068759,\n",
              " 5.623103844404938,\n",
              " 5.591790052924018,\n",
              " 6.2154311903579496,\n",
              " 8.70595189792327,\n",
              " 8.70595189792327,\n",
              " 8.70595189792327,\n",
              " 8.70595189792327,\n",
              " 8.70595189792327,\n",
              " 8.70595189792327,\n",
              " 8.70595189792327]"
            ]
          },
          "execution_count": 120,
          "metadata": {},
          "output_type": "execute_result"
        }
      ],
      "source": [
        "err_val"
      ]
    },
    {
      "cell_type": "code",
      "execution_count": null,
      "id": "44fac0d1",
      "metadata": {
        "id": "44fac0d1",
        "outputId": "c3384462-1e3d-4ed3-cdcc-5317576e111b"
      },
      "outputs": [
        {
          "data": {
            "text/plain": [
              "[2.489214305055393,\n",
              " 3.102545207826686,\n",
              " 3.3637103432230244,\n",
              " 3.720396724289427,\n",
              " 4.207075805062875,\n",
              " 4.6374106791917615,\n",
              " 5.079220709360237,\n",
              " 6.349388539858001,\n",
              " 9.241692400875378,\n",
              " 9.241692400875378,\n",
              " 9.241692400875378,\n",
              " 9.241692400875378,\n",
              " 9.241692400875378,\n",
              " 9.241692400875378,\n",
              " 9.241692400875378]"
            ]
          },
          "execution_count": 121,
          "metadata": {},
          "output_type": "execute_result"
        }
      ],
      "source": [
        "err_train"
      ]
    },
    {
      "cell_type": "code",
      "execution_count": null,
      "id": "468f04ac",
      "metadata": {
        "id": "468f04ac"
      },
      "outputs": [],
      "source": [
        "diff_lasso=[]\n",
        "for i in range (len(err_train)):\n",
        "    diff_lasso.append(np.abs(err_val[i]-err_train[i]))\n",
        "    "
      ]
    },
    {
      "cell_type": "code",
      "execution_count": null,
      "id": "69247b33",
      "metadata": {
        "id": "69247b33",
        "outputId": "b7dcb5bf-cd55-45cc-eca8-169633633c7a"
      },
      "outputs": [
        {
          "data": {
            "text/plain": [
              "[1.4704442727658154,\n",
              " 1.5036945908114379,\n",
              " 1.6088139355490103,\n",
              " 1.5404073916693641,\n",
              " 1.3493773050058842,\n",
              " 0.9856931652131768,\n",
              " 0.512569343563781,\n",
              " 0.13395734950005167,\n",
              " 0.5357405029521072,\n",
              " 0.5357405029521072,\n",
              " 0.5357405029521072,\n",
              " 0.5357405029521072,\n",
              " 0.5357405029521072,\n",
              " 0.5357405029521072,\n",
              " 0.5357405029521072]"
            ]
          },
          "execution_count": 123,
          "metadata": {},
          "output_type": "execute_result"
        }
      ],
      "source": [
        "diff_lasso "
      ]
    },
    {
      "cell_type": "code",
      "execution_count": null,
      "id": "a452c927",
      "metadata": {
        "id": "a452c927",
        "outputId": "3d009a56-904d-40af-d136-9524bbbd7451"
      },
      "outputs": [
        {
          "name": "stdout",
          "output_type": "stream",
          "text": [
            "score_lasso 88.7130752764705\n",
            "error_lasso 3.18822562874957\n"
          ]
        }
      ],
      "source": [
        "#Test with lasso regularizaton with best_degree\n",
        "poly = PolynomialFeatures(degree = best_degree)\n",
        "X_poly = poly.fit_transform(X_train)\n",
        "x_poly_test=poly.transform(X_test)\n",
        "pol=linear_model.Lasso(alpha=best)\n",
        "pol.fit(X_poly, y_train) \n",
        "y_pred=pol.predict(x_poly_test)\n",
        "ypred_lasso=pol.score(x_poly_test,y_test)\n",
        "mean_error_test_lasso=np.sqrt(metrics.mean_squared_error(y_test,y_pred))\n",
        "print(\"score_lasso\",ypred_lasso*100)\n",
        "print(\"error_lasso\",mean_error_test_lasso)"
      ]
    },
    {
      "cell_type": "code",
      "execution_count": null,
      "id": "a57fdce0",
      "metadata": {
        "id": "a57fdce0"
      },
      "outputs": [],
      "source": [
        "#Ridge regularization with the best degree obtained\n",
        "err_val=[]\n",
        "deg=[]\n",
        "err_train=[]\n",
        "alpha=[]\n",
        "errval=[]\n",
        "errtrain=[]\n",
        "scr_val=[]\n",
        "scr_train=[]\n",
        "lambdas=[0,0.01,0.02,0.04,0.08,0.16,0.32,0.64,2.56,5.12,10.24,20,100,500,1000]\n",
        "for i in lambdas:\n",
        "    alpha.append(i)\n",
        "    poly = PolynomialFeatures(degree = best_degree)\n",
        "    X_poly = poly.fit_transform(X_train)\n",
        "    x_poly_val=poly.transform(X_val)\n",
        "    pol=linear_model.Ridge(alpha=i)\n",
        "    pol.fit(X_poly, y_train) \n",
        "    scrval=pol.score(x_poly_val,y_val)\n",
        "    scr_val.append(scrval)\n",
        "    errval.append(1-scrval)\n",
        "    y_pred=pol.predict(x_poly_val)\n",
        "    mean_error=np.sqrt(metrics.mean_squared_error(y_val,y_pred))\n",
        "    err_val.append(mean_error)\n",
        "    y_train_pred=pol.predict(X_poly)\n",
        "    scrtrain=pol.score(X_poly,y_train)\n",
        "    scr_train.append(scrtrain)\n",
        "    errtrain.append(1-scrtrain)\n",
        "    mean_error_train=np.sqrt(metrics.mean_squared_error(y_train,y_train_pred))\n",
        "    err_train.append(mean_error_train)"
      ]
    },
    {
      "cell_type": "code",
      "execution_count": null,
      "id": "3344d263",
      "metadata": {
        "id": "3344d263",
        "outputId": "25778272-3986-4cbb-9300-8d7ed97efd52"
      },
      "outputs": [
        {
          "data": {
            "image/png": "[encoded data removed]",
            "text/plain": [
              "<Figure size 432x288 with 1 Axes>"
            ]
          },
          "metadata": {
            "needs_background": "light"
          },
          "output_type": "display_data"
        }
      ],
      "source": [
        "fig, ax = plt.subplots()\n",
        "ax.plot(alpha, err_train, '-b', label='Train')\n",
        "ax.plot(alpha, err_val, '-r', label='Cross_validation')\n",
        "plt.xlabel(\"Rregularization_lasso\")\n",
        "plt.ylabel(\"Cost Function\")\n",
        "leg = ax.legend();\n",
        "#underfitting in the data"
      ]
    },
    {
      "cell_type": "code",
      "execution_count": null,
      "id": "5713cbe7",
      "metadata": {
        "id": "5713cbe7",
        "outputId": "714a9254-d4b5-43bb-f4b6-d374fed7eb84"
      },
      "outputs": [
        {
          "data": {
            "text/plain": [
              "0"
            ]
          },
          "execution_count": 127,
          "metadata": {},
          "output_type": "execute_result"
        }
      ],
      "source": [
        "best_ridge=lambdas[np.argmin(err_val)]\n",
        "best_ridge\n",
        "#no regularization"
      ]
    },
    {
      "cell_type": "code",
      "execution_count": null,
      "id": "e6b1bae9",
      "metadata": {
        "id": "e6b1bae9",
        "outputId": "d6f7dbf9-5fed-4413-be9c-72c1e117e668"
      },
      "outputs": [
        {
          "data": {
            "text/plain": [
              "[3.7975076506092313,\n",
              " 4.1139557899052175,\n",
              " 4.107981180031315,\n",
              " 4.074952304225693,\n",
              " 4.049906708023118,\n",
              " 4.06159589292646,\n",
              " 4.127579105714644,\n",
              " 4.261460159573438,\n",
              " 4.7090099148276625,\n",
              " 4.9474011761721375,\n",
              " 5.157246341856654,\n",
              " 5.367686438363539]"
            ]
          },
          "execution_count": 128,
          "metadata": {},
          "output_type": "execute_result"
        }
      ],
      "source": [
        "err_val"
      ]
    },
    {
      "cell_type": "code",
      "execution_count": null,
      "id": "8ec364cc",
      "metadata": {
        "id": "8ec364cc",
        "outputId": "891bce47-3799-4a47-f178-85f87f871dae"
      },
      "outputs": [
        {
          "data": {
            "text/plain": [
              "[2.4215632650964722,\n",
              " 2.5074771574192365,\n",
              " 2.577950269830027,\n",
              " 2.6620102492235747,\n",
              " 2.758172117132188,\n",
              " 2.8696066195976906,\n",
              " 3.0095954921513783,\n",
              " 3.199117376620392,\n",
              " 3.753896518668777,\n",
              " 4.083679944518146,\n",
              " 4.442707169711764,\n",
              " 4.862376124282639]"
            ]
          },
          "execution_count": 129,
          "metadata": {},
          "output_type": "execute_result"
        }
      ],
      "source": [
        "err_train"
      ]
    },
    {
      "cell_type": "code",
      "execution_count": null,
      "id": "27c21e46",
      "metadata": {
        "id": "27c21e46",
        "outputId": "39e0c191-1ef1-4595-c0a4-d5403b3c72d9"
      },
      "outputs": [
        {
          "name": "stdout",
          "output_type": "stream",
          "text": [
            "score 87.10153636671983\n",
            "error 3.4082404465026332\n"
          ]
        }
      ],
      "source": [
        "#Test with lasso regularizaton with best_degree\n",
        "poly = PolynomialFeatures(degree = best_degree)\n",
        "X_poly = poly.fit_transform(X_train)\n",
        "x_poly_test=poly.transform(X_test)\n",
        "pol=linear_model.Ridge(alpha=best_ridge)\n",
        "pol.fit(X_poly, y_train) \n",
        "y_pred=pol.predict(x_poly_test)\n",
        "ypred_ridge=pol.score(x_poly_test,y_test)\n",
        "mean_error_test_ridge=np.sqrt(metrics.mean_squared_error(y_test,y_pred))\n",
        "print(\"score\",ypred_ridge*100)\n",
        "print(\"error\",mean_error_test_ridge)"
      ]
    },
    {
      "cell_type": "code",
      "execution_count": null,
      "id": "c69e2fac",
      "metadata": {
        "id": "c69e2fac",
        "outputId": "c96b0099-8d10-4f66-d367-8f8674176b18"
      },
      "outputs": [
        {
          "name": "stdout",
          "output_type": "stream",
          "text": [
            "Error without Regularization: 3.205347736940551\n",
            "score without Regularization: 88.59151871081446\n",
            "Error with Lasso: 3.18822562874957\n",
            "score with Lasso: 88.7130752764705\n",
            "Error with Ridge: 3.4082404465026332\n",
            "score with Ridge: 87.10153636671983\n"
          ]
        }
      ],
      "source": [
        "print(\"Error without Regularization:\",mean_error_noregul)\n",
        "print(\"score without Regularization:\",score_noregul*100)\n",
        "print(\"Error with Lasso:\",mean_error_test_lasso)\n",
        "print(\"score with Lasso:\",ypred_lasso*100)\n",
        "print(\"Error with Ridge:\",mean_error_test_ridge)\n",
        "print(\"score with Ridge:\",ypred_ridge*100)\n",
        "#similar outputs"
      ]
    },
    {
      "cell_type": "code",
      "execution_count": null,
      "id": "af5ddee3",
      "metadata": {
        "id": "af5ddee3",
        "outputId": "92ac2910-0ca6-409d-8e17-4f7258b119ed"
      },
      "outputs": [
        {
          "name": "stdout",
          "output_type": "stream",
          "text": [
            "0\n",
            "1\n",
            "2\n",
            "3\n",
            "4\n",
            "5\n",
            "6\n",
            "7\n",
            "8\n",
            "9\n"
          ]
        },
        {
          "data": {
            "image/png": "[encoded data removed]",
            "text/plain": [
              "<Figure size 432x288 with 1 Axes>"
            ]
          },
          "metadata": {
            "needs_background": "light"
          },
          "output_type": "display_data"
        },
        {
          "data": {
            "image/png": "[encoded data removed]",
            "text/plain": [
              "<Figure size 432x288 with 1 Axes>"
            ]
          },
          "metadata": {
            "needs_background": "light"
          },
          "output_type": "display_data"
        },
        {
          "data": {
            "image/png": "[encoded data removed]",
            "text/plain": [
              "<Figure size 432x288 with 1 Axes>"
            ]
          },
          "metadata": {
            "needs_background": "light"
          },
          "output_type": "display_data"
        },
        {
          "data": {
            "image/png": "[encoded data removed]",
            "text/plain": [
              "<Figure size 432x288 with 1 Axes>"
            ]
          },
          "metadata": {
            "needs_background": "light"
          },
          "output_type": "display_data"
        },
        {
          "data": {
            "image/png": "[encoded data removed]",
            "text/plain": [
              "<Figure size 432x288 with 1 Axes>"
            ]
          },
          "metadata": {
            "needs_background": "light"
          },
          "output_type": "display_data"
        },
        {
          "data": {
            "image/png": "[encoded data removed]",
            "text/plain": [
              "<Figure size 432x288 with 1 Axes>"
            ]
          },
          "metadata": {
            "needs_background": "light"
          },
          "output_type": "display_data"
        },
        {
          "data": {
            "image/png": "[encoded data removed]",
            "text/plain": [
              "<Figure size 432x288 with 1 Axes>"
            ]
          },
          "metadata": {
            "needs_background": "light"
          },
          "output_type": "display_data"
        },
        {
          "data": {
            "image/png": "[encoded data removed]",
            "text/plain": [
              "<Figure size 432x288 with 1 Axes>"
            ]
          },
          "metadata": {
            "needs_background": "light"
          },
          "output_type": "display_data"
        },
        {
          "data": {
            "image/png": "[encoded data removed]",
            "text/plain": [
              "<Figure size 432x288 with 1 Axes>"
            ]
          },
          "metadata": {
            "needs_background": "light"
          },
          "output_type": "display_data"
        },
        {
          "data": {
            "image/png": "[encoded data removed]",
            "text/plain": [
              "<Figure size 432x288 with 1 Axes>"
            ]
          },
          "metadata": {
            "needs_background": "light"
          },
          "output_type": "display_data"
        }
      ],
      "source": [
        "#Lasso Regulurization with degrees \n",
        "min=[]\n",
        "alpha=[]\n",
        "deg=[]\n",
        "best_degree_reg=[]\n",
        "lambdas=[0,0.01,0.02,0.04,0.08,0.16,0.32,0.64,2.56,5.12,10.24,20]\n",
        "for i in range (10):\n",
        "    err_val=[]\n",
        "    for j in lambdas :\n",
        "     poly = PolynomialFeatures(degree = i+1)\n",
        "     X_poly = poly.fit_transform(X_train)\n",
        "     x_poly_val=poly.transform(X_val)\n",
        "     pol=linear_model.Lasso(alpha=j)\n",
        "     pol.fit(X_poly, y_train) \n",
        "     y_pred=pol.predict(x_poly_val)\n",
        "     mean_error=np.sqrt(metrics.mean_squared_error(y_val,y_pred))\n",
        "     err_val.append(mean_error)\n",
        "     y_train_pred=pol.predict(X_poly)\n",
        "     mean_error_train=np.sqrt(metrics.mean_squared_error(y_train,y_train_pred))\n",
        "     err_train.append(mean_error_train)\n",
        "    print(i)\n",
        "    plt.figure()\n",
        "    plt.plot(lambdas,err_val)\n",
        "    x=\"Degree\"+str(i+1)\n",
        "    plt.title(x)\n",
        "    plt.xlabel(\"Alpha\")\n",
        "    plt.ylabel(\"Error\")\n",
        "    min.append(np.min(err_val))\n",
        "    alpha.append(lambdas[np.argmin(err_val)])\n",
        "    deg.append(i+1)\n",
        "   "
      ]
    },
    {
      "cell_type": "code",
      "execution_count": null,
      "id": "c5e67610",
      "metadata": {
        "id": "c5e67610",
        "outputId": "b72cf681-18d2-4ac2-e876-d4843ccd3feb"
      },
      "outputs": [
        {
          "data": {
            "text/plain": [
              "3.9596585778212083"
            ]
          },
          "execution_count": 133,
          "metadata": {},
          "output_type": "execute_result"
        }
      ],
      "source": [
        "np.min(min)\n",
        "#min_error"
      ]
    },
    {
      "cell_type": "code",
      "execution_count": null,
      "id": "741ce5c4",
      "metadata": {
        "id": "741ce5c4",
        "outputId": "fb43854f-dcda-4126-8507-3c93af7a39e0"
      },
      "outputs": [
        {
          "data": {
            "text/plain": [
              "2"
            ]
          },
          "execution_count": 134,
          "metadata": {},
          "output_type": "execute_result"
        }
      ],
      "source": [
        "deg_lasso=deg[np.argmin(min)]\n",
        "deg_lasso\n",
        "#the degree used is 6"
      ]
    },
    {
      "cell_type": "code",
      "execution_count": null,
      "id": "75b6fe69",
      "metadata": {
        "id": "75b6fe69",
        "outputId": "255bdfde-60da-4249-a7d5-e4cb40b2b88a"
      },
      "outputs": [
        {
          "data": {
            "text/plain": [
              "0"
            ]
          },
          "execution_count": 135,
          "metadata": {},
          "output_type": "execute_result"
        }
      ],
      "source": [
        "lambda_lasso=alpha[np.argmin(min)]\n",
        "lambda_lasso\n",
        "#the most suitable lambda to use"
      ]
    },
    {
      "cell_type": "code",
      "execution_count": null,
      "id": "dbb68905",
      "metadata": {
        "id": "dbb68905",
        "outputId": "4d20f9a5-58ba-49c1-ba6b-31e5d7961bc5"
      },
      "outputs": [
        {
          "name": "stdout",
          "output_type": "stream",
          "text": [
            "score 88.7130752764705\n",
            "error 3.18822562874957\n"
          ]
        }
      ],
      "source": [
        "#Test with lasso regularizaton with best_degree 2 and lambda_lasso 0\n",
        "poly = PolynomialFeatures(degree = deg_lasso)\n",
        "X_poly = poly.fit_transform(X_train)\n",
        "x_poly_test=poly.transform(X_test)\n",
        "pol=linear_model.Lasso(alpha=lambda_lasso)\n",
        "pol.fit(X_poly, y_train) \n",
        "y_pred=pol.predict(x_poly_test)\n",
        "ypred=pol.score(x_poly_test,y_test)\n",
        "mean_error_test=np.sqrt(metrics.mean_squared_error(y_test,y_pred))\n",
        "print(\"score\",ypred*100)\n",
        "print(\"error\",mean_error_test)"
      ]
    },
    {
      "cell_type": "code",
      "execution_count": null,
      "id": "fc1940fc",
      "metadata": {
        "id": "fc1940fc",
        "outputId": "3777728a-d0f0-40c6-cbe0-f600e9613310"
      },
      "outputs": [
        {
          "name": "stdout",
          "output_type": "stream",
          "text": [
            "0\n",
            "1\n",
            "2\n",
            "3\n",
            "4\n",
            "5\n",
            "6\n",
            "7\n",
            "8\n",
            "9\n"
          ]
        },
        {
          "data": {
            "image/png": "[encoded data removed]",
            "text/plain": [
              "<Figure size 432x288 with 1 Axes>"
            ]
          },
          "metadata": {
            "needs_background": "light"
          },
          "output_type": "display_data"
        },
        {
          "data": {
            "image/png": "[encoded data removed]",
            "text/plain": [
              "<Figure size 432x288 with 1 Axes>"
            ]
          },
          "metadata": {
            "needs_background": "light"
          },
          "output_type": "display_data"
        },
        {
          "data": {
            "image/png": "[encoded data removed]",
            "text/plain": [
              "<Figure size 432x288 with 1 Axes>"
            ]
          },
          "metadata": {
            "needs_background": "light"
          },
          "output_type": "display_data"
        },
        {
          "data": {
            "image/png": "[encoded data removed]",
            "text/plain": [
              "<Figure size 432x288 with 1 Axes>"
            ]
          },
          "metadata": {
            "needs_background": "light"
          },
          "output_type": "display_data"
        },
        {
          "data": {
            "image/png": "[encoded data removed]",
            "text/plain": [
              "<Figure size 432x288 with 1 Axes>"
            ]
          },
          "metadata": {
            "needs_background": "light"
          },
          "output_type": "display_data"
        },
        {
          "data": {
            "image/png": "[encoded data removed]",
            "text/plain": [
              "<Figure size 432x288 with 1 Axes>"
            ]
          },
          "metadata": {
            "needs_background": "light"
          },
          "output_type": "display_data"
        },
        {
          "data": {
            "image/png": "[encoded data removed]",
            "text/plain": [
              "<Figure size 432x288 with 1 Axes>"
            ]
          },
          "metadata": {
            "needs_background": "light"
          },
          "output_type": "display_data"
        },
        {
          "data": {
            "image/png": "[encoded data removed]",
            "text/plain": [
              "<Figure size 432x288 with 1 Axes>"
            ]
          },
          "metadata": {
            "needs_background": "light"
          },
          "output_type": "display_data"
        },
        {
          "data": {
            "image/png": "[encoded data removed]",
            "text/plain": [
              "<Figure size 432x288 with 1 Axes>"
            ]
          },
          "metadata": {
            "needs_background": "light"
          },
          "output_type": "display_data"
        },
        {
          "data": {
            "image/png": "[encoded data removed]",
            "text/plain": [
              "<Figure size 432x288 with 1 Axes>"
            ]
          },
          "metadata": {
            "needs_background": "light"
          },
          "output_type": "display_data"
        }
      ],
      "source": [
        "#Ridge Regulurization with degrees \n",
        "min=[]\n",
        "alpha=[]\n",
        "deg=[]\n",
        "best_degree_reg=[]\n",
        "lambdas=[0,0.01,0.02,0.04,0.08,0.16,0.32,0.64,2.56,5.12,10.24,20]\n",
        "for i in range (10):\n",
        "    err_val=[]\n",
        "    for j in lambdas :\n",
        "     poly = PolynomialFeatures(degree = i+1)\n",
        "     X_poly = poly.fit_transform(X_train)\n",
        "     x_poly_val=poly.transform(X_val)\n",
        "     pol=linear_model.Ridge(alpha=j)\n",
        "     pol.fit(X_poly, y_train) \n",
        "     y_pred=pol.predict(x_poly_val)\n",
        "     mean_error=np.sqrt(metrics.mean_squared_error(y_val,y_pred))\n",
        "     err_val.append(mean_error)\n",
        "     y_train_pred=pol.predict(X_poly)\n",
        "     mean_error_train=np.sqrt(metrics.mean_squared_error(y_train,y_train_pred))\n",
        "     err_train.append(mean_error_train)\n",
        "    print(i)\n",
        "    plt.figure()\n",
        "    plt.plot(lambdas,err_val)\n",
        "    x=\"Degree\"+str(i+1)\n",
        "    plt.title(x)\n",
        "    plt.xlabel(\"Alpha\")\n",
        "    plt.ylabel(\"Error\")\n",
        "    min.append(np.min(err_val))\n",
        "    alpha.append(lambdas[np.argmin(err_val)])\n",
        "    deg.append(i+1)\n",
        "   "
      ]
    },
    {
      "cell_type": "code",
      "execution_count": null,
      "id": "75442e41",
      "metadata": {
        "id": "75442e41",
        "outputId": "dd14f714-7791-43da-a558-e5929159a23e"
      },
      "outputs": [
        {
          "data": {
            "text/plain": [
              "2.89968063655317"
            ]
          },
          "execution_count": 138,
          "metadata": {},
          "output_type": "execute_result"
        }
      ],
      "source": [
        "np.min(min)\n",
        "#min error with ridge"
      ]
    },
    {
      "cell_type": "code",
      "execution_count": null,
      "id": "94436071",
      "metadata": {
        "id": "94436071",
        "outputId": "40215f63-77e6-4ad8-b872-75397e97e13b"
      },
      "outputs": [
        {
          "data": {
            "text/plain": [
              "9"
            ]
          },
          "execution_count": 139,
          "metadata": {},
          "output_type": "execute_result"
        }
      ],
      "source": [
        "deg_ridge=deg[np.argmin(min)]\n",
        "deg_ridge\n",
        "#best degree "
      ]
    },
    {
      "cell_type": "code",
      "execution_count": null,
      "id": "30b36a3c",
      "metadata": {
        "id": "30b36a3c",
        "outputId": "18059278-39f6-4534-9546-96e675fa4694"
      },
      "outputs": [
        {
          "data": {
            "text/plain": [
              "2.56"
            ]
          },
          "execution_count": 140,
          "metadata": {},
          "output_type": "execute_result"
        }
      ],
      "source": [
        "lambda_ridge=alpha[np.argmin(min)]\n",
        "lambda_ridge\n",
        "#best_lambda"
      ]
    },
    {
      "cell_type": "code",
      "execution_count": null,
      "id": "2b7b7531",
      "metadata": {
        "id": "2b7b7531",
        "outputId": "0bf110bb-4c33-45d5-ffe6-2af0faaff76b"
      },
      "outputs": [
        {
          "name": "stdout",
          "output_type": "stream",
          "text": [
            "score 84.58895358544738\n",
            "error 3.7254376428898586\n"
          ]
        }
      ],
      "source": [
        "#Test with Ridge regularizaton with best_degree 9 and lambda 2.56\n",
        "poly = PolynomialFeatures(degree = deg_ridge)\n",
        "X_poly = poly.fit_transform(X_train)\n",
        "x_poly_test=poly.transform(X_test)\n",
        "pol=linear_model.Ridge(alpha=lambda_ridge)\n",
        "pol.fit(X_poly, y_train) \n",
        "y_pred=pol.predict(x_poly_test)\n",
        "ypred_ridge_deg=pol.score(x_poly_test,y_test)\n",
        "mean_error_test_ridge_deg=np.sqrt(metrics.mean_squared_error(y_test,y_pred))\n",
        "print(\"score\",ypred_ridge_deg*100)\n",
        "print(\"error\",mean_error_test_ridge_deg)"
      ]
    },
    {
      "cell_type": "code",
      "execution_count": null,
      "id": "c2801dd8",
      "metadata": {
        "id": "c2801dd8"
      },
      "outputs": [],
      "source": [
        "#Testing linear_model with different paremeters\n",
        "reg_coef = linear_model.LinearRegression().fit(X_train, y_train)\n",
        "train_coeff=[]\n",
        "val_coeff=[]\n",
        "test_coeff=[]\n",
        "for i in range(0, 100000):\n",
        "    reg_coef.coef_= np.random.uniform(-10, 10,13)\n",
        "    train_coeff.append(np.sqrt(metrics.mean_squared_error(reg_coef.predict(X_train), y_train)))\n",
        "    val_coeff.append(np.sqrt(metrics.mean_squared_error(reg_coef.predict(X_val), y_val)))\n",
        "    test_coeff.append(np.sqrt(metrics.mean_squared_error(reg_coef.predict(X_test), y_test)))"
      ]
    },
    {
      "cell_type": "code",
      "execution_count": null,
      "id": "ce70215b",
      "metadata": {
        "id": "ce70215b",
        "outputId": "edc291e3-24d0-4f74-ffc4-6e39c324a5b6"
      },
      "outputs": [
        {
          "data": {
            "text/plain": [
              "5.9783970061578575"
            ]
          },
          "execution_count": 143,
          "metadata": {},
          "output_type": "execute_result"
        }
      ],
      "source": [
        "np.min(val_coeff)"
      ]
    },
    {
      "cell_type": "code",
      "execution_count": null,
      "id": "c7bc6955",
      "metadata": {
        "id": "c7bc6955",
        "outputId": "64892b05-633c-4c6f-c8ad-1588c532b212"
      },
      "outputs": [
        {
          "data": {
            "text/plain": [
              "6.114870102158094"
            ]
          },
          "execution_count": 144,
          "metadata": {},
          "output_type": "execute_result"
        }
      ],
      "source": [
        "np.min(train_coeff)"
      ]
    },
    {
      "cell_type": "code",
      "execution_count": null,
      "id": "3cb72bae",
      "metadata": {
        "id": "3cb72bae",
        "outputId": "5232e121-3da2-47c1-e4af-eb99a4fdfd83"
      },
      "outputs": [
        {
          "data": {
            "text/plain": [
              "array([-8.23281436, -5.82611195, -4.13882887,  9.51071518,  0.18271301,\n",
              "        7.5117677 , -3.53135768,  7.12818432, -4.91705185,  9.27559699,\n",
              "       -0.83259922,  0.47168789,  2.90170776])"
            ]
          },
          "execution_count": 145,
          "metadata": {},
          "output_type": "execute_result"
        }
      ],
      "source": [
        "reg_coef.coef_"
      ]
    },
    {
      "cell_type": "code",
      "execution_count": null,
      "id": "a868e4ad",
      "metadata": {
        "id": "a868e4ad",
        "outputId": "6d08e858-0c9a-480e-95c5-1c70d145835c"
      },
      "outputs": [
        {
          "data": {
            "text/plain": [
              "5.710978076344884"
            ]
          },
          "execution_count": 146,
          "metadata": {},
          "output_type": "execute_result"
        }
      ],
      "source": [
        "np.min(test_coeff)"
      ]
    },
    {
      "cell_type": "code",
      "execution_count": null,
      "id": "d2f6d37a",
      "metadata": {
        "id": "d2f6d37a",
        "outputId": "33091795-d1d4-40b9-bfaf-c7e840a4c1d4"
      },
      "outputs": [
        {
          "name": "stdout",
          "output_type": "stream",
          "text": [
            "4.5148179240602495\n",
            "5.3294987620221015\n",
            "4.677964486210499\n"
          ]
        }
      ],
      "source": [
        "reg = linear_model.LinearRegression().fit(X_train, y_train)\n",
        "print(np.sqrt(metrics.mean_squared_error(reg.predict(X_train), y_train)))\n",
        "print(np.sqrt(metrics.mean_squared_error(reg.predict(X_val), y_val)))\n",
        "print(np.sqrt(metrics.mean_squared_error(reg.predict(X_test), y_test)))"
      ]
    },
    {
      "cell_type": "code",
      "execution_count": null,
      "id": "b4d22800",
      "metadata": {
        "id": "b4d22800"
      },
      "outputs": [],
      "source": [
        "#with using predefined function it produces the best paremeters and it is faster so using it instead of generating paremeters each time"
      ]
    },
    {
      "cell_type": "code",
      "execution_count": null,
      "id": "a5990bb8",
      "metadata": {
        "id": "a5990bb8"
      },
      "outputs": [],
      "source": [
        ""
      ]
    }
  ],
  "metadata": {
    "kernelspec": {
      "display_name": "Python 3 (ipykernel)",
      "language": "python",
      "name": "python3"
    },
    "language_info": {
      "codemirror_mode": {
        "name": "ipython",
        "version": 3
      },
      "file_extension": ".py",
      "mimetype": "text/x-python",
      "name": "python",
      "nbconvert_exporter": "python",
      "pygments_lexer": "ipython3",
      "version": "3.9.7"
    },
    "colab": {
      "name": "Linear_Regression_final_43-3247_.ipynb",
      "provenance": [],
      "include_colab_link": true
    }
  },
  "nbformat": 4,
  "nbformat_minor": 5
}