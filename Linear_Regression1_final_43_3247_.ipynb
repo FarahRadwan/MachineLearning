{
  "cells": [
    {
      "cell_type": "markdown",
      "metadata": {
        "id": "view-in-github",
        "colab_type": "text"
      },
      "source": [
        "<a href=\"https://colab.research.google.com/github/FarahRadwan/MachineLearning/blob/main/Linear_Regression1_final_43_3247_.ipynb\" target=\"_parent\"><img src=\"https://colab.research.google.com/assets/colab-badge.svg\" alt=\"Open In Colab\"/></a>"
      ]
    },
    {
      "cell_type": "code",
      "execution_count": null,
      "id": "83bb8a57",
      "metadata": {
        "id": "83bb8a57"
      },
      "outputs": [],
      "source": [
        "import numpy as np\n",
        "import pandas as pd\n",
        "import matplotlib.pyplot as plt\n",
        "import seaborn as sns\n",
        "from sklearn.model_selection import train_test_split,cross_val_score\n",
        "from sklearn import metrics, linear_model\n",
        "from sklearn.metrics import confusion_matrix\n",
        "from sklearn.metrics import accuracy_score, precision_score, recall_score, f1_score\n",
        "from sklearn.linear_model import Ridge\n",
        "from sklearn.preprocessing import PolynomialFeatures\n",
        "from sklearn import preprocessing\n",
        "from sklearn.metrics import accuracy_score, r2_score\n",
        "import warnings\n",
        "warnings.filterwarnings(\"ignore\")"
      ]
    },
    {
      "cell_type": "code",
      "execution_count": null,
      "id": "1bc82da9",
      "metadata": {
        "id": "1bc82da9"
      },
      "outputs": [],
      "source": [
        "\n",
        "from sklearn.datasets import load_boston\n",
        "boston = load_boston()"
      ]
    },
    {
      "cell_type": "code",
      "execution_count": null,
      "id": "0f3c6552",
      "metadata": {
        "id": "0f3c6552",
        "outputId": "6d0dc854-9032-4eb1-e669-b0deda548dfa"
      },
      "outputs": [
        {
          "data": {
            "text/html": [
              "<div>\n",
              "<style scoped>\n",
              "    .dataframe tbody tr th:only-of-type {\n",
              "        vertical-align: middle;\n",
              "    }\n",
              "\n",
              "    .dataframe tbody tr th {\n",
              "        vertical-align: top;\n",
              "    }\n",
              "\n",
              "    .dataframe thead th {\n",
              "        text-align: right;\n",
              "    }\n",
              "</style>\n",
              "<table border=\"1\" class=\"dataframe\">\n",
              "  <thead>\n",
              "    <tr style=\"text-align: right;\">\n",
              "      <th></th>\n",
              "      <th>CRIM</th>\n",
              "      <th>ZN</th>\n",
              "      <th>INDUS</th>\n",
              "      <th>CHAS</th>\n",
              "      <th>NOX</th>\n",
              "      <th>RM</th>\n",
              "      <th>AGE</th>\n",
              "      <th>DIS</th>\n",
              "      <th>RAD</th>\n",
              "      <th>TAX</th>\n",
              "      <th>PTRATIO</th>\n",
              "      <th>B</th>\n",
              "      <th>LSTAT</th>\n",
              "    </tr>\n",
              "  </thead>\n",
              "  <tbody>\n",
              "    <tr>\n",
              "      <th>0</th>\n",
              "      <td>0.00632</td>\n",
              "      <td>18.0</td>\n",
              "      <td>2.31</td>\n",
              "      <td>0.0</td>\n",
              "      <td>0.538</td>\n",
              "      <td>6.575</td>\n",
              "      <td>65.2</td>\n",
              "      <td>4.0900</td>\n",
              "      <td>1.0</td>\n",
              "      <td>296.0</td>\n",
              "      <td>15.3</td>\n",
              "      <td>396.90</td>\n",
              "      <td>4.98</td>\n",
              "    </tr>\n",
              "    <tr>\n",
              "      <th>1</th>\n",
              "      <td>0.02731</td>\n",
              "      <td>0.0</td>\n",
              "      <td>7.07</td>\n",
              "      <td>0.0</td>\n",
              "      <td>0.469</td>\n",
              "      <td>6.421</td>\n",
              "      <td>78.9</td>\n",
              "      <td>4.9671</td>\n",
              "      <td>2.0</td>\n",
              "      <td>242.0</td>\n",
              "      <td>17.8</td>\n",
              "      <td>396.90</td>\n",
              "      <td>9.14</td>\n",
              "    </tr>\n",
              "    <tr>\n",
              "      <th>2</th>\n",
              "      <td>0.02729</td>\n",
              "      <td>0.0</td>\n",
              "      <td>7.07</td>\n",
              "      <td>0.0</td>\n",
              "      <td>0.469</td>\n",
              "      <td>7.185</td>\n",
              "      <td>61.1</td>\n",
              "      <td>4.9671</td>\n",
              "      <td>2.0</td>\n",
              "      <td>242.0</td>\n",
              "      <td>17.8</td>\n",
              "      <td>392.83</td>\n",
              "      <td>4.03</td>\n",
              "    </tr>\n",
              "    <tr>\n",
              "      <th>3</th>\n",
              "      <td>0.03237</td>\n",
              "      <td>0.0</td>\n",
              "      <td>2.18</td>\n",
              "      <td>0.0</td>\n",
              "      <td>0.458</td>\n",
              "      <td>6.998</td>\n",
              "      <td>45.8</td>\n",
              "      <td>6.0622</td>\n",
              "      <td>3.0</td>\n",
              "      <td>222.0</td>\n",
              "      <td>18.7</td>\n",
              "      <td>394.63</td>\n",
              "      <td>2.94</td>\n",
              "    </tr>\n",
              "    <tr>\n",
              "      <th>4</th>\n",
              "      <td>0.06905</td>\n",
              "      <td>0.0</td>\n",
              "      <td>2.18</td>\n",
              "      <td>0.0</td>\n",
              "      <td>0.458</td>\n",
              "      <td>7.147</td>\n",
              "      <td>54.2</td>\n",
              "      <td>6.0622</td>\n",
              "      <td>3.0</td>\n",
              "      <td>222.0</td>\n",
              "      <td>18.7</td>\n",
              "      <td>396.90</td>\n",
              "      <td>5.33</td>\n",
              "    </tr>\n",
              "  </tbody>\n",
              "</table>\n",
              "</div>"
            ],
            "text/plain": [
              "      CRIM    ZN  INDUS  CHAS    NOX     RM   AGE     DIS  RAD    TAX  \\\n",
              "0  0.00632  18.0   2.31   0.0  0.538  6.575  65.2  4.0900  1.0  296.0   \n",
              "1  0.02731   0.0   7.07   0.0  0.469  6.421  78.9  4.9671  2.0  242.0   \n",
              "2  0.02729   0.0   7.07   0.0  0.469  7.185  61.1  4.9671  2.0  242.0   \n",
              "3  0.03237   0.0   2.18   0.0  0.458  6.998  45.8  6.0622  3.0  222.0   \n",
              "4  0.06905   0.0   2.18   0.0  0.458  7.147  54.2  6.0622  3.0  222.0   \n",
              "\n",
              "   PTRATIO       B  LSTAT  \n",
              "0     15.3  396.90   4.98  \n",
              "1     17.8  396.90   9.14  \n",
              "2     17.8  392.83   4.03  \n",
              "3     18.7  394.63   2.94  \n",
              "4     18.7  396.90   5.33  "
            ]
          },
          "execution_count": 282,
          "metadata": {},
          "output_type": "execute_result"
        }
      ],
      "source": [
        "df = pd.DataFrame(boston.data, columns = boston.feature_names)\n",
        "df.head()"
      ]
    },
    {
      "cell_type": "code",
      "execution_count": null,
      "id": "c47a52f4",
      "metadata": {
        "id": "c47a52f4",
        "outputId": "cc07290d-2367-4541-cc13-60406343ff26"
      },
      "outputs": [
        {
          "data": {
            "text/plain": [
              "CRIM       0\n",
              "ZN         0\n",
              "INDUS      0\n",
              "CHAS       0\n",
              "NOX        0\n",
              "RM         0\n",
              "AGE        0\n",
              "DIS        0\n",
              "RAD        0\n",
              "TAX        0\n",
              "PTRATIO    0\n",
              "B          0\n",
              "LSTAT      0\n",
              "dtype: int64"
            ]
          },
          "execution_count": 283,
          "metadata": {},
          "output_type": "execute_result"
        }
      ],
      "source": [
        "#Data doesnot contain null values\n",
        "df.isnull().sum()"
      ]
    },
    {
      "cell_type": "code",
      "execution_count": null,
      "id": "55836db9",
      "metadata": {
        "id": "55836db9"
      },
      "outputs": [],
      "source": [
        "#Scaling the data as they are not in the same range\n",
        "scaler = preprocessing.MinMaxScaler()\n",
        "x_scaled = scaler.fit_transform(df)\n",
        "#y_scaled=scaler.fit_transform(y)"
      ]
    },
    {
      "cell_type": "code",
      "execution_count": null,
      "id": "8a32e604",
      "metadata": {
        "id": "8a32e604",
        "outputId": "2d86c637-7a32-4f83-d006-d79021a6831a"
      },
      "outputs": [
        {
          "name": "stdout",
          "output_type": "stream",
          "text": [
            "X_train shape: (303, 13)\n",
            "X_test shape: (102, 13)\n",
            "y_train shape: (303,)\n",
            "y_test shape: (102,)\n",
            "X_val shape: (303,)\n",
            "y val shape: (102,)\n"
          ]
        }
      ],
      "source": [
        "#Dividing data into train,test,validation 60,20,20\n",
        "y = boston.target\n",
        "X_train, X_test, y_train, y_test = train_test_split(x_scaled, y, test_size=0.2)\n",
        "X_train, X_val, y_train, y_val = train_test_split(X_train, y_train, \n",
        "    test_size=0.25) #0.8*0.25=0.2\n",
        "print(\"X_train shape: {}\".format(X_train.shape))\n",
        "print(\"X_test shape: {}\".format(X_test.shape))\n",
        "print(\"y_train shape: {}\".format(y_train.shape))\n",
        "print(\"y_test shape: {}\".format(y_test.shape))\n",
        "print(\"X_val shape: {}\".format(y_train.shape))\n",
        "print(\"y val shape: {}\".format(y_test.shape))"
      ]
    },
    {
      "cell_type": "code",
      "execution_count": null,
      "id": "e37d4da0",
      "metadata": {
        "id": "e37d4da0",
        "outputId": "2709aead-ea3c-458f-f056-e67592c3edcc"
      },
      "outputs": [
        {
          "name": "stdout",
          "output_type": "stream",
          "text": [
            "RMSE of Linear Regression without Regularization 4.621302764378058\n",
            "Accuracy_score: 0.6682102627221644\n",
            "RMSE of Linear Regression without Regularization Validation 4.544170426467037\n",
            "Accuracy_score Validation: 0.7212457625113413\n"
          ]
        }
      ],
      "source": [
        "#Applying Linear regression\n",
        "lm = linear_model.LinearRegression()\n",
        "model = lm.fit(X_train, y_train)\n",
        "predictions = lm.predict(X_test)\n",
        "print(\"RMSE of Linear Regression without Regularization\",np.sqrt(metrics.mean_squared_error(y_test,predictions)))\n",
        "acc=lm.score(X_test,y_test)\n",
        "print(\"Accuracy_score:\",acc)\n",
        "r2 = r2_score(y_test, predictions)\n",
        "predictions_val=lm.predict(X_val)\n",
        "print(\"RMSE of Linear Regression without Regularization Validation\",np.sqrt(metrics.mean_squared_error(y_val,predictions_val)))\n",
        "acc_val=lm.score(X_val,y_val)\n",
        "print(\"Accuracy_score Validation:\",acc_val)\n",
        "#The fisrt 2 outputs on the test"
      ]
    },
    {
      "cell_type": "code",
      "execution_count": null,
      "id": "16cd686a",
      "metadata": {
        "id": "16cd686a"
      },
      "outputs": [],
      "source": [
        "#To get the best degree without regularization\n",
        "err_val=[]\n",
        "deg=[]\n",
        "err_train=[]\n",
        "score_val=[]\n",
        "score_train=[]\n",
        "errval=[]\n",
        "errtrain=[]\n",
        "for i in range(10):\n",
        "    x=i+1\n",
        "    deg.append(x)\n",
        "    poly = PolynomialFeatures(degree = x)\n",
        "    X_poly = poly.fit_transform(X_train)\n",
        "    x_poly_val=poly.transform(X_val)\n",
        "    pol=linear_model.LinearRegression()\n",
        "    pol.fit(X_poly, y_train) \n",
        "    y_pred=pol.predict(x_poly_val)\n",
        "    scre_val=pol.score(x_poly_val,y_val)\n",
        "    mean_error=np.sqrt(metrics.mean_squared_error(y_val,y_pred))\n",
        "    err_val.append(mean_error)\n",
        "    score_val.append(scre_val)\n",
        "    y_train_pred=pol.predict(X_poly)\n",
        "    mean_error_train=np.sqrt(metrics.mean_squared_error(y_train,y_train_pred))\n",
        "    err_train.append(mean_error_train)\n",
        "    scre_train=pol.score(X_poly,y_train)"
      ]
    },
    {
      "cell_type": "code",
      "execution_count": null,
      "id": "0ae89bb1",
      "metadata": {
        "id": "0ae89bb1",
        "outputId": "9e81e629-c289-4136-dbc5-da4e16afc639"
      },
      "outputs": [
        {
          "data": {
            "image/png": "[encoded data removed]",
            "text/plain": [
              "<Figure size 432x288 with 1 Axes>"
            ]
          },
          "metadata": {
            "needs_background": "light"
          },
          "output_type": "display_data"
        }
      ],
      "source": [
        "fig, ax = plt.subplots()\n",
        "ax.plot(deg, err_train, '-b', label='Train')\n",
        "ax.plot(deg, err_val, '-r', label='Cross_validation')\n",
        "plt.xlabel(\"lambda\")\n",
        "plt.ylabel(\"Cost Function\")\n",
        "leg = ax.legend();"
      ]
    },
    {
      "cell_type": "code",
      "execution_count": null,
      "id": "5264c2d1",
      "metadata": {
        "id": "5264c2d1",
        "outputId": "a019464d-e60f-48a3-81df-e022f3584114"
      },
      "outputs": [
        {
          "name": "stdout",
          "output_type": "stream",
          "text": [
            "Degree of the polynomial is 1\n",
            "RMSE without Regularization on validation 4.544170426467036\n",
            "score without regularization on validation 72.12457625113416\n"
          ]
        }
      ],
      "source": [
        "best_degree=deg[np.argmin(err_val)]\n",
        "print(\"Degree of the polynomial is\",best_degree)\n",
        "print(\"RMSE without Regularization on validation\",np.min(err_val))\n",
        "print(\"score without regularization on validation\",np.max(score_val)*100)"
      ]
    },
    {
      "cell_type": "code",
      "execution_count": null,
      "id": "2c89f7d8",
      "metadata": {
        "id": "2c89f7d8",
        "outputId": "b4b4383f-2417-4c1b-aa7b-d55ed5fc98d9"
      },
      "outputs": [
        {
          "name": "stdout",
          "output_type": "stream",
          "text": [
            "score of the best degree on test: 66.82102627221641\n",
            "Error of the best degree on test set: 4.62130276437806\n"
          ]
        }
      ],
      "source": [
        "# get accuracy of best degree on test set without regularization\n",
        "poly = PolynomialFeatures(degree = best_degree)\n",
        "X_poly = poly.fit_transform(X_train)\n",
        "x_poly_test=poly.transform(X_test)\n",
        "pol=linear_model.LinearRegression()\n",
        "pol.fit(X_poly, y_train) \n",
        "y_pred=pol.predict(x_poly_test)\n",
        "score_noregul=pol.score(x_poly_test,y_test)\n",
        "mean_error_noregul=np.sqrt(metrics.mean_squared_error(y_test,y_pred))\n",
        "print(\"score of the best degree on test:\",score_noregul*100)\n",
        "print(\"Error of the best degree on test set:\",mean_error_noregul)"
      ]
    },
    {
      "cell_type": "code",
      "execution_count": null,
      "id": "aeb1dcfe",
      "metadata": {
        "id": "aeb1dcfe"
      },
      "outputs": [],
      "source": [
        "#Lasso regularization with the best degree obtained\n",
        "err_val=[]\n",
        "deg=[]\n",
        "err_train=[]\n",
        "alpha=[]\n",
        "errval=[]\n",
        "errtrain=[]\n",
        "scr_val=[]\n",
        "scr_train=[]\n",
        "lambdas=[0,0.01,0.02,0.04,0.08,0.16,0.32,0.64,2.56,5.12,10.24,20,100,500,1000]\n",
        "for i in lambdas:\n",
        "    alpha.append(i)\n",
        "    poly = PolynomialFeatures(degree = best_degree)\n",
        "    X_poly = poly.fit_transform(X_train)\n",
        "    x_poly_val=poly.transform(X_val)\n",
        "    pol=linear_model.Lasso(alpha=i)\n",
        "    pol.fit(X_poly, y_train) \n",
        "    scrval=pol.score(x_poly_val,y_val)\n",
        "    scr_val.append(scrval)\n",
        "    errval.append(1-scrval)\n",
        "    y_pred=pol.predict(x_poly_val)\n",
        "    mean_error=np.sqrt(metrics.mean_squared_error(y_val,y_pred))\n",
        "    err_val.append(mean_error)\n",
        "    y_train_pred=pol.predict(X_poly)\n",
        "    scrtrain=pol.score(X_poly,y_train)\n",
        "    scr_train.append(scrtrain)\n",
        "    errtrain.append(1-scrtrain)\n",
        "    mean_error_train=np.sqrt(metrics.mean_squared_error(y_train,y_train_pred))\n",
        "    err_train.append(mean_error_train)"
      ]
    },
    {
      "cell_type": "code",
      "execution_count": null,
      "id": "8ff0f5c2",
      "metadata": {
        "id": "8ff0f5c2",
        "outputId": "81d17cd5-06ba-4f3d-e23e-08e5b033743c"
      },
      "outputs": [
        {
          "data": {
            "image/png": "[encoded data removed]",
            "text/plain": [
              "<Figure size 432x288 with 1 Axes>"
            ]
          },
          "metadata": {
            "needs_background": "light"
          },
          "output_type": "display_data"
        }
      ],
      "source": [
        "fig, ax = plt.subplots()\n",
        "ax.plot(alpha, err_train, '-b', label='Train')\n",
        "ax.plot(alpha, err_val, '-r', label='Cross_validation')\n",
        "plt.xlabel(\"lambda\")\n",
        "plt.ylabel(\"Cost Function\")\n",
        "leg = ax.legend();\n",
        "#underfitting in the data"
      ]
    },
    {
      "cell_type": "code",
      "execution_count": null,
      "id": "a5776356",
      "metadata": {
        "id": "a5776356",
        "outputId": "ffd4410b-03f2-41bb-9bb0-9448ced88ee9"
      },
      "outputs": [
        {
          "data": {
            "text/plain": [
              "0"
            ]
          },
          "execution_count": 293,
          "metadata": {},
          "output_type": "execute_result"
        }
      ],
      "source": [
        "best=lambdas[np.argmin(err_val)]\n",
        "best\n",
        "#best_lambda the less error in both train and cross 0=no regularization"
      ]
    },
    {
      "cell_type": "code",
      "execution_count": null,
      "id": "c407ca16",
      "metadata": {
        "id": "c407ca16",
        "outputId": "4c27d783-d154-45f8-8d51-51a9417c147c"
      },
      "outputs": [
        {
          "data": {
            "text/plain": [
              "[4.544170426467035,\n",
              " 4.630175531998969,\n",
              " 4.714857944488034,\n",
              " 4.697804145492782,\n",
              " 4.819072365410004,\n",
              " 5.03322603690787,\n",
              " 5.244822997933166,\n",
              " 6.006617209236502,\n",
              " 8.633238766418515,\n",
              " 8.633238766418515,\n",
              " 8.633238766418515,\n",
              " 8.633238766418515,\n",
              " 8.633238766418515,\n",
              " 8.633238766418515,\n",
              " 8.633238766418515]"
            ]
          },
          "execution_count": 294,
          "metadata": {},
          "output_type": "execute_result"
        }
      ],
      "source": [
        "err_val"
      ]
    },
    {
      "cell_type": "code",
      "execution_count": null,
      "id": "39a3820e",
      "metadata": {
        "id": "39a3820e",
        "outputId": "58eacd10-4747-43bd-fe7f-f3969eb200a1"
      },
      "outputs": [
        {
          "data": {
            "text/plain": [
              "[4.897631730694839,\n",
              " 4.91318434416123,\n",
              " 4.94597859957073,\n",
              " 5.016984806755473,\n",
              " 5.242399999759349,\n",
              " 5.62264724357415,\n",
              " 6.0751370871065555,\n",
              " 7.171352252351429,\n",
              " 9.720475330211617,\n",
              " 9.720475330211617,\n",
              " 9.720475330211617,\n",
              " 9.720475330211617,\n",
              " 9.720475330211617,\n",
              " 9.720475330211617,\n",
              " 9.720475330211617]"
            ]
          },
          "execution_count": 295,
          "metadata": {},
          "output_type": "execute_result"
        }
      ],
      "source": [
        "err_train"
      ]
    },
    {
      "cell_type": "code",
      "execution_count": null,
      "id": "580f8631",
      "metadata": {
        "id": "580f8631"
      },
      "outputs": [],
      "source": [
        "diff_lasso=[]\n",
        "for i in range (len(err_train)):\n",
        "    diff_lasso.append(np.abs(err_val[i]-err_train[i]))\n",
        "    "
      ]
    },
    {
      "cell_type": "code",
      "execution_count": null,
      "id": "5218f385",
      "metadata": {
        "id": "5218f385",
        "outputId": "f1488993-2f86-4242-fefe-98ce1224ff87"
      },
      "outputs": [
        {
          "data": {
            "text/plain": [
              "[0.3534613042278041,\n",
              " 0.2830088121622616,\n",
              " 0.2311206550826963,\n",
              " 0.31918066126269107,\n",
              " 0.42332763434934506,\n",
              " 0.5894212066662803,\n",
              " 0.8303140891733891,\n",
              " 1.164735043114927,\n",
              " 1.0872365637931019,\n",
              " 1.0872365637931019,\n",
              " 1.0872365637931019,\n",
              " 1.0872365637931019,\n",
              " 1.0872365637931019,\n",
              " 1.0872365637931019,\n",
              " 1.0872365637931019]"
            ]
          },
          "execution_count": 297,
          "metadata": {},
          "output_type": "execute_result"
        }
      ],
      "source": [
        "diff_lasso "
      ]
    },
    {
      "cell_type": "code",
      "execution_count": null,
      "id": "d22b9cde",
      "metadata": {
        "id": "d22b9cde",
        "outputId": "301894ce-a9d1-42b6-cbea-b9ddad9ace49"
      },
      "outputs": [
        {
          "name": "stdout",
          "output_type": "stream",
          "text": [
            "score_lasso 66.82102627221641\n",
            "error_lasso 4.621302764378059\n"
          ]
        }
      ],
      "source": [
        "#Test with lasso regularizaton with best_degree\n",
        "poly = PolynomialFeatures(degree = best_degree)\n",
        "X_poly = poly.fit_transform(X_train)\n",
        "x_poly_test=poly.transform(X_test)\n",
        "pol=linear_model.Lasso(alpha=best)\n",
        "pol.fit(X_poly, y_train) \n",
        "y_pred=pol.predict(x_poly_test)\n",
        "ypred_lasso=pol.score(x_poly_test,y_test)\n",
        "mean_error_test_lasso=np.sqrt(metrics.mean_squared_error(y_test,y_pred))\n",
        "print(\"score_lasso\",ypred_lasso*100)\n",
        "print(\"error_lasso\",mean_error_test_lasso)"
      ]
    },
    {
      "cell_type": "code",
      "execution_count": null,
      "id": "100c8ba3",
      "metadata": {
        "id": "100c8ba3"
      },
      "outputs": [],
      "source": [
        "#Ridge regularization with the best degree obtained\n",
        "err_val=[]\n",
        "deg=[]\n",
        "err_train=[]\n",
        "alpha=[]\n",
        "errval=[]\n",
        "errtrain=[]\n",
        "scr_val=[]\n",
        "scr_train=[]\n",
        "lambdas=[0,0.01,0.02,0.04,0.08,0.16,0.32,0.64,2.56,5.12,10.24,20,100,500,1000]\n",
        "for i in lambdas:\n",
        "    alpha.append(i)\n",
        "    poly = PolynomialFeatures(degree = best_degree)\n",
        "    X_poly = poly.fit_transform(X_train)\n",
        "    x_poly_val=poly.transform(X_val)\n",
        "    pol=linear_model.Ridge(alpha=i)\n",
        "    pol.fit(X_poly, y_train) \n",
        "    scrval=pol.score(x_poly_val,y_val)\n",
        "    scr_val.append(scrval)\n",
        "    errval.append(1-scrval)\n",
        "    y_pred=pol.predict(x_poly_val)\n",
        "    mean_error=np.sqrt(metrics.mean_squared_error(y_val,y_pred))\n",
        "    err_val.append(mean_error)\n",
        "    y_train_pred=pol.predict(X_poly)\n",
        "    scrtrain=pol.score(X_poly,y_train)\n",
        "    scr_train.append(scrtrain)\n",
        "    errtrain.append(1-scrtrain)\n",
        "    mean_error_train=np.sqrt(metrics.mean_squared_error(y_train,y_train_pred))\n",
        "    err_train.append(mean_error_train)"
      ]
    },
    {
      "cell_type": "code",
      "execution_count": null,
      "id": "2ffbf844",
      "metadata": {
        "id": "2ffbf844",
        "outputId": "fb6917e8-802b-4d50-b4c2-ab1b77092b46"
      },
      "outputs": [
        {
          "data": {
            "image/png": "[encoded data removed]",
            "text/plain": [
              "<Figure size 432x288 with 1 Axes>"
            ]
          },
          "metadata": {
            "needs_background": "light"
          },
          "output_type": "display_data"
        }
      ],
      "source": [
        "fig, ax = plt.subplots()\n",
        "ax.plot(alpha, err_train, '-b', label='Train')\n",
        "ax.plot(alpha, err_val, '-r', label='Cross_validation')\n",
        "plt.xlabel(\"Rregularization_lasso\")\n",
        "plt.ylabel(\"Cost Function\")\n",
        "leg = ax.legend();\n",
        "#underfitting in the data as lambda increases"
      ]
    },
    {
      "cell_type": "code",
      "execution_count": null,
      "id": "19fca411",
      "metadata": {
        "id": "19fca411",
        "outputId": "f8ee973d-573e-4db9-8402-e33784d5df73"
      },
      "outputs": [
        {
          "data": {
            "text/plain": [
              "0.64"
            ]
          },
          "execution_count": 301,
          "metadata": {},
          "output_type": "execute_result"
        }
      ],
      "source": [
        "best_ridge=lambdas[np.argmin(err_val)]\n",
        "best_ridge\n",
        "#min_error 0.64"
      ]
    },
    {
      "cell_type": "code",
      "execution_count": null,
      "id": "81ecdbfe",
      "metadata": {
        "id": "81ecdbfe",
        "outputId": "683534a1-ba91-420f-d47a-439f1a785221"
      },
      "outputs": [
        {
          "data": {
            "text/plain": [
              "[4.544170426467035,\n",
              " 4.543116191731784,\n",
              " 4.542120650463826,\n",
              " 4.540281983505234,\n",
              " 4.537084833967198,\n",
              " 4.531943303511627,\n",
              " 4.5243084161391875,\n",
              " 4.515344708385318,\n",
              " 4.581378005239091,\n",
              " 4.775776038126546,\n",
              " 5.138928003909918,\n",
              " 5.6047134910639915,\n",
              " 6.833331513910141,\n",
              " 7.953798518312386,\n",
              " 8.249916989371323]"
            ]
          },
          "execution_count": 302,
          "metadata": {},
          "output_type": "execute_result"
        }
      ],
      "source": [
        "err_val"
      ]
    },
    {
      "cell_type": "code",
      "execution_count": null,
      "id": "de179835",
      "metadata": {
        "id": "de179835",
        "outputId": "571e7a0b-ad1d-49b9-87b8-f4b09badce79"
      },
      "outputs": [
        {
          "data": {
            "text/plain": [
              "[4.897631730694839,\n",
              " 4.897650638368603,\n",
              " 4.897706176283583,\n",
              " 4.897920581494904,\n",
              " 4.8987232736977635,\n",
              " 4.901579920404402,\n",
              " 4.911019626986076,\n",
              " 4.939325158806882,\n",
              " 5.185136823066305,\n",
              " 5.510404360652182,\n",
              " 6.016995467864392,\n",
              " 6.629010846558781,\n",
              " 8.075507897661298,\n",
              " 9.127278207357932,\n",
              " 9.387381924815818]"
            ]
          },
          "execution_count": 303,
          "metadata": {},
          "output_type": "execute_result"
        }
      ],
      "source": [
        "err_train"
      ]
    },
    {
      "cell_type": "code",
      "execution_count": null,
      "id": "6a167c58",
      "metadata": {
        "id": "6a167c58",
        "outputId": "7578deaa-c3e2-4741-9ea5-030f2ed83232"
      },
      "outputs": [
        {
          "name": "stdout",
          "output_type": "stream",
          "text": [
            "score 72.67854986017204\n",
            "error 4.193578927258923\n"
          ]
        }
      ],
      "source": [
        "#Test with lasso regularizaton with best_degree\n",
        "poly = PolynomialFeatures(degree = best_degree)\n",
        "X_poly = poly.fit_transform(X_train)\n",
        "x_poly_test=poly.transform(X_test)\n",
        "pol=linear_model.Ridge(alpha=best_ridge)\n",
        "pol.fit(X_poly, y_train) \n",
        "y_pred=pol.predict(x_poly_test)\n",
        "ypred_ridge=pol.score(x_poly_test,y_test)\n",
        "mean_error_test_ridge=np.sqrt(metrics.mean_squared_error(y_test,y_pred))\n",
        "print(\"score\",ypred_ridge*100)\n",
        "print(\"error\",mean_error_test_ridge)"
      ]
    },
    {
      "cell_type": "code",
      "execution_count": null,
      "id": "8f9b1007",
      "metadata": {
        "id": "8f9b1007",
        "outputId": "26223246-bd48-4224-e831-98c916647fc6"
      },
      "outputs": [
        {
          "name": "stdout",
          "output_type": "stream",
          "text": [
            "Error without Regularization: 4.62130276437806\n",
            "score without Regularization: 66.82102627221641\n",
            "Error with Lasso: 4.621302764378059\n",
            "score with Lasso: 66.82102627221641\n",
            "Error with Ridge: 4.193578927258923\n",
            "score with Ridge: 72.67854986017204\n"
          ]
        }
      ],
      "source": [
        "print(\"Error without Regularization:\",mean_error_noregul)\n",
        "print(\"score without Regularization:\",score_noregul*100)\n",
        "print(\"Error with Lasso:\",mean_error_test_lasso)\n",
        "print(\"score with Lasso:\",ypred_lasso*100)\n",
        "print(\"Error with Ridge:\",mean_error_test_ridge)\n",
        "print(\"score with Ridge:\",ypred_ridge*100)\n",
        "#similar outputs"
      ]
    },
    {
      "cell_type": "code",
      "execution_count": null,
      "id": "dfc4e33c",
      "metadata": {
        "id": "dfc4e33c",
        "outputId": "18a25d2c-13fd-41c4-8657-8fa881e72645"
      },
      "outputs": [
        {
          "name": "stdout",
          "output_type": "stream",
          "text": [
            "0\n",
            "1\n",
            "2\n",
            "3\n",
            "4\n",
            "5\n",
            "6\n",
            "7\n",
            "8\n",
            "9\n"
          ]
        },
        {
          "data": {
            "image/png": "[encoded data removed]",
            "text/plain": [
              "<Figure size 432x288 with 1 Axes>"
            ]
          },
          "metadata": {
            "needs_background": "light"
          },
          "output_type": "display_data"
        },
        {
          "data": {
            "image/png": "[encoded data removed]",
            "text/plain": [
              "<Figure size 432x288 with 1 Axes>"
            ]
          },
          "metadata": {
            "needs_background": "light"
          },
          "output_type": "display_data"
        },
        {
          "data": {
            "image/png": "[encoded data removed]",
            "text/plain": [
              "<Figure size 432x288 with 1 Axes>"
            ]
          },
          "metadata": {
            "needs_background": "light"
          },
          "output_type": "display_data"
        },
        {
          "data": {
            "image/png": "[encoded data removed]",
            "text/plain": [
              "<Figure size 432x288 with 1 Axes>"
            ]
          },
          "metadata": {
            "needs_background": "light"
          },
          "output_type": "display_data"
        },
        {
          "data": {
            "image/png": "[encoded data removed]",
            "text/plain": [
              "<Figure size 432x288 with 1 Axes>"
            ]
          },
          "metadata": {
            "needs_background": "light"
          },
          "output_type": "display_data"
        },
        {
          "data": {
            "image/png": "[encoded data removed]",
            "text/plain": [
              "<Figure size 432x288 with 1 Axes>"
            ]
          },
          "metadata": {
            "needs_background": "light"
          },
          "output_type": "display_data"
        },
        {
          "data": {
            "image/png": "[encoded data removed]",
            "text/plain": [
              "<Figure size 432x288 with 1 Axes>"
            ]
          },
          "metadata": {
            "needs_background": "light"
          },
          "output_type": "display_data"
        },
        {
          "data": {
            "image/png": "[encoded data removed]",
            "text/plain": [
              "<Figure size 432x288 with 1 Axes>"
            ]
          },
          "metadata": {
            "needs_background": "light"
          },
          "output_type": "display_data"
        },
        {
          "data": {
            "image/png": "[encoded data removed]",
            "text/plain": [
              "<Figure size 432x288 with 1 Axes>"
            ]
          },
          "metadata": {
            "needs_background": "light"
          },
          "output_type": "display_data"
        },
        {
          "data": {
            "image/png": "[encoded data removed]",
            "text/plain": [
              "<Figure size 432x288 with 1 Axes>"
            ]
          },
          "metadata": {
            "needs_background": "light"
          },
          "output_type": "display_data"
        }
      ],
      "source": [
        "#Lasso Regulurization with degrees \n",
        "min=[]\n",
        "alpha=[]\n",
        "deg=[]\n",
        "best_degree_reg=[]\n",
        "lambdas=[0,0.01,0.02,0.04,0.08,0.16,0.32,0.64,2.56,5.12,10.24,20]\n",
        "for i in range (10):\n",
        "    err_val=[]\n",
        "    for j in lambdas :\n",
        "     poly = PolynomialFeatures(degree = i+1)\n",
        "     X_poly = poly.fit_transform(X_train)\n",
        "     x_poly_val=poly.transform(X_val)\n",
        "     pol=linear_model.Lasso(alpha=j)\n",
        "     pol.fit(X_poly, y_train) \n",
        "     y_pred=pol.predict(x_poly_val)\n",
        "     mean_error=np.sqrt(metrics.mean_squared_error(y_val,y_pred))\n",
        "     err_val.append(mean_error)\n",
        "     y_train_pred=pol.predict(X_poly)\n",
        "     mean_error_train=np.sqrt(metrics.mean_squared_error(y_train,y_train_pred))\n",
        "     err_train.append(mean_error_train)\n",
        "    print(i)\n",
        "    plt.figure()\n",
        "    plt.plot(lambdas,err_val)\n",
        "    x=\"Degree\"+str(i+1)\n",
        "    plt.title(x)\n",
        "    plt.xlabel(\"Alpha\")\n",
        "    plt.ylabel(\"Error\")\n",
        "    min.append(np.min(err_val))\n",
        "    alpha.append(lambdas[np.argmin(err_val)])\n",
        "    deg.append(i+1)\n",
        "   "
      ]
    },
    {
      "cell_type": "code",
      "execution_count": null,
      "id": "d1e956f8",
      "metadata": {
        "id": "d1e956f8",
        "outputId": "d3279b10-0d97-4280-e5f9-f0179a0e4e2b"
      },
      "outputs": [
        {
          "data": {
            "text/plain": [
              "3.0193374842506047"
            ]
          },
          "execution_count": 307,
          "metadata": {},
          "output_type": "execute_result"
        }
      ],
      "source": [
        "np.min(min)\n",
        "#min_error"
      ]
    },
    {
      "cell_type": "code",
      "execution_count": null,
      "id": "f777c7d6",
      "metadata": {
        "id": "f777c7d6",
        "outputId": "9994eef4-1a3f-4317-cf37-80539c253ca9"
      },
      "outputs": [
        {
          "data": {
            "text/plain": [
              "5"
            ]
          },
          "execution_count": 308,
          "metadata": {},
          "output_type": "execute_result"
        }
      ],
      "source": [
        "deg_lasso=deg[np.argmin(min)]\n",
        "deg_lasso\n",
        "#the degree used is 5"
      ]
    },
    {
      "cell_type": "code",
      "execution_count": null,
      "id": "74e96a5c",
      "metadata": {
        "id": "74e96a5c",
        "outputId": "1e872d4d-8f6a-445f-8eb1-b8d95b87812c"
      },
      "outputs": [
        {
          "data": {
            "text/plain": [
              "0.01"
            ]
          },
          "execution_count": 309,
          "metadata": {},
          "output_type": "execute_result"
        }
      ],
      "source": [
        "lambda_lasso=alpha[np.argmin(min)]\n",
        "lambda_lasso\n",
        "#the most suitable lambda to use 0.01"
      ]
    },
    {
      "cell_type": "code",
      "execution_count": null,
      "id": "8ba88b43",
      "metadata": {
        "id": "8ba88b43",
        "outputId": "5c3ca551-f060-404b-f47b-7b475881306d"
      },
      "outputs": [
        {
          "name": "stdout",
          "output_type": "stream",
          "text": [
            "score 87.52196529048801\n",
            "error 2.8340404371009074\n"
          ]
        }
      ],
      "source": [
        "#Test with lasso regularizaton with best_degree 5 and lambda_lasso 0.01\n",
        "poly = PolynomialFeatures(degree = deg_lasso)\n",
        "X_poly = poly.fit_transform(X_train)\n",
        "x_poly_test=poly.transform(X_test)\n",
        "pol=linear_model.Lasso(alpha=lambda_lasso)\n",
        "pol.fit(X_poly, y_train) \n",
        "y_pred=pol.predict(x_poly_test)\n",
        "ypred=pol.score(x_poly_test,y_test)\n",
        "mean_error_test=np.sqrt(metrics.mean_squared_error(y_test,y_pred))\n",
        "print(\"score\",ypred*100)\n",
        "print(\"error\",mean_error_test)"
      ]
    },
    {
      "cell_type": "code",
      "execution_count": null,
      "id": "9b3fe7e5",
      "metadata": {
        "id": "9b3fe7e5",
        "outputId": "62e09975-690c-44af-8fb1-e6fa2fe163b5"
      },
      "outputs": [
        {
          "name": "stdout",
          "output_type": "stream",
          "text": [
            "0\n",
            "1\n",
            "2\n",
            "3\n",
            "4\n",
            "5\n",
            "6\n",
            "7\n",
            "8\n",
            "9\n"
          ]
        },
        {
          "data": {
            "image/png": "[encoded data removed]",
            "text/plain": [
              "<Figure size 432x288 with 1 Axes>"
            ]
          },
          "metadata": {
            "needs_background": "light"
          },
          "output_type": "display_data"
        },
        {
          "data": {
            "image/png": "[encoded data removed]",
            "text/plain": [
              "<Figure size 432x288 with 1 Axes>"
            ]
          },
          "metadata": {
            "needs_background": "light"
          },
          "output_type": "display_data"
        },
        {
          "data": {
            "image/png": "[encoded data removed]",
            "text/plain": [
              "<Figure size 432x288 with 1 Axes>"
            ]
          },
          "metadata": {
            "needs_background": "light"
          },
          "output_type": "display_data"
        },
        {
          "data": {
            "image/png": "[encoded data removed]",
            "text/plain": [
              "<Figure size 432x288 with 1 Axes>"
            ]
          },
          "metadata": {
            "needs_background": "light"
          },
          "output_type": "display_data"
        },
        {
          "data": {
            "image/png": "[encoded data removed]",
            "text/plain": [
              "<Figure size 432x288 with 1 Axes>"
            ]
          },
          "metadata": {
            "needs_background": "light"
          },
          "output_type": "display_data"
        },
        {
          "data": {
            "image/png": "[encoded data removed]",
            "text/plain": [
              "<Figure size 432x288 with 1 Axes>"
            ]
          },
          "metadata": {
            "needs_background": "light"
          },
          "output_type": "display_data"
        },
        {
          "data": {
            "image/png": "[encoded data removed]",
            "text/plain": [
              "<Figure size 432x288 with 1 Axes>"
            ]
          },
          "metadata": {
            "needs_background": "light"
          },
          "output_type": "display_data"
        },
        {
          "data": {
            "image/png": "[encoded data removed]",
            "text/plain": [
              "<Figure size 432x288 with 1 Axes>"
            ]
          },
          "metadata": {
            "needs_background": "light"
          },
          "output_type": "display_data"
        },
        {
          "data": {
            "image/png": "[encoded data removed]",
            "text/plain": [
              "<Figure size 432x288 with 1 Axes>"
            ]
          },
          "metadata": {
            "needs_background": "light"
          },
          "output_type": "display_data"
        },
        {
          "data": {
            "image/png": "[encoded data removed]",
            "text/plain": [
              "<Figure size 432x288 with 1 Axes>"
            ]
          },
          "metadata": {
            "needs_background": "light"
          },
          "output_type": "display_data"
        }
      ],
      "source": [
        "#Ridge Regulurization with degrees \n",
        "min=[]\n",
        "alpha=[]\n",
        "deg=[]\n",
        "best_degree_reg=[]\n",
        "lambdas=[0,0.01,0.02,0.04,0.08,0.16,0.32,0.64,2.56,5.12,10.24,20]\n",
        "for i in range (10):\n",
        "    err_val=[]\n",
        "    for j in lambdas :\n",
        "     poly = PolynomialFeatures(degree = i+1)\n",
        "     X_poly = poly.fit_transform(X_train)\n",
        "     x_poly_val=poly.transform(X_val)\n",
        "     pol=linear_model.Ridge(alpha=j)\n",
        "     pol.fit(X_poly, y_train) \n",
        "     y_pred=pol.predict(x_poly_val)\n",
        "     mean_error=np.sqrt(metrics.mean_squared_error(y_val,y_pred))\n",
        "     err_val.append(mean_error)\n",
        "     y_train_pred=pol.predict(X_poly)\n",
        "     mean_error_train=np.sqrt(metrics.mean_squared_error(y_train,y_train_pred))\n",
        "     err_train.append(mean_error_train)\n",
        "    print(i)\n",
        "    plt.figure()\n",
        "    plt.plot(lambdas,err_val)\n",
        "    x=\"Degree\"+str(i+1)\n",
        "    plt.title(x)\n",
        "    plt.xlabel(\"Alpha\")\n",
        "    plt.ylabel(\"Error\")\n",
        "    min.append(np.min(err_val))\n",
        "    alpha.append(lambdas[np.argmin(err_val)])\n",
        "    deg.append(i+1)\n",
        "   "
      ]
    },
    {
      "cell_type": "code",
      "execution_count": null,
      "id": "e003f760",
      "metadata": {
        "id": "e003f760",
        "outputId": "fdd23e60-af08-4a30-8298-3ef54b535432"
      },
      "outputs": [
        {
          "data": {
            "text/plain": [
              "2.9179089955598005"
            ]
          },
          "execution_count": 312,
          "metadata": {},
          "output_type": "execute_result"
        }
      ],
      "source": [
        "np.min(min)\n",
        "#min error with ridge"
      ]
    },
    {
      "cell_type": "code",
      "execution_count": null,
      "id": "327ce549",
      "metadata": {
        "id": "327ce549",
        "outputId": "3dc6ed6e-429d-45fa-de89-446389339bcd"
      },
      "outputs": [
        {
          "data": {
            "text/plain": [
              "4"
            ]
          },
          "execution_count": 313,
          "metadata": {},
          "output_type": "execute_result"
        }
      ],
      "source": [
        "deg_ridge=deg[np.argmin(min)]\n",
        "deg_ridge\n",
        "#best degree "
      ]
    },
    {
      "cell_type": "code",
      "execution_count": null,
      "id": "b73d6c7c",
      "metadata": {
        "id": "b73d6c7c",
        "outputId": "401c6f80-8199-4a9e-fd04-fb18a4e3bd6a"
      },
      "outputs": [
        {
          "data": {
            "text/plain": [
              "0.64"
            ]
          },
          "execution_count": 314,
          "metadata": {},
          "output_type": "execute_result"
        }
      ],
      "source": [
        "lambda_ridge=alpha[np.argmin(min)]\n",
        "lambda_ridge\n",
        "#best_lambda"
      ]
    },
    {
      "cell_type": "code",
      "execution_count": null,
      "id": "6c47ca5f",
      "metadata": {
        "id": "6c47ca5f",
        "outputId": "57076ec1-6088-4c8b-f259-0e68d8809bdc"
      },
      "outputs": [
        {
          "name": "stdout",
          "output_type": "stream",
          "text": [
            "score 87.71658889727311\n",
            "error 2.8118518922858935\n"
          ]
        }
      ],
      "source": [
        "#Test with Ridge regularizaton with best_degree 4 and lambda 0.64\n",
        "poly = PolynomialFeatures(degree = deg_ridge)\n",
        "X_poly = poly.fit_transform(X_train)\n",
        "x_poly_test=poly.transform(X_test)\n",
        "pol=linear_model.Ridge(alpha=lambda_ridge)\n",
        "pol.fit(X_poly, y_train) \n",
        "y_pred=pol.predict(x_poly_test)\n",
        "ypred_ridge_deg=pol.score(x_poly_test,y_test)\n",
        "mean_error_test_ridge_deg=np.sqrt(metrics.mean_squared_error(y_test,y_pred))\n",
        "print(\"score\",ypred_ridge_deg*100)\n",
        "print(\"error\",mean_error_test_ridge_deg)"
      ]
    },
    {
      "cell_type": "code",
      "execution_count": null,
      "id": "64abbf42",
      "metadata": {
        "id": "64abbf42"
      },
      "outputs": [],
      "source": [
        "#Testing linear_model with different paremeters\n",
        "reg_coef = linear_model.LinearRegression().fit(X_train, y_train)\n",
        "train_coeff=[]\n",
        "val_coeff=[]\n",
        "test_coeff=[]\n",
        "for i in range(0, 100000):\n",
        "    reg_coef.coef_= np.random.uniform(-10, 10,13)\n",
        "    train_coeff.append(np.sqrt(metrics.mean_squared_error(reg_coef.predict(X_train), y_train)))\n",
        "    val_coeff.append(np.sqrt(metrics.mean_squared_error(reg_coef.predict(X_val), y_val)))\n",
        "    test_coeff.append(np.sqrt(metrics.mean_squared_error(reg_coef.predict(X_test), y_test)))"
      ]
    },
    {
      "cell_type": "code",
      "execution_count": null,
      "id": "ff01cc1c",
      "metadata": {
        "id": "ff01cc1c",
        "outputId": "37b1fcdb-c0ce-4769-c6e0-8f16448d4009"
      },
      "outputs": [
        {
          "data": {
            "text/plain": [
              "5.562987777171256"
            ]
          },
          "execution_count": 317,
          "metadata": {},
          "output_type": "execute_result"
        }
      ],
      "source": [
        "np.min(val_coeff)"
      ]
    },
    {
      "cell_type": "code",
      "execution_count": null,
      "id": "566698b0",
      "metadata": {
        "id": "566698b0",
        "outputId": "4ef63f57-7cf0-42ff-c20d-869977c2cf4b"
      },
      "outputs": [
        {
          "data": {
            "text/plain": [
              "6.431339970691355"
            ]
          },
          "execution_count": 318,
          "metadata": {},
          "output_type": "execute_result"
        }
      ],
      "source": [
        "np.min(train_coeff)"
      ]
    },
    {
      "cell_type": "code",
      "execution_count": null,
      "id": "c51782c7",
      "metadata": {
        "id": "c51782c7",
        "outputId": "dcfea0c0-a0ff-43aa-f2bd-07cb1978f7cc"
      },
      "outputs": [
        {
          "data": {
            "text/plain": [
              "array([ 6.07904401, -1.06398807, -8.7875814 , -1.28056853,  0.46955254,\n",
              "       -7.01899646, -5.98580177,  6.62070789, -2.37306362, -4.9549849 ,\n",
              "        9.94500485, -5.06579341, -3.20739661])"
            ]
          },
          "execution_count": 319,
          "metadata": {},
          "output_type": "execute_result"
        }
      ],
      "source": [
        "reg_coef.coef_"
      ]
    },
    {
      "cell_type": "code",
      "execution_count": null,
      "id": "7f7a5478",
      "metadata": {
        "id": "7f7a5478",
        "outputId": "09198d64-fb36-4d00-8789-11a24bbd42e8"
      },
      "outputs": [
        {
          "data": {
            "text/plain": [
              "4.672823997089935"
            ]
          },
          "execution_count": 320,
          "metadata": {},
          "output_type": "execute_result"
        }
      ],
      "source": [
        "np.min(test_coeff)"
      ]
    },
    {
      "cell_type": "code",
      "execution_count": null,
      "id": "c6e0ca4f",
      "metadata": {
        "id": "c6e0ca4f",
        "outputId": "a382db10-737e-4de8-8dc1-58ed74d59e3e"
      },
      "outputs": [
        {
          "name": "stdout",
          "output_type": "stream",
          "text": [
            "4.897631730694839\n",
            "4.544170426467037\n",
            "4.621302764378058\n"
          ]
        }
      ],
      "source": [
        "reg = linear_model.LinearRegression().fit(X_train, y_train)\n",
        "print(np.sqrt(metrics.mean_squared_error(reg.predict(X_train), y_train)))\n",
        "print(np.sqrt(metrics.mean_squared_error(reg.predict(X_val), y_val)))\n",
        "print(np.sqrt(metrics.mean_squared_error(reg.predict(X_test), y_test)))"
      ]
    },
    {
      "cell_type": "code",
      "execution_count": null,
      "id": "e024851a",
      "metadata": {
        "id": "e024851a"
      },
      "outputs": [],
      "source": [
        "#with using predefined function it produces the best paremeters and it is faster so using it instead of generating paremeters each time"
      ]
    },
    {
      "cell_type": "code",
      "execution_count": null,
      "id": "44f4f49e",
      "metadata": {
        "id": "44f4f49e"
      },
      "outputs": [],
      "source": [
        ""
      ]
    }
  ],
  "metadata": {
    "kernelspec": {
      "display_name": "Python 3 (ipykernel)",
      "language": "python",
      "name": "python3"
    },
    "language_info": {
      "codemirror_mode": {
        "name": "ipython",
        "version": 3
      },
      "file_extension": ".py",
      "mimetype": "text/x-python",
      "name": "python",
      "nbconvert_exporter": "python",
      "pygments_lexer": "ipython3",
      "version": "3.9.7"
    },
    "colab": {
      "name": "Linear_Regression1_final_43-3247_.ipynb",
      "provenance": [],
      "include_colab_link": true
    }
  },
  "nbformat": 4,
  "nbformat_minor": 5
}