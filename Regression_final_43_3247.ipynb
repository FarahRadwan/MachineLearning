{
  "cells": [
    {
      "cell_type": "markdown",
      "metadata": {
        "id": "view-in-github",
        "colab_type": "text"
      },
      "source": [
        "<a href=\"https://colab.research.google.com/github/FarahRadwan/MachineLearning/blob/main/Regression_final_43_3247.ipynb\" target=\"_parent\"><img src=\"https://colab.research.google.com/assets/colab-badge.svg\" alt=\"Open In Colab\"/></a>"
      ]
    },
    {
      "cell_type": "code",
      "execution_count": null,
      "id": "0661f6f9",
      "metadata": {
        "id": "0661f6f9"
      },
      "outputs": [],
      "source": [
        "import numpy as np\n",
        "import pandas as pd\n",
        "import matplotlib.pyplot as plt\n",
        "import seaborn as sns\n",
        "from sklearn.model_selection import train_test_split,cross_val_score\n",
        "from sklearn import metrics, linear_model\n",
        "from sklearn.metrics import confusion_matrix\n",
        "from sklearn.metrics import accuracy_score, precision_score, recall_score, f1_score\n",
        "from sklearn.linear_model import Ridge\n",
        "from sklearn.preprocessing import PolynomialFeatures\n",
        "from sklearn import preprocessing\n",
        "from sklearn.metrics import accuracy_score, r2_score\n",
        "import warnings\n",
        "warnings.filterwarnings(\"ignore\")"
      ]
    },
    {
      "cell_type": "code",
      "execution_count": null,
      "id": "44329edd",
      "metadata": {
        "id": "44329edd"
      },
      "outputs": [],
      "source": [
        "\n",
        "from sklearn.datasets import load_boston\n",
        "boston = load_boston()"
      ]
    },
    {
      "cell_type": "code",
      "execution_count": null,
      "id": "e61f09a3",
      "metadata": {
        "id": "e61f09a3",
        "outputId": "ca4dff1c-557a-4311-9d5f-8a57920885a1"
      },
      "outputs": [
        {
          "data": {
            "text/html": [
              "<div>\n",
              "<style scoped>\n",
              "    .dataframe tbody tr th:only-of-type {\n",
              "        vertical-align: middle;\n",
              "    }\n",
              "\n",
              "    .dataframe tbody tr th {\n",
              "        vertical-align: top;\n",
              "    }\n",
              "\n",
              "    .dataframe thead th {\n",
              "        text-align: right;\n",
              "    }\n",
              "</style>\n",
              "<table border=\"1\" class=\"dataframe\">\n",
              "  <thead>\n",
              "    <tr style=\"text-align: right;\">\n",
              "      <th></th>\n",
              "      <th>CRIM</th>\n",
              "      <th>ZN</th>\n",
              "      <th>INDUS</th>\n",
              "      <th>CHAS</th>\n",
              "      <th>NOX</th>\n",
              "      <th>RM</th>\n",
              "      <th>AGE</th>\n",
              "      <th>DIS</th>\n",
              "      <th>RAD</th>\n",
              "      <th>TAX</th>\n",
              "      <th>PTRATIO</th>\n",
              "      <th>B</th>\n",
              "      <th>LSTAT</th>\n",
              "    </tr>\n",
              "  </thead>\n",
              "  <tbody>\n",
              "    <tr>\n",
              "      <th>0</th>\n",
              "      <td>0.00632</td>\n",
              "      <td>18.0</td>\n",
              "      <td>2.31</td>\n",
              "      <td>0.0</td>\n",
              "      <td>0.538</td>\n",
              "      <td>6.575</td>\n",
              "      <td>65.2</td>\n",
              "      <td>4.0900</td>\n",
              "      <td>1.0</td>\n",
              "      <td>296.0</td>\n",
              "      <td>15.3</td>\n",
              "      <td>396.90</td>\n",
              "      <td>4.98</td>\n",
              "    </tr>\n",
              "    <tr>\n",
              "      <th>1</th>\n",
              "      <td>0.02731</td>\n",
              "      <td>0.0</td>\n",
              "      <td>7.07</td>\n",
              "      <td>0.0</td>\n",
              "      <td>0.469</td>\n",
              "      <td>6.421</td>\n",
              "      <td>78.9</td>\n",
              "      <td>4.9671</td>\n",
              "      <td>2.0</td>\n",
              "      <td>242.0</td>\n",
              "      <td>17.8</td>\n",
              "      <td>396.90</td>\n",
              "      <td>9.14</td>\n",
              "    </tr>\n",
              "    <tr>\n",
              "      <th>2</th>\n",
              "      <td>0.02729</td>\n",
              "      <td>0.0</td>\n",
              "      <td>7.07</td>\n",
              "      <td>0.0</td>\n",
              "      <td>0.469</td>\n",
              "      <td>7.185</td>\n",
              "      <td>61.1</td>\n",
              "      <td>4.9671</td>\n",
              "      <td>2.0</td>\n",
              "      <td>242.0</td>\n",
              "      <td>17.8</td>\n",
              "      <td>392.83</td>\n",
              "      <td>4.03</td>\n",
              "    </tr>\n",
              "    <tr>\n",
              "      <th>3</th>\n",
              "      <td>0.03237</td>\n",
              "      <td>0.0</td>\n",
              "      <td>2.18</td>\n",
              "      <td>0.0</td>\n",
              "      <td>0.458</td>\n",
              "      <td>6.998</td>\n",
              "      <td>45.8</td>\n",
              "      <td>6.0622</td>\n",
              "      <td>3.0</td>\n",
              "      <td>222.0</td>\n",
              "      <td>18.7</td>\n",
              "      <td>394.63</td>\n",
              "      <td>2.94</td>\n",
              "    </tr>\n",
              "    <tr>\n",
              "      <th>4</th>\n",
              "      <td>0.06905</td>\n",
              "      <td>0.0</td>\n",
              "      <td>2.18</td>\n",
              "      <td>0.0</td>\n",
              "      <td>0.458</td>\n",
              "      <td>7.147</td>\n",
              "      <td>54.2</td>\n",
              "      <td>6.0622</td>\n",
              "      <td>3.0</td>\n",
              "      <td>222.0</td>\n",
              "      <td>18.7</td>\n",
              "      <td>396.90</td>\n",
              "      <td>5.33</td>\n",
              "    </tr>\n",
              "  </tbody>\n",
              "</table>\n",
              "</div>"
            ],
            "text/plain": [
              "      CRIM    ZN  INDUS  CHAS    NOX     RM   AGE     DIS  RAD    TAX  \\\n",
              "0  0.00632  18.0   2.31   0.0  0.538  6.575  65.2  4.0900  1.0  296.0   \n",
              "1  0.02731   0.0   7.07   0.0  0.469  6.421  78.9  4.9671  2.0  242.0   \n",
              "2  0.02729   0.0   7.07   0.0  0.469  7.185  61.1  4.9671  2.0  242.0   \n",
              "3  0.03237   0.0   2.18   0.0  0.458  6.998  45.8  6.0622  3.0  222.0   \n",
              "4  0.06905   0.0   2.18   0.0  0.458  7.147  54.2  6.0622  3.0  222.0   \n",
              "\n",
              "   PTRATIO       B  LSTAT  \n",
              "0     15.3  396.90   4.98  \n",
              "1     17.8  396.90   9.14  \n",
              "2     17.8  392.83   4.03  \n",
              "3     18.7  394.63   2.94  \n",
              "4     18.7  396.90   5.33  "
            ]
          },
          "execution_count": 3,
          "metadata": {},
          "output_type": "execute_result"
        }
      ],
      "source": [
        "df = pd.DataFrame(boston.data, columns = boston.feature_names)\n",
        "df.head()"
      ]
    },
    {
      "cell_type": "code",
      "execution_count": null,
      "id": "8815b8a9",
      "metadata": {
        "id": "8815b8a9",
        "outputId": "e6b2bb53-33fc-45a8-c01d-b9f1c005e4c3"
      },
      "outputs": [
        {
          "data": {
            "text/plain": [
              "CRIM       0\n",
              "ZN         0\n",
              "INDUS      0\n",
              "CHAS       0\n",
              "NOX        0\n",
              "RM         0\n",
              "AGE        0\n",
              "DIS        0\n",
              "RAD        0\n",
              "TAX        0\n",
              "PTRATIO    0\n",
              "B          0\n",
              "LSTAT      0\n",
              "dtype: int64"
            ]
          },
          "execution_count": 5,
          "metadata": {},
          "output_type": "execute_result"
        }
      ],
      "source": [
        "#Data doesnot contain null values\n",
        "df.isnull().sum()"
      ]
    },
    {
      "cell_type": "code",
      "execution_count": null,
      "id": "10589ce8",
      "metadata": {
        "id": "10589ce8"
      },
      "outputs": [],
      "source": [
        "#Scaling the data as they are not in the same range\n",
        "scaler = preprocessing.MinMaxScaler()\n",
        "x_scaled = scaler.fit_transform(df)\n",
        "#y_scaled=scaler.fit_transform(y)"
      ]
    },
    {
      "cell_type": "code",
      "execution_count": null,
      "id": "732492a9",
      "metadata": {
        "id": "732492a9",
        "outputId": "c39338d7-7d94-4000-f1e1-f4d773362085"
      },
      "outputs": [
        {
          "name": "stdout",
          "output_type": "stream",
          "text": [
            "X_train shape: (303, 13)\n",
            "X_test shape: (102, 13)\n",
            "y_train shape: (303,)\n",
            "y_test shape: (102,)\n",
            "X_val shape: (303,)\n",
            "y val shape: (102,)\n"
          ]
        }
      ],
      "source": [
        "#Dividing data into train,test,validation 60,20,20\n",
        "y = boston.target\n",
        "X_train, X_test, y_train, y_test = train_test_split(x_scaled, y, test_size=0.2)\n",
        "X_train, X_val, y_train, y_val = train_test_split(X_train, y_train, \n",
        "    test_size=0.25) #0.8*0.25=0.2\n",
        "print(\"X_train shape: {}\".format(X_train.shape))\n",
        "print(\"X_test shape: {}\".format(X_test.shape))\n",
        "print(\"y_train shape: {}\".format(y_train.shape))\n",
        "print(\"y_test shape: {}\".format(y_test.shape))\n",
        "print(\"X_val shape: {}\".format(y_train.shape))\n",
        "print(\"y val shape: {}\".format(y_test.shape))"
      ]
    },
    {
      "cell_type": "code",
      "execution_count": null,
      "id": "19e8ea99",
      "metadata": {
        "id": "19e8ea99",
        "outputId": "8c6bb6de-51a8-4cd8-e68b-923686fd9f87"
      },
      "outputs": [
        {
          "name": "stdout",
          "output_type": "stream",
          "text": [
            "RMSE of Linear Regression without Regularization 4.280476025918134\n",
            "Accuracy_score: 0.7264180700300042\n",
            "RMSE of Linear Regression without Regularization Validation 4.388022757007598\n",
            "Accuracy_score Validation: 0.8146205453990177\n"
          ]
        }
      ],
      "source": [
        "#Applying Linear regression\n",
        "lm = linear_model.LinearRegression()\n",
        "model = lm.fit(X_train, y_train)\n",
        "predictions = lm.predict(X_test)\n",
        "print(\"RMSE of Linear Regression without Regularization\",np.sqrt(metrics.mean_squared_error(y_test,predictions)))\n",
        "acc=lm.score(X_test,y_test)\n",
        "print(\"Accuracy_score:\",acc)\n",
        "r2 = r2_score(y_test, predictions)\n",
        "predictions_val=lm.predict(X_val)\n",
        "print(\"RMSE of Linear Regression without Regularization Validation\",np.sqrt(metrics.mean_squared_error(y_val,predictions_val)))\n",
        "acc_val=lm.score(X_val,y_val)\n",
        "print(\"Accuracy_score Validation:\",acc_val)\n",
        "#The fisrt 2 outputs on the test"
      ]
    },
    {
      "cell_type": "code",
      "execution_count": null,
      "id": "be74352c",
      "metadata": {
        "id": "be74352c"
      },
      "outputs": [],
      "source": [
        "#To get the best degree without regularization\n",
        "err_val=[]\n",
        "deg=[]\n",
        "err_train=[]\n",
        "score_val=[]\n",
        "score_train=[]\n",
        "errval=[]\n",
        "errtrain=[]\n",
        "for i in range(10):\n",
        "    x=i+1\n",
        "    deg.append(x)\n",
        "    poly = PolynomialFeatures(degree = x)\n",
        "    X_poly = poly.fit_transform(X_train)\n",
        "    x_poly_val=poly.fit_transform(X_val)\n",
        "    pol=linear_model.LinearRegression()\n",
        "    pol.fit(X_poly, y_train) \n",
        "    y_pred=pol.predict(x_poly_val)\n",
        "    scre_val=pol.score(x_poly_val,y_val)\n",
        "    mean_error=np.sqrt(metrics.mean_squared_error(y_val,y_pred))\n",
        "    err_val.append(mean_error)\n",
        "    score_val.append(scre_val)\n",
        "    y_train_pred=pol.predict(X_poly)\n",
        "    mean_error_train=np.sqrt(metrics.mean_squared_error(y_train,y_train_pred))\n",
        "    err_train.append(mean_error_train)\n",
        "    scre_train=pol.score(X_poly,y_train)"
      ]
    },
    {
      "cell_type": "code",
      "execution_count": null,
      "id": "8e5e5b88",
      "metadata": {
        "id": "8e5e5b88",
        "outputId": "dfb16f9d-fc0b-4315-e80f-cc1651187943"
      },
      "outputs": [
        {
          "name": "stdout",
          "output_type": "stream",
          "text": [
            "Degree of the polynomial is 1\n",
            "RMSE without Regularization on validation 4.388022757007597\n",
            "score without regularization on validation 81.46205453990177\n"
          ]
        }
      ],
      "source": [
        "best_degree=deg[np.argmin(err_val)]\n",
        "print(\"Degree of the polynomial is\",best_degree)\n",
        "print(\"RMSE without Regularization on validation\",np.min(err_val))\n",
        "print(\"score without regularization on validation\",np.max(score_val)*100)"
      ]
    },
    {
      "cell_type": "code",
      "execution_count": null,
      "id": "5bb22b54",
      "metadata": {
        "id": "5bb22b54",
        "outputId": "63cdd70c-ea94-4fae-b6de-8da383f5b653"
      },
      "outputs": [
        {
          "name": "stdout",
          "output_type": "stream",
          "text": [
            "score of the best degree on test: 72.64180700300047\n",
            "Error of the best degree on test set: 4.28047602591813\n"
          ]
        }
      ],
      "source": [
        "# get accuracy of best degree on test set without regularization\n",
        "poly = PolynomialFeatures(degree = best_degree)\n",
        "X_poly = poly.fit_transform(X_train)\n",
        "x_poly_test=poly.fit_transform(X_test)\n",
        "pol=linear_model.LinearRegression()\n",
        "pol.fit(X_poly, y_train) \n",
        "y_pred=pol.predict(x_poly_test)\n",
        "score_noregul=pol.score(x_poly_test,y_test)\n",
        "mean_error_noregul=np.sqrt(metrics.mean_squared_error(y_test,y_pred))\n",
        "print(\"score of the best degree on test:\",score_noregul*100)\n",
        "print(\"Error of the best degree on test set:\",mean_error_noregul)"
      ]
    },
    {
      "cell_type": "code",
      "execution_count": null,
      "id": "6fe4361b",
      "metadata": {
        "id": "6fe4361b"
      },
      "outputs": [],
      "source": [
        "#Lasso regularization with the best degree obtained\n",
        "err_val=[]\n",
        "deg=[]\n",
        "err_train=[]\n",
        "alpha=[]\n",
        "errval=[]\n",
        "errtrain=[]\n",
        "scr_val=[]\n",
        "scr_train=[]\n",
        "lambdas=[0,0.01,0.02,0.04,0.08,0.16,0.32,0.64,2.56,5.12,10.24,20,100,500,1000]\n",
        "for i in lambdas:\n",
        "    alpha.append(i)\n",
        "    poly = PolynomialFeatures(degree = best_degree)\n",
        "    X_poly = poly.fit_transform(X_train)\n",
        "    x_poly_val=poly.fit_transform(X_val)\n",
        "    pol=linear_model.Lasso(alpha=i)\n",
        "    pol.fit(X_poly, y_train) \n",
        "    scrval=pol.score(x_poly_val,y_val)\n",
        "    scr_val.append(scrval)\n",
        "    errval.append(1-scrval)\n",
        "    y_pred=pol.predict(x_poly_val)\n",
        "    mean_error=np.sqrt(metrics.mean_squared_error(y_val,y_pred))\n",
        "    err_val.append(mean_error)\n",
        "    y_train_pred=pol.predict(X_poly)\n",
        "    scrtrain=pol.score(X_poly,y_train)\n",
        "    scr_train.append(scrtrain)\n",
        "    errtrain.append(1-scrtrain)\n",
        "    mean_error_train=np.sqrt(metrics.mean_squared_error(y_train,y_train_pred))\n",
        "    err_train.append(mean_error_train)"
      ]
    },
    {
      "cell_type": "code",
      "execution_count": null,
      "id": "7f829a2c",
      "metadata": {
        "id": "7f829a2c",
        "outputId": "b3303752-9c4d-4f04-a0f8-197e9398e950"
      },
      "outputs": [
        {
          "data": {
            "image/png": "[encoded data removed]",
            "text/plain": [
              "<Figure size 432x288 with 1 Axes>"
            ]
          },
          "metadata": {
            "needs_background": "light"
          },
          "output_type": "display_data"
        }
      ],
      "source": [
        "fig, ax = plt.subplots()\n",
        "ax.plot(alpha, err_train, '-b', label='Train')\n",
        "ax.plot(alpha, err_val, '-r', label='Cross_validation')\n",
        "plt.xlabel(\"lambda\")\n",
        "plt.ylabel(\"Cost Function\")\n",
        "leg = ax.legend();\n",
        "#Overfitting in the data"
      ]
    },
    {
      "cell_type": "code",
      "execution_count": null,
      "id": "9cf8cd36",
      "metadata": {
        "id": "9cf8cd36",
        "outputId": "5c2b4625-e540-49d4-d220-567328672309"
      },
      "outputs": [
        {
          "data": {
            "text/plain": [
              "0.01"
            ]
          },
          "execution_count": 25,
          "metadata": {},
          "output_type": "execute_result"
        }
      ],
      "source": [
        "best=lambdas[np.argmin(err_val)]\n",
        "best\n",
        "#best_lambda the less error in both train and cross"
      ]
    },
    {
      "cell_type": "code",
      "execution_count": null,
      "id": "7567bd04",
      "metadata": {
        "id": "7567bd04",
        "outputId": "25e983f7-ee28-4d80-e918-060516cfffa2"
      },
      "outputs": [
        {
          "data": {
            "text/plain": [
              "[4.388022757007602,\n",
              " 4.369669320018715,\n",
              " 4.381642872891507,\n",
              " 4.5224833063493275,\n",
              " 4.794733388558716,\n",
              " 5.368329460492701,\n",
              " 6.441631147894441,\n",
              " 7.869294995260297,\n",
              " 10.251864867498252,\n",
              " 10.251864867498252,\n",
              " 10.251864867498252,\n",
              " 10.251864867498252,\n",
              " 10.251864867498252,\n",
              " 10.251864867498252,\n",
              " 10.251864867498252]"
            ]
          },
          "execution_count": 26,
          "metadata": {},
          "output_type": "execute_result"
        }
      ],
      "source": [
        "err_val"
      ]
    },
    {
      "cell_type": "code",
      "execution_count": null,
      "id": "921a435e",
      "metadata": {
        "id": "921a435e",
        "outputId": "f5a7b5ca-8f1d-4cac-fe86-6277006f777a"
      },
      "outputs": [
        {
          "data": {
            "text/plain": [
              "[4.963991815918326,\n",
              " 4.97502588048912,\n",
              " 5.006994153355167,\n",
              " 5.104937297803286,\n",
              " 5.284836735115555,\n",
              " 5.624343183073581,\n",
              " 6.125616218105777,\n",
              " 7.044224659379838,\n",
              " 9.102584867469426,\n",
              " 9.102584867469426,\n",
              " 9.102584867469426,\n",
              " 9.102584867469426,\n",
              " 9.102584867469426,\n",
              " 9.102584867469426,\n",
              " 9.102584867469426]"
            ]
          },
          "execution_count": 27,
          "metadata": {},
          "output_type": "execute_result"
        }
      ],
      "source": [
        "err_train"
      ]
    },
    {
      "cell_type": "code",
      "execution_count": null,
      "id": "40ea023b",
      "metadata": {
        "id": "40ea023b"
      },
      "outputs": [],
      "source": [
        "diff_lasso=[]\n",
        "for i in range (len(err_train)):\n",
        "    diff_lasso.append(np.abs(err_val[i]-err_train[i]))\n",
        "    "
      ]
    },
    {
      "cell_type": "code",
      "execution_count": null,
      "id": "f46c7848",
      "metadata": {
        "id": "f46c7848",
        "outputId": "92b64db7-e3b2-4151-e41e-cc64616c9d0a"
      },
      "outputs": [
        {
          "data": {
            "text/plain": [
              "[0.575969058910724,\n",
              " 0.6053565604704056,\n",
              " 0.6253512804636605,\n",
              " 0.5824539914539582,\n",
              " 0.4901033465568396,\n",
              " 0.25601372258087984,\n",
              " 0.31601492978866386,\n",
              " 0.8250703358804596,\n",
              " 1.149280000028826,\n",
              " 1.149280000028826,\n",
              " 1.149280000028826,\n",
              " 1.149280000028826,\n",
              " 1.149280000028826,\n",
              " 1.149280000028826,\n",
              " 1.149280000028826]"
            ]
          },
          "execution_count": 38,
          "metadata": {},
          "output_type": "execute_result"
        }
      ],
      "source": [
        "diff_lasso "
      ]
    },
    {
      "cell_type": "code",
      "execution_count": null,
      "id": "d13c8ad2",
      "metadata": {
        "id": "d13c8ad2",
        "outputId": "3ccfe0cd-7225-463e-852c-eac9ba83a872"
      },
      "outputs": [
        {
          "name": "stdout",
          "output_type": "stream",
          "text": [
            "score_lasso 73.03876763812924\n",
            "error_lasso 4.249308227648012\n"
          ]
        }
      ],
      "source": [
        "#Test with lasso regularizaton with best_degree\n",
        "poly = PolynomialFeatures(degree = best_degree)\n",
        "X_poly = poly.fit_transform(X_train)\n",
        "x_poly_test=poly.fit_transform(X_test)\n",
        "pol=linear_model.Lasso(alpha=best)\n",
        "pol.fit(X_poly, y_train) \n",
        "y_pred=pol.predict(x_poly_test)\n",
        "ypred_lasso=pol.score(x_poly_test,y_test)\n",
        "mean_error_test_lasso=np.sqrt(metrics.mean_squared_error(y_test,y_pred))\n",
        "print(\"score_lasso\",ypred_lasso*100)\n",
        "print(\"error_lasso\",mean_error_test_lasso)"
      ]
    },
    {
      "cell_type": "code",
      "execution_count": null,
      "id": "b2a29d17",
      "metadata": {
        "id": "b2a29d17"
      },
      "outputs": [],
      "source": [
        "#Ridge regularization with the best degree obtained\n",
        "err_val=[]\n",
        "deg=[]\n",
        "err_train=[]\n",
        "alpha=[]\n",
        "errval=[]\n",
        "errtrain=[]\n",
        "scr_val=[]\n",
        "scr_train=[]\n",
        "lambdas=[0,0.01,0.02,0.04,0.08,0.16,0.32,0.64,2.56,5.12,10.24,20]\n",
        "for i in lambdas:\n",
        "    alpha.append(i)\n",
        "    poly = PolynomialFeatures(degree = best_degree)\n",
        "    X_poly = poly.fit_transform(X_train)\n",
        "    x_poly_val=poly.fit_transform(X_val)\n",
        "    pol=linear_model.Ridge(alpha=i)\n",
        "    pol.fit(X_poly, y_train) \n",
        "    scrval=pol.score(x_poly_val,y_val)\n",
        "    scr_val.append(scrval)\n",
        "    errval.append(1-scrval)\n",
        "    y_pred=pol.predict(x_poly_val)\n",
        "    mean_error=np.sqrt(metrics.mean_squared_error(y_val,y_pred))\n",
        "    err_val.append(mean_error)\n",
        "    y_train_pred=pol.predict(X_poly)\n",
        "    scrtrain=pol.score(X_poly,y_train)\n",
        "    scr_train.append(scrtrain)\n",
        "    errtrain.append(1-scrtrain)\n",
        "    mean_error_train=np.sqrt(metrics.mean_squared_error(y_train,y_train_pred))\n",
        "    err_train.append(mean_error_train)"
      ]
    },
    {
      "cell_type": "code",
      "execution_count": null,
      "id": "d364728f",
      "metadata": {
        "id": "d364728f",
        "outputId": "b0c8bd3a-8ca6-4cc0-9a0e-df45200dd683"
      },
      "outputs": [
        {
          "data": {
            "image/png": "[encoded data removed]",
            "text/plain": [
              "<Figure size 432x288 with 1 Axes>"
            ]
          },
          "metadata": {
            "needs_background": "light"
          },
          "output_type": "display_data"
        }
      ],
      "source": [
        "fig, ax = plt.subplots()\n",
        "ax.plot(alpha, err_train, '-b', label='Train')\n",
        "ax.plot(alpha, err_val, '-r', label='Cross_validation')\n",
        "plt.xlabel(\"Rregularization_lasso\")\n",
        "plt.ylabel(\"Cost Function\")\n",
        "leg = ax.legend();"
      ]
    },
    {
      "cell_type": "code",
      "execution_count": null,
      "id": "fe74122d",
      "metadata": {
        "id": "fe74122d",
        "outputId": "a8657dd8-734b-4559-f214-b09cb9a978a9"
      },
      "outputs": [
        {
          "data": {
            "text/plain": [
              "0.64"
            ]
          },
          "execution_count": 56,
          "metadata": {},
          "output_type": "execute_result"
        }
      ],
      "source": [
        "best_ridge=lambdas[np.argmin(err_val)]\n",
        "best_ridge"
      ]
    },
    {
      "cell_type": "code",
      "execution_count": null,
      "id": "6f176093",
      "metadata": {
        "id": "6f176093",
        "outputId": "e095ec7a-3305-46c1-f96f-e650287e72e7"
      },
      "outputs": [
        {
          "data": {
            "text/plain": [
              "[4.388022757007599,\n",
              " 4.3863328234804175,\n",
              " 4.384683940441287,\n",
              " 4.381506592878042,\n",
              " 4.3756153621925415,\n",
              " 4.365553515183608,\n",
              " 4.35141041750434,\n",
              " 4.341686555275644,\n",
              " 4.518234170655634,\n",
              " 4.899907119403815,\n",
              " 5.559757153392463,\n",
              " 6.364818339764303]"
            ]
          },
          "execution_count": 57,
          "metadata": {},
          "output_type": "execute_result"
        }
      ],
      "source": [
        "err_val"
      ]
    },
    {
      "cell_type": "code",
      "execution_count": null,
      "id": "4d054369",
      "metadata": {
        "id": "4d054369",
        "outputId": "c899b653-6490-4957-ea24-84bc22489a0e"
      },
      "outputs": [
        {
          "data": {
            "text/plain": [
              "[4.963991815918326,\n",
              " 4.964003332498759,\n",
              " 4.964037544944713,\n",
              " 4.964172090772134,\n",
              " 4.964692654776959,\n",
              " 4.96664571900412,\n",
              " 4.973580267255145,\n",
              " 4.996069436172217,\n",
              " 5.21353627013415,\n",
              " 5.514786270016176,\n",
              " 5.982068028025326,\n",
              " 6.529375217769501]"
            ]
          },
          "execution_count": 58,
          "metadata": {},
          "output_type": "execute_result"
        }
      ],
      "source": [
        "err_train"
      ]
    },
    {
      "cell_type": "code",
      "execution_count": null,
      "id": "0e205303",
      "metadata": {
        "id": "0e205303",
        "outputId": "9f4ca355-c66b-4d18-e1f7-4739879ba391"
      },
      "outputs": [
        {
          "name": "stdout",
          "output_type": "stream",
          "text": [
            "score 73.98320640531588\n",
            "error 4.1742191895593175\n"
          ]
        }
      ],
      "source": [
        "#Test with lasso regularizaton with best_degree\n",
        "poly = PolynomialFeatures(degree = best_degree)\n",
        "X_poly = poly.fit_transform(X_train)\n",
        "x_poly_test=poly.fit_transform(X_test)\n",
        "pol=linear_model.Ridge(alpha=best_ridge)\n",
        "pol.fit(X_poly, y_train) \n",
        "y_pred=pol.predict(x_poly_test)\n",
        "ypred_ridge=pol.score(x_poly_test,y_test)\n",
        "mean_error_test_ridge=np.sqrt(metrics.mean_squared_error(y_test,y_pred))\n",
        "print(\"score\",ypred_ridge*100)\n",
        "print(\"error\",mean_error_test_ridge)"
      ]
    },
    {
      "cell_type": "code",
      "execution_count": null,
      "id": "d927362c",
      "metadata": {
        "id": "d927362c",
        "outputId": "7faed2c8-544d-422a-f985-0a0d2c1e398e"
      },
      "outputs": [
        {
          "name": "stdout",
          "output_type": "stream",
          "text": [
            "Error without Regularization: 4.28047602591813\n",
            "score without Regularization: 72.64180700300047\n",
            "Error with Lasso: 4.249308227648012\n",
            "score with Lasso: 73.03876763812924\n",
            "Error with Ridge: 4.1742191895593175\n",
            "score with Ridge: 73.98320640531588\n"
          ]
        }
      ],
      "source": [
        "print(\"Error without Regularization:\",mean_error_noregul)\n",
        "print(\"score without Regularization:\",score_noregul*100)\n",
        "print(\"Error with Lasso:\",mean_error_test_lasso)\n",
        "print(\"score with Lasso:\",ypred_lasso*100)\n",
        "print(\"Error with Ridge:\",mean_error_test_ridge)\n",
        "print(\"score with Ridge:\",ypred_ridge*100)\n"
      ]
    },
    {
      "cell_type": "code",
      "execution_count": null,
      "id": "bdee6ca4",
      "metadata": {
        "id": "bdee6ca4",
        "outputId": "aa514411-b7f9-4098-afa1-66847a5838bd"
      },
      "outputs": [
        {
          "name": "stdout",
          "output_type": "stream",
          "text": [
            "0\n",
            "1\n",
            "2\n",
            "3\n",
            "4\n",
            "5\n",
            "6\n",
            "7\n",
            "8\n",
            "9\n"
          ]
        },
        {
          "data": {
            "image/png": "[encoded data removed]",
            "text/plain": [
              "<Figure size 432x288 with 1 Axes>"
            ]
          },
          "metadata": {
            "needs_background": "light"
          },
          "output_type": "display_data"
        },
        {
          "data": {
            "image/png": "[encoded data removed]",
            "text/plain": [
              "<Figure size 432x288 with 1 Axes>"
            ]
          },
          "metadata": {
            "needs_background": "light"
          },
          "output_type": "display_data"
        },
        {
          "data": {
            "image/png": "[encoded data removed]",
            "text/plain": [
              "<Figure size 432x288 with 1 Axes>"
            ]
          },
          "metadata": {
            "needs_background": "light"
          },
          "output_type": "display_data"
        },
        {
          "data": {
            "image/png": "[encoded data removed]",
            "text/plain": [
              "<Figure size 432x288 with 1 Axes>"
            ]
          },
          "metadata": {
            "needs_background": "light"
          },
          "output_type": "display_data"
        },
        {
          "data": {
            "image/png": "[encoded data removed]",
            "text/plain": [
              "<Figure size 432x288 with 1 Axes>"
            ]
          },
          "metadata": {
            "needs_background": "light"
          },
          "output_type": "display_data"
        },
        {
          "data": {
            "image/png": "[encoded data removed]",
            "text/plain": [
              "<Figure size 432x288 with 1 Axes>"
            ]
          },
          "metadata": {
            "needs_background": "light"
          },
          "output_type": "display_data"
        },
        {
          "data": {
            "image/png": "[encoded data removed]",
            "text/plain": [
              "<Figure size 432x288 with 1 Axes>"
            ]
          },
          "metadata": {
            "needs_background": "light"
          },
          "output_type": "display_data"
        },
        {
          "data": {
            "image/png": "[encoded data removed]",
            "text/plain": [
              "<Figure size 432x288 with 1 Axes>"
            ]
          },
          "metadata": {
            "needs_background": "light"
          },
          "output_type": "display_data"
        },
        {
          "data": {
            "image/png": "[encoded data removed]",
            "text/plain": [
              "<Figure size 432x288 with 1 Axes>"
            ]
          },
          "metadata": {
            "needs_background": "light"
          },
          "output_type": "display_data"
        },
        {
          "data": {
            "image/png": "[encoded data removed]",
            "text/plain": [
              "<Figure size 432x288 with 1 Axes>"
            ]
          },
          "metadata": {
            "needs_background": "light"
          },
          "output_type": "display_data"
        }
      ],
      "source": [
        "#Lasso Regulurization with degrees \n",
        "min=[]\n",
        "alpha=[]\n",
        "deg=[]\n",
        "best_degree_reg=[]\n",
        "lambdas=[0,0.01,0.02,0.04,0.08,0.16,0.32,0.64,2.56,5.12,10.24,20]\n",
        "for i in range (10):\n",
        "    err_val=[]\n",
        "    for j in lambdas :\n",
        "     poly = PolynomialFeatures(degree = i+1)\n",
        "     X_poly = poly.fit_transform(X_train)\n",
        "     x_poly_val=poly.fit_transform(X_val)\n",
        "     pol=linear_model.Lasso(alpha=j)\n",
        "     pol.fit(X_poly, y_train) \n",
        "     y_pred=pol.predict(x_poly_val)\n",
        "     mean_error=np.sqrt(metrics.mean_squared_error(y_val,y_pred))\n",
        "     err_val.append(mean_error)\n",
        "     y_train_pred=pol.predict(X_poly)\n",
        "     mean_error_train=np.sqrt(metrics.mean_squared_error(y_train,y_train_pred))\n",
        "     err_train.append(mean_error_train)\n",
        "    print(i)\n",
        "    plt.figure()\n",
        "    plt.plot(lambdas,err_val)\n",
        "    x=\"Degree\"+str(i+1)\n",
        "    plt.title(x)\n",
        "    plt.xlabel(\"Alpha\")\n",
        "    plt.ylabel(\"Error\")\n",
        "    min.append(np.min(err_val))\n",
        "    alpha.append(lambdas[np.argmin(err_val)])\n",
        "    deg.append(i+1)\n",
        "   "
      ]
    },
    {
      "cell_type": "code",
      "execution_count": null,
      "id": "84b1fc82",
      "metadata": {
        "id": "84b1fc82",
        "outputId": "c647afd6-679a-4e6a-9ad2-c638e215d3f4"
      },
      "outputs": [
        {
          "data": {
            "text/plain": [
              "3.014547559152594"
            ]
          },
          "execution_count": 88,
          "metadata": {},
          "output_type": "execute_result"
        }
      ],
      "source": [
        "np.min(min)\n",
        "#min_error"
      ]
    },
    {
      "cell_type": "code",
      "execution_count": null,
      "id": "21483a0a",
      "metadata": {
        "id": "21483a0a",
        "outputId": "cc512e95-7845-4de6-8523-72f757c72050"
      },
      "outputs": [
        {
          "data": {
            "text/plain": [
              "6"
            ]
          },
          "execution_count": 89,
          "metadata": {},
          "output_type": "execute_result"
        }
      ],
      "source": [
        "deg_lasso=deg[np.argmin(min)]\n",
        "deg_lasso\n",
        "#the degree used is 6"
      ]
    },
    {
      "cell_type": "code",
      "execution_count": null,
      "id": "0cbd8022",
      "metadata": {
        "id": "0cbd8022",
        "outputId": "aeeb36ca-7d29-49d1-ff35-d977c68df0bc"
      },
      "outputs": [
        {
          "data": {
            "text/plain": [
              "0.01"
            ]
          },
          "execution_count": 90,
          "metadata": {},
          "output_type": "execute_result"
        }
      ],
      "source": [
        "lambda_lasso=alpha[np.argmin(min)]\n",
        "lambda_lasso\n",
        "#the most suitable lambda to use"
      ]
    },
    {
      "cell_type": "code",
      "execution_count": null,
      "id": "5e948b7c",
      "metadata": {
        "id": "5e948b7c",
        "outputId": "edfefcd6-61ad-46e4-eba7-e2ecb22af121"
      },
      "outputs": [
        {
          "name": "stdout",
          "output_type": "stream",
          "text": [
            "score 86.43444818520938\n",
            "error 3.014165515152638\n"
          ]
        }
      ],
      "source": [
        "#Test with lasso regularizaton with best_degree 6 and lambda_lasso 0.01\n",
        "poly = PolynomialFeatures(degree = deg_lasso)\n",
        "X_poly = poly.fit_transform(X_train)\n",
        "x_poly_test=poly.fit_transform(X_test)\n",
        "pol=linear_model.Lasso(alpha=lambda_lasso)\n",
        "pol.fit(X_poly, y_train) \n",
        "y_pred=pol.predict(x_poly_test)\n",
        "ypred=pol.score(x_poly_test,y_test)\n",
        "mean_error_test=np.sqrt(metrics.mean_squared_error(y_test,y_pred))\n",
        "print(\"score\",ypred*100)\n",
        "print(\"error\",mean_error_test)"
      ]
    },
    {
      "cell_type": "code",
      "execution_count": null,
      "id": "94ae5feb",
      "metadata": {
        "id": "94ae5feb",
        "outputId": "de56db28-bf90-441b-c29c-2bec8012cdaf"
      },
      "outputs": [
        {
          "name": "stdout",
          "output_type": "stream",
          "text": [
            "0\n",
            "1\n",
            "2\n",
            "3\n",
            "4\n",
            "5\n",
            "6\n",
            "7\n",
            "8\n",
            "9\n"
          ]
        },
        {
          "data": {
            "image/png": "[encoded data removed]",
            "text/plain": [
              "<Figure size 432x288 with 1 Axes>"
            ]
          },
          "metadata": {
            "needs_background": "light"
          },
          "output_type": "display_data"
        },
        {
          "data": {
            "image/png": "[encoded data removed]",
            "text/plain": [
              "<Figure size 432x288 with 1 Axes>"
            ]
          },
          "metadata": {
            "needs_background": "light"
          },
          "output_type": "display_data"
        },
        {
          "data": {
            "image/png": "[encoded data removed]",
            "text/plain": [
              "<Figure size 432x288 with 1 Axes>"
            ]
          },
          "metadata": {
            "needs_background": "light"
          },
          "output_type": "display_data"
        },
        {
          "data": {
            "image/png": "[encoded data removed]",
            "text/plain": [
              "<Figure size 432x288 with 1 Axes>"
            ]
          },
          "metadata": {
            "needs_background": "light"
          },
          "output_type": "display_data"
        },
        {
          "data": {
            "image/png": "[encoded data removed]",
            "text/plain": [
              "<Figure size 432x288 with 1 Axes>"
            ]
          },
          "metadata": {
            "needs_background": "light"
          },
          "output_type": "display_data"
        },
        {
          "data": {
            "image/png": "[encoded data removed]",
            "text/plain": [
              "<Figure size 432x288 with 1 Axes>"
            ]
          },
          "metadata": {
            "needs_background": "light"
          },
          "output_type": "display_data"
        },
        {
          "data": {
            "image/png": "[encoded data removed]",
            "text/plain": [
              "<Figure size 432x288 with 1 Axes>"
            ]
          },
          "metadata": {
            "needs_background": "light"
          },
          "output_type": "display_data"
        },
        {
          "data": {
            "image/png": "[encoded data removed]",
            "text/plain": [
              "<Figure size 432x288 with 1 Axes>"
            ]
          },
          "metadata": {
            "needs_background": "light"
          },
          "output_type": "display_data"
        },
        {
          "data": {
            "image/png": "[encoded data removed]",
            "text/plain": [
              "<Figure size 432x288 with 1 Axes>"
            ]
          },
          "metadata": {
            "needs_background": "light"
          },
          "output_type": "display_data"
        },
        {
          "data": {
            "image/png": "[encoded data removed]",
            "text/plain": [
              "<Figure size 432x288 with 1 Axes>"
            ]
          },
          "metadata": {
            "needs_background": "light"
          },
          "output_type": "display_data"
        }
      ],
      "source": [
        "#Ridge Regulurization with degrees \n",
        "min=[]\n",
        "alpha=[]\n",
        "deg=[]\n",
        "best_degree_reg=[]\n",
        "lambdas=[0,0.01,0.02,0.04,0.08,0.16,0.32,0.64,2.56,5.12,10.24,20]\n",
        "for i in range (10):\n",
        "    err_val=[]\n",
        "    for j in lambdas :\n",
        "     poly = PolynomialFeatures(degree = i+1)\n",
        "     X_poly = poly.fit_transform(X_train)\n",
        "     x_poly_val=poly.fit_transform(X_val)\n",
        "     pol=linear_model.Ridge(alpha=j)\n",
        "     pol.fit(X_poly, y_train) \n",
        "     y_pred=pol.predict(x_poly_val)\n",
        "     mean_error=np.sqrt(metrics.mean_squared_error(y_val,y_pred))\n",
        "     err_val.append(mean_error)\n",
        "     y_train_pred=pol.predict(X_poly)\n",
        "     mean_error_train=np.sqrt(metrics.mean_squared_error(y_train,y_train_pred))\n",
        "     err_train.append(mean_error_train)\n",
        "    print(i)\n",
        "    plt.figure()\n",
        "    plt.plot(lambdas,err_val)\n",
        "    x=\"Degree\"+str(i+1)\n",
        "    plt.title(x)\n",
        "    plt.xlabel(\"Alpha\")\n",
        "    plt.ylabel(\"Error\")\n",
        "    min.append(np.min(err_val))\n",
        "    alpha.append(lambdas[np.argmin(err_val)])\n",
        "    deg.append(i+1)\n",
        "   "
      ]
    },
    {
      "cell_type": "code",
      "execution_count": null,
      "id": "d7309ef5",
      "metadata": {
        "id": "d7309ef5",
        "outputId": "4a51f72f-a45b-486a-8cfd-4bea7769dce4"
      },
      "outputs": [
        {
          "data": {
            "text/plain": [
              "2.6326796156737724"
            ]
          },
          "execution_count": 83,
          "metadata": {},
          "output_type": "execute_result"
        }
      ],
      "source": [
        "np.min(min)\n",
        "#min error with ridge"
      ]
    },
    {
      "cell_type": "code",
      "execution_count": null,
      "id": "88fd45c1",
      "metadata": {
        "id": "88fd45c1",
        "outputId": "12d4e5f4-e138-4c3f-d0f4-fee490737382"
      },
      "outputs": [
        {
          "data": {
            "text/plain": [
              "4"
            ]
          },
          "execution_count": 84,
          "metadata": {},
          "output_type": "execute_result"
        }
      ],
      "source": [
        "deg_ridge=deg[np.argmin(min)]\n",
        "deg_ridge\n",
        "#best degree "
      ]
    },
    {
      "cell_type": "code",
      "execution_count": null,
      "id": "e4424e0a",
      "metadata": {
        "id": "e4424e0a",
        "outputId": "8b4be2c2-272e-48cc-fc78-b9a0303d826a"
      },
      "outputs": [
        {
          "data": {
            "text/plain": [
              "0.16"
            ]
          },
          "execution_count": 85,
          "metadata": {},
          "output_type": "execute_result"
        }
      ],
      "source": [
        "lambda_ridge=alpha[np.argmin(min)]\n",
        "lambda_ridge\n",
        "#best_lambda"
      ]
    },
    {
      "cell_type": "code",
      "execution_count": null,
      "id": "ae7b0a5c",
      "metadata": {
        "id": "ae7b0a5c",
        "outputId": "00dae089-4b22-4c60-c8c5-a69883a361f1"
      },
      "outputs": [
        {
          "name": "stdout",
          "output_type": "stream",
          "text": [
            "score 84.33971155384225\n",
            "error 3.2385323756087607\n"
          ]
        }
      ],
      "source": [
        "#Test with Ridge regularizaton with best_degree\n",
        "poly = PolynomialFeatures(degree = deg_ridge)\n",
        "X_poly = poly.fit_transform(X_train)\n",
        "x_poly_test=poly.fit_transform(X_test)\n",
        "pol=linear_model.Ridge(alpha=lambda_ridge)\n",
        "pol.fit(X_poly, y_train) \n",
        "y_pred=pol.predict(x_poly_test)\n",
        "ypred_ridge_deg=pol.score(x_poly_test,y_test)\n",
        "mean_error_test_ridge_deg=np.sqrt(metrics.mean_squared_error(y_test,y_pred))\n",
        "print(\"score\",ypred_ridge_deg*100)\n",
        "print(\"error\",mean_error_test_ridge_deg)"
      ]
    },
    {
      "cell_type": "code",
      "execution_count": null,
      "id": "0ca47d23",
      "metadata": {
        "id": "0ca47d23"
      },
      "outputs": [],
      "source": [
        "#Testing linear_model with different paremeters\n",
        "reg_coef = linear_model.LinearRegression().fit(X_train, y_train)\n",
        "train_coeff=[]\n",
        "val_coeff=[]\n",
        "test_coeff=[]\n",
        "for i in range(0, 100000):\n",
        "    reg_coef.coef_= np.random.uniform(-10, 10,13)\n",
        "    train_coeff.append(np.sqrt(metrics.mean_squared_error(reg_coef.predict(X_train), y_train)))\n",
        "    val_coeff.append(np.sqrt(metrics.mean_squared_error(reg_coef.predict(X_val), y_val)))\n",
        "    test_coeff.append(np.sqrt(metrics.mean_squared_error(reg_coef.predict(X_test), y_test)))"
      ]
    },
    {
      "cell_type": "code",
      "execution_count": null,
      "id": "c1ffc998",
      "metadata": {
        "id": "c1ffc998",
        "outputId": "ac58ea05-7d4d-4bf9-cbfa-2fc4e9992731"
      },
      "outputs": [
        {
          "data": {
            "text/plain": [
              "5.417599497244762"
            ]
          },
          "execution_count": 98,
          "metadata": {},
          "output_type": "execute_result"
        }
      ],
      "source": [
        "np.min(val_coeff)"
      ]
    },
    {
      "cell_type": "code",
      "execution_count": null,
      "id": "4d6d52eb",
      "metadata": {
        "id": "4d6d52eb",
        "outputId": "13b754fb-19fb-4b50-bbe8-fafb234f5e62"
      },
      "outputs": [
        {
          "data": {
            "text/plain": [
              "6.394098960271379"
            ]
          },
          "execution_count": 106,
          "metadata": {},
          "output_type": "execute_result"
        }
      ],
      "source": [
        "np.min(train_coeff)"
      ]
    },
    {
      "cell_type": "code",
      "execution_count": null,
      "id": "90e611df",
      "metadata": {
        "id": "90e611df",
        "outputId": "b2e6dd1d-3c7b-4bc8-a343-134850e51674"
      },
      "outputs": [
        {
          "data": {
            "text/plain": [
              "array([ 0.49978191,  9.64513794,  8.69677178, -5.3236014 ,  7.63646717,\n",
              "        6.69712898,  3.27346419, -8.66172541, -8.85109862,  0.05093062,\n",
              "        5.45986083, -9.97411011,  8.39894279])"
            ]
          },
          "execution_count": 101,
          "metadata": {},
          "output_type": "execute_result"
        }
      ],
      "source": [
        "reg_coef.coef_"
      ]
    },
    {
      "cell_type": "code",
      "execution_count": null,
      "id": "fe8dfb42",
      "metadata": {
        "id": "fe8dfb42",
        "outputId": "1bab7306-4889-4648-814c-69bb644edce0"
      },
      "outputs": [
        {
          "data": {
            "text/plain": [
              "5.035292107977916"
            ]
          },
          "execution_count": 102,
          "metadata": {},
          "output_type": "execute_result"
        }
      ],
      "source": [
        "np.min(test_coeff)"
      ]
    },
    {
      "cell_type": "code",
      "execution_count": null,
      "id": "6d3dc777",
      "metadata": {
        "id": "6d3dc777",
        "outputId": "e1703bb4-186e-40fe-afab-bd25bc781ca4"
      },
      "outputs": [
        {
          "name": "stdout",
          "output_type": "stream",
          "text": [
            "4.963991815918326\n",
            "4.388022757007598\n",
            "4.280476025918134\n"
          ]
        }
      ],
      "source": [
        "reg = linear_model.LinearRegression().fit(X_train, y_train)\n",
        "print(np.sqrt(metrics.mean_squared_error(reg.predict(X_train), y_train)))\n",
        "print(np.sqrt(metrics.mean_squared_error(reg.predict(X_val), y_val)))\n",
        "print(np.sqrt(metrics.mean_squared_error(reg.predict(X_test), y_test)))"
      ]
    },
    {
      "cell_type": "code",
      "execution_count": null,
      "id": "586afb29",
      "metadata": {
        "id": "586afb29"
      },
      "outputs": [],
      "source": [
        "#with using predefined function it produces the best paremeters and it is faster so using it instead of generating paremeters each time"
      ]
    }
  ],
  "metadata": {
    "kernelspec": {
      "display_name": "Python 3 (ipykernel)",
      "language": "python",
      "name": "python3"
    },
    "language_info": {
      "codemirror_mode": {
        "name": "ipython",
        "version": 3
      },
      "file_extension": ".py",
      "mimetype": "text/x-python",
      "name": "python",
      "nbconvert_exporter": "python",
      "pygments_lexer": "ipython3",
      "version": "3.9.7"
    },
    "colab": {
      "name": "Regression_final_43-3247.ipynb",
      "provenance": [],
      "include_colab_link": true
    }
  },
  "nbformat": 4,
  "nbformat_minor": 5
}