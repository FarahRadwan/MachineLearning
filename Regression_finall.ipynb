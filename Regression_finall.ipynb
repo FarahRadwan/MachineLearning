{
  "cells": [
    {
      "cell_type": "markdown",
      "metadata": {
        "id": "view-in-github",
        "colab_type": "text"
      },
      "source": [
        "<a href=\"https://colab.research.google.com/github/FarahRadwan/MachineLearning/blob/main/Regression_finall.ipynb\" target=\"_parent\"><img src=\"https://colab.research.google.com/assets/colab-badge.svg\" alt=\"Open In Colab\"/></a>"
      ]
    },
    {
      "cell_type": "code",
      "execution_count": 43,
      "id": "f5266ad2",
      "metadata": {
        "id": "f5266ad2"
      },
      "outputs": [],
      "source": [
        "import numpy as np\n",
        "import pandas as pd\n",
        "import matplotlib.pyplot as plt\n",
        "import seaborn as sns\n",
        "from sklearn.model_selection import train_test_split,cross_val_score\n",
        "from sklearn import metrics, linear_model\n",
        "from sklearn.metrics import confusion_matrix\n",
        "from sklearn.metrics import accuracy_score, precision_score, recall_score, f1_score\n",
        "from sklearn.linear_model import Ridge\n",
        "from sklearn.preprocessing import PolynomialFeatures\n",
        "from sklearn import preprocessing\n",
        "from sklearn.metrics import accuracy_score, r2_score\n",
        "import warnings\n",
        "warnings.filterwarnings(\"ignore\")"
      ]
    },
    {
      "cell_type": "code",
      "execution_count": 44,
      "id": "17b9bcbc",
      "metadata": {
        "id": "17b9bcbc"
      },
      "outputs": [],
      "source": [
        "from sklearn.datasets import load_boston\n",
        "boston = load_boston()"
      ]
    },
    {
      "cell_type": "code",
      "execution_count": 45,
      "id": "c2a64432",
      "metadata": {
        "colab": {
          "base_uri": "https://localhost:8080/",
          "height": 206
        },
        "id": "c2a64432",
        "outputId": "f7d8c37e-f216-4bf4-e1ad-443ff6e8be24"
      },
      "outputs": [
        {
          "output_type": "execute_result",
          "data": {
            "text/plain": [
              "      CRIM    ZN  INDUS  CHAS    NOX     RM   AGE     DIS  RAD    TAX  \\\n",
              "0  0.00632  18.0   2.31   0.0  0.538  6.575  65.2  4.0900  1.0  296.0   \n",
              "1  0.02731   0.0   7.07   0.0  0.469  6.421  78.9  4.9671  2.0  242.0   \n",
              "2  0.02729   0.0   7.07   0.0  0.469  7.185  61.1  4.9671  2.0  242.0   \n",
              "3  0.03237   0.0   2.18   0.0  0.458  6.998  45.8  6.0622  3.0  222.0   \n",
              "4  0.06905   0.0   2.18   0.0  0.458  7.147  54.2  6.0622  3.0  222.0   \n",
              "\n",
              "   PTRATIO       B  LSTAT  \n",
              "0     15.3  396.90   4.98  \n",
              "1     17.8  396.90   9.14  \n",
              "2     17.8  392.83   4.03  \n",
              "3     18.7  394.63   2.94  \n",
              "4     18.7  396.90   5.33  "
            ],
            "text/html": [
              "\n",
              "  <div id=\"df-75372d83-fbae-4ba7-b953-d7550bac86e5\">\n",
              "    <div class=\"colab-df-container\">\n",
              "      <div>\n",
              "<style scoped>\n",
              "    .dataframe tbody tr th:only-of-type {\n",
              "        vertical-align: middle;\n",
              "    }\n",
              "\n",
              "    .dataframe tbody tr th {\n",
              "        vertical-align: top;\n",
              "    }\n",
              "\n",
              "    .dataframe thead th {\n",
              "        text-align: right;\n",
              "    }\n",
              "</style>\n",
              "<table border=\"1\" class=\"dataframe\">\n",
              "  <thead>\n",
              "    <tr style=\"text-align: right;\">\n",
              "      <th></th>\n",
              "      <th>CRIM</th>\n",
              "      <th>ZN</th>\n",
              "      <th>INDUS</th>\n",
              "      <th>CHAS</th>\n",
              "      <th>NOX</th>\n",
              "      <th>RM</th>\n",
              "      <th>AGE</th>\n",
              "      <th>DIS</th>\n",
              "      <th>RAD</th>\n",
              "      <th>TAX</th>\n",
              "      <th>PTRATIO</th>\n",
              "      <th>B</th>\n",
              "      <th>LSTAT</th>\n",
              "    </tr>\n",
              "  </thead>\n",
              "  <tbody>\n",
              "    <tr>\n",
              "      <th>0</th>\n",
              "      <td>0.00632</td>\n",
              "      <td>18.0</td>\n",
              "      <td>2.31</td>\n",
              "      <td>0.0</td>\n",
              "      <td>0.538</td>\n",
              "      <td>6.575</td>\n",
              "      <td>65.2</td>\n",
              "      <td>4.0900</td>\n",
              "      <td>1.0</td>\n",
              "      <td>296.0</td>\n",
              "      <td>15.3</td>\n",
              "      <td>396.90</td>\n",
              "      <td>4.98</td>\n",
              "    </tr>\n",
              "    <tr>\n",
              "      <th>1</th>\n",
              "      <td>0.02731</td>\n",
              "      <td>0.0</td>\n",
              "      <td>7.07</td>\n",
              "      <td>0.0</td>\n",
              "      <td>0.469</td>\n",
              "      <td>6.421</td>\n",
              "      <td>78.9</td>\n",
              "      <td>4.9671</td>\n",
              "      <td>2.0</td>\n",
              "      <td>242.0</td>\n",
              "      <td>17.8</td>\n",
              "      <td>396.90</td>\n",
              "      <td>9.14</td>\n",
              "    </tr>\n",
              "    <tr>\n",
              "      <th>2</th>\n",
              "      <td>0.02729</td>\n",
              "      <td>0.0</td>\n",
              "      <td>7.07</td>\n",
              "      <td>0.0</td>\n",
              "      <td>0.469</td>\n",
              "      <td>7.185</td>\n",
              "      <td>61.1</td>\n",
              "      <td>4.9671</td>\n",
              "      <td>2.0</td>\n",
              "      <td>242.0</td>\n",
              "      <td>17.8</td>\n",
              "      <td>392.83</td>\n",
              "      <td>4.03</td>\n",
              "    </tr>\n",
              "    <tr>\n",
              "      <th>3</th>\n",
              "      <td>0.03237</td>\n",
              "      <td>0.0</td>\n",
              "      <td>2.18</td>\n",
              "      <td>0.0</td>\n",
              "      <td>0.458</td>\n",
              "      <td>6.998</td>\n",
              "      <td>45.8</td>\n",
              "      <td>6.0622</td>\n",
              "      <td>3.0</td>\n",
              "      <td>222.0</td>\n",
              "      <td>18.7</td>\n",
              "      <td>394.63</td>\n",
              "      <td>2.94</td>\n",
              "    </tr>\n",
              "    <tr>\n",
              "      <th>4</th>\n",
              "      <td>0.06905</td>\n",
              "      <td>0.0</td>\n",
              "      <td>2.18</td>\n",
              "      <td>0.0</td>\n",
              "      <td>0.458</td>\n",
              "      <td>7.147</td>\n",
              "      <td>54.2</td>\n",
              "      <td>6.0622</td>\n",
              "      <td>3.0</td>\n",
              "      <td>222.0</td>\n",
              "      <td>18.7</td>\n",
              "      <td>396.90</td>\n",
              "      <td>5.33</td>\n",
              "    </tr>\n",
              "  </tbody>\n",
              "</table>\n",
              "</div>\n",
              "      <button class=\"colab-df-convert\" onclick=\"convertToInteractive('df-75372d83-fbae-4ba7-b953-d7550bac86e5')\"\n",
              "              title=\"Convert this dataframe to an interactive table.\"\n",
              "              style=\"display:none;\">\n",
              "        \n",
              "  <svg xmlns=\"http://www.w3.org/2000/svg\" height=\"24px\"viewBox=\"0 0 24 24\"\n",
              "       width=\"24px\">\n",
              "    <path d=\"M0 0h24v24H0V0z\" fill=\"none\"/>\n",
              "    <path d=\"M18.56 5.44l.94 2.06.94-2.06 2.06-.94-2.06-.94-.94-2.06-.94 2.06-2.06.94zm-11 1L8.5 8.5l.94-2.06 2.06-.94-2.06-.94L8.5 2.5l-.94 2.06-2.06.94zm10 10l.94 2.06.94-2.06 2.06-.94-2.06-.94-.94-2.06-.94 2.06-2.06.94z\"/><path d=\"M17.41 7.96l-1.37-1.37c-.4-.4-.92-.59-1.43-.59-.52 0-1.04.2-1.43.59L10.3 9.45l-7.72 7.72c-.78.78-.78 2.05 0 2.83L4 21.41c.39.39.9.59 1.41.59.51 0 1.02-.2 1.41-.59l7.78-7.78 2.81-2.81c.8-.78.8-2.07 0-2.86zM5.41 20L4 18.59l7.72-7.72 1.47 1.35L5.41 20z\"/>\n",
              "  </svg>\n",
              "      </button>\n",
              "      \n",
              "  <style>\n",
              "    .colab-df-container {\n",
              "      display:flex;\n",
              "      flex-wrap:wrap;\n",
              "      gap: 12px;\n",
              "    }\n",
              "\n",
              "    .colab-df-convert {\n",
              "      background-color: #E8F0FE;\n",
              "      border: none;\n",
              "      border-radius: 50%;\n",
              "      cursor: pointer;\n",
              "      display: none;\n",
              "      fill: #1967D2;\n",
              "      height: 32px;\n",
              "      padding: 0 0 0 0;\n",
              "      width: 32px;\n",
              "    }\n",
              "\n",
              "    .colab-df-convert:hover {\n",
              "      background-color: #E2EBFA;\n",
              "      box-shadow: 0px 1px 2px rgba(60, 64, 67, 0.3), 0px 1px 3px 1px rgba(60, 64, 67, 0.15);\n",
              "      fill: #174EA6;\n",
              "    }\n",
              "\n",
              "    [theme=dark] .colab-df-convert {\n",
              "      background-color: #3B4455;\n",
              "      fill: #D2E3FC;\n",
              "    }\n",
              "\n",
              "    [theme=dark] .colab-df-convert:hover {\n",
              "      background-color: #434B5C;\n",
              "      box-shadow: 0px 1px 3px 1px rgba(0, 0, 0, 0.15);\n",
              "      filter: drop-shadow(0px 1px 2px rgba(0, 0, 0, 0.3));\n",
              "      fill: #FFFFFF;\n",
              "    }\n",
              "  </style>\n",
              "\n",
              "      <script>\n",
              "        const buttonEl =\n",
              "          document.querySelector('#df-75372d83-fbae-4ba7-b953-d7550bac86e5 button.colab-df-convert');\n",
              "        buttonEl.style.display =\n",
              "          google.colab.kernel.accessAllowed ? 'block' : 'none';\n",
              "\n",
              "        async function convertToInteractive(key) {\n",
              "          const element = document.querySelector('#df-75372d83-fbae-4ba7-b953-d7550bac86e5');\n",
              "          const dataTable =\n",
              "            await google.colab.kernel.invokeFunction('convertToInteractive',\n",
              "                                                     [key], {});\n",
              "          if (!dataTable) return;\n",
              "\n",
              "          const docLinkHtml = 'Like what you see? Visit the ' +\n",
              "            '<a target=\"_blank\" href=https://colab.research.google.com/notebooks/data_table.ipynb>data table notebook</a>'\n",
              "            + ' to learn more about interactive tables.';\n",
              "          element.innerHTML = '';\n",
              "          dataTable['output_type'] = 'display_data';\n",
              "          await google.colab.output.renderOutput(dataTable, element);\n",
              "          const docLink = document.createElement('div');\n",
              "          docLink.innerHTML = docLinkHtml;\n",
              "          element.appendChild(docLink);\n",
              "        }\n",
              "      </script>\n",
              "    </div>\n",
              "  </div>\n",
              "  "
            ]
          },
          "metadata": {},
          "execution_count": 45
        }
      ],
      "source": [
        "df = pd.DataFrame(boston.data, columns = boston.feature_names)\n",
        "df.head()"
      ]
    },
    {
      "cell_type": "code",
      "execution_count": 46,
      "id": "4738b9e3",
      "metadata": {
        "colab": {
          "base_uri": "https://localhost:8080/"
        },
        "id": "4738b9e3",
        "outputId": "6926c84f-b4b9-42a7-91a3-4023be13c877"
      },
      "outputs": [
        {
          "output_type": "execute_result",
          "data": {
            "text/plain": [
              "CRIM       0\n",
              "ZN         0\n",
              "INDUS      0\n",
              "CHAS       0\n",
              "NOX        0\n",
              "RM         0\n",
              "AGE        0\n",
              "DIS        0\n",
              "RAD        0\n",
              "TAX        0\n",
              "PTRATIO    0\n",
              "B          0\n",
              "LSTAT      0\n",
              "dtype: int64"
            ]
          },
          "metadata": {},
          "execution_count": 46
        }
      ],
      "source": [
        "df.isnull().sum()"
      ]
    },
    {
      "cell_type": "code",
      "execution_count": 47,
      "id": "2d6b85f7",
      "metadata": {
        "id": "2d6b85f7"
      },
      "outputs": [],
      "source": [
        "scaler = preprocessing.MinMaxScaler()\n",
        "x_scaled = scaler.fit_transform(df)\n",
        "#y_scaled=scaler.fit_transform(y)"
      ]
    },
    {
      "cell_type": "code",
      "execution_count": 48,
      "id": "502c4599",
      "metadata": {
        "colab": {
          "base_uri": "https://localhost:8080/"
        },
        "id": "502c4599",
        "outputId": "ba7edd60-b827-46d5-daff-36e49bf16e21"
      },
      "outputs": [
        {
          "output_type": "stream",
          "name": "stdout",
          "text": [
            "X_train shape: (303, 13)\n",
            "X_test shape: (102, 13)\n",
            "y_train shape: (303,)\n",
            "y_test shape: (102,)\n",
            "X_val shape: (303,)\n",
            "y val shape: (102,)\n"
          ]
        }
      ],
      "source": [
        "#Dividing data into train,test,validation\n",
        "y = boston.target\n",
        "X_train, X_test, y_train, y_test = train_test_split(x_scaled, y, test_size=0.2)\n",
        "X_train, X_val, y_train, y_val = train_test_split(X_train, y_train, \n",
        "    test_size=0.25) #0.8*0.25=0.2\n",
        "print(\"X_train shape: {}\".format(X_train.shape))\n",
        "print(\"X_test shape: {}\".format(X_test.shape))\n",
        "print(\"y_train shape: {}\".format(y_train.shape))\n",
        "print(\"y_test shape: {}\".format(y_test.shape))\n",
        "print(\"X_val shape: {}\".format(y_train.shape))\n",
        "print(\"y val shape: {}\".format(y_test.shape))"
      ]
    },
    {
      "cell_type": "code",
      "execution_count": 49,
      "id": "f9bb5100",
      "metadata": {
        "colab": {
          "base_uri": "https://localhost:8080/"
        },
        "id": "f9bb5100",
        "outputId": "e17ac9a4-2575-4184-bfdf-2d8df7bb7703"
      },
      "outputs": [
        {
          "output_type": "stream",
          "name": "stdout",
          "text": [
            "RMSE of Linear Regression without Regularization 4.770342910090356\n",
            "Accuracy_score: 0.6953999259193504\n",
            "RMSE of Linear Regression without Regularization Validation 4.449399134284692\n",
            "Accuracy_score Validation: 0.7627037567566612\n"
          ]
        }
      ],
      "source": [
        "lm = linear_model.LinearRegression()\n",
        "model = lm.fit(X_train, y_train)\n",
        "predictions = lm.predict(X_test)\n",
        "print(\"RMSE of Linear Regression without Regularization\",np.sqrt(metrics.mean_squared_error(y_test,predictions)))\n",
        "acc=lm.score(X_test,y_test)\n",
        "print(\"Accuracy_score:\",acc)\n",
        "r2 = r2_score(y_test, predictions)\n",
        "predictions_val=lm.predict(X_val)\n",
        "print(\"RMSE of Linear Regression without Regularization Validation\",np.sqrt(metrics.mean_squared_error(y_val,predictions_val)))\n",
        "acc_val=lm.score(X_val,y_val)\n",
        "print(\"Accuracy_score Validation:\",acc_val)\n"
      ]
    },
    {
      "cell_type": "code",
      "execution_count": 50,
      "id": "4a7434b7",
      "metadata": {
        "id": "4a7434b7"
      },
      "outputs": [],
      "source": [
        "#To get the best degree without regularization\n",
        "err_val=[]\n",
        "deg=[]\n",
        "err_train=[]\n",
        "score_val=[]\n",
        "score_train=[]\n",
        "errval=[]\n",
        "errtrain=[]\n",
        "for i in range(10):\n",
        "    x=i+1\n",
        "    deg.append(x)\n",
        "    poly = PolynomialFeatures(degree = x)\n",
        "    X_poly = poly.fit_transform(X_train)\n",
        "    x_poly_val=poly.fit_transform(X_val)\n",
        "    pol=linear_model.LinearRegression()\n",
        "    pol.fit(X_poly, y_train) \n",
        "    y_pred=pol.predict(x_poly_val)\n",
        "    scre_val=pol.score(x_poly_val,y_val)\n",
        "    mean_error=np.sqrt(metrics.mean_squared_error(y_val,y_pred))\n",
        "    err_val.append(mean_error)\n",
        "    score_val.append(scre_val)\n",
        "    y_train_pred=pol.predict(X_poly)\n",
        "    mean_error_train=np.sqrt(metrics.mean_squared_error(y_train,y_train_pred))\n",
        "    err_train.append(mean_error_train)\n",
        "    scre_train=pol.score(X_poly,y_train)"
      ]
    },
    {
      "cell_type": "code",
      "execution_count": 51,
      "id": "241daf5b",
      "metadata": {
        "colab": {
          "base_uri": "https://localhost:8080/"
        },
        "id": "241daf5b",
        "outputId": "1114aa1a-d4e4-473d-e201-d680ffaccf71"
      },
      "outputs": [
        {
          "output_type": "stream",
          "name": "stdout",
          "text": [
            "Degree of the polynomial is 2\n",
            "RMSE without Regularization on validation 3.6801500493218335\n",
            "score without regularization on validation 83.7662376663432\n"
          ]
        }
      ],
      "source": [
        "best_degree=deg[np.argmin(err_val)]\n",
        "print(\"Degree of the polynomial is\",best_degree)\n",
        "print(\"RMSE without Regularization on validation\",np.min(err_val))\n",
        "print(\"score without regularization on validation\",np.max(score_val)*100)"
      ]
    },
    {
      "cell_type": "code",
      "execution_count": 52,
      "id": "56435728",
      "metadata": {
        "colab": {
          "base_uri": "https://localhost:8080/"
        },
        "id": "56435728",
        "outputId": "f94c269c-8cc8-4dcc-906b-21f87b045204"
      },
      "outputs": [
        {
          "output_type": "stream",
          "name": "stdout",
          "text": [
            "score of the best degree on test: 85.23743552660862\n",
            "Error of the best degree on test set: 3.320974189082425\n"
          ]
        }
      ],
      "source": [
        "# get accuracy of best degree on test set without regularization\n",
        "poly = PolynomialFeatures(degree = best_degree)\n",
        "X_poly = poly.fit_transform(X_train)\n",
        "x_poly_test=poly.fit_transform(X_test)\n",
        "pol=linear_model.LinearRegression()\n",
        "pol.fit(X_poly, y_train) \n",
        "y_pred=pol.predict(x_poly_test)\n",
        "score_noregul=pol.score(x_poly_test,y_test)\n",
        "mean_error_noregul=np.sqrt(metrics.mean_squared_error(y_test,y_pred))\n",
        "print(\"score of the best degree on test:\",score_noregul*100)\n",
        "print(\"Error of the best degree on test set:\",mean_error_noregul)"
      ]
    },
    {
      "cell_type": "code",
      "execution_count": 53,
      "id": "effa7f09",
      "metadata": {
        "id": "effa7f09"
      },
      "outputs": [],
      "source": [
        "#Lasso regularization with the best degree obtained\n",
        "err_val=[]\n",
        "deg=[]\n",
        "err_train=[]\n",
        "alpha=[]\n",
        "errval=[]\n",
        "errtrain=[]\n",
        "scr_val=[]\n",
        "scr_train=[]\n",
        "lambdas=[0,0.01,0.02,0.04,0.08,0.16,0.32,0.64,2.56,5.12,10.24,20,100,500,1000]\n",
        "for i in lambdas:\n",
        "    alpha.append(i)\n",
        "    poly = PolynomialFeatures(degree = best_degree)\n",
        "    X_poly = poly.fit_transform(X_train)\n",
        "    x_poly_val=poly.fit_transform(X_val)\n",
        "    pol=linear_model.Lasso(alpha=i)\n",
        "    pol.fit(X_poly, y_train) \n",
        "    scrval=pol.score(x_poly_val,y_val)\n",
        "    scr_val.append(scrval)\n",
        "    errval.append(1-scrval)\n",
        "    y_pred=pol.predict(x_poly_val)\n",
        "    mean_error=np.sqrt(metrics.mean_squared_error(y_val,y_pred))\n",
        "    err_val.append(mean_error)\n",
        "    y_train_pred=pol.predict(X_poly)\n",
        "    scrtrain=pol.score(X_poly,y_train)\n",
        "    scr_train.append(scrtrain)\n",
        "    errtrain.append(1-scrtrain)\n",
        "    mean_error_train=np.sqrt(metrics.mean_squared_error(y_train,y_train_pred))\n",
        "    err_train.append(mean_error_train)"
      ]
    },
    {
      "cell_type": "code",
      "execution_count": 54,
      "id": "999986f1",
      "metadata": {
        "colab": {
          "base_uri": "https://localhost:8080/",
          "height": 279
        },
        "id": "999986f1",
        "outputId": "7f013671-af75-46de-f93a-43ab0bec5cdf"
      },
      "outputs": [
        {
          "output_type": "display_data",
          "data": {
            "text/plain": [
              "<Figure size 432x288 with 1 Axes>"
            ],
            "image/png": "[encoded data removed]"
          },
          "metadata": {
            "needs_background": "light"
          }
        }
      ],
      "source": [
        "fig, ax = plt.subplots()\n",
        "ax.plot(alpha, err_train, '-b', label='Train')\n",
        "ax.plot(alpha, err_val, '-r', label='Cross_validation')\n",
        "plt.xlabel(\"lambda\")\n",
        "plt.ylabel(\"Cost Function\")\n",
        "leg = ax.legend();"
      ]
    },
    {
      "cell_type": "code",
      "execution_count": 55,
      "id": "3f1240b1",
      "metadata": {
        "colab": {
          "base_uri": "https://localhost:8080/"
        },
        "id": "3f1240b1",
        "outputId": "6e8cab7b-1734-4330-bd90-49aa269cad53"
      },
      "outputs": [
        {
          "output_type": "execute_result",
          "data": {
            "text/plain": [
              "0.01"
            ]
          },
          "metadata": {},
          "execution_count": 55
        }
      ],
      "source": [
        "best=lambdas[np.argmin(err_val)]\n",
        "best"
      ]
    },
    {
      "cell_type": "code",
      "execution_count": 56,
      "id": "afd9f502",
      "metadata": {
        "colab": {
          "base_uri": "https://localhost:8080/"
        },
        "id": "afd9f502",
        "outputId": "f5de5d78-9301-4850-8349-d196a6d61f02"
      },
      "outputs": [
        {
          "output_type": "execute_result",
          "data": {
            "text/plain": [
              "[3.8183927852419988,\n",
              " 3.1926618074973265,\n",
              " 3.3556485219507195,\n",
              " 3.536806684461269,\n",
              " 4.075309003950457,\n",
              " 4.452916054733484,\n",
              " 5.014208666622905,\n",
              " 6.503397560235317,\n",
              " 9.13458255292913,\n",
              " 9.13458255292913,\n",
              " 9.13458255292913,\n",
              " 9.13458255292913,\n",
              " 9.13458255292913,\n",
              " 9.13458255292913,\n",
              " 9.13458255292913]"
            ]
          },
          "metadata": {},
          "execution_count": 56
        }
      ],
      "source": [
        "err_val"
      ]
    },
    {
      "cell_type": "code",
      "execution_count": 57,
      "id": "25c4ce97",
      "metadata": {
        "colab": {
          "base_uri": "https://localhost:8080/"
        },
        "id": "25c4ce97",
        "outputId": "e74d9e25-980f-4cc2-b0b4-412e8aa71de9"
      },
      "outputs": [
        {
          "output_type": "execute_result",
          "data": {
            "text/plain": [
              "[2.5742558844735255,\n",
              " 3.404033889102977,\n",
              " 3.7879735932832874,\n",
              " 4.2902653442247605,\n",
              " 4.802996143242225,\n",
              " 5.187804530464472,\n",
              " 5.645372754513494,\n",
              " 6.8221606820518765,\n",
              " 9.369962434057095,\n",
              " 9.369962434057095,\n",
              " 9.369962434057095,\n",
              " 9.369962434057095,\n",
              " 9.369962434057095,\n",
              " 9.369962434057095,\n",
              " 9.369962434057095]"
            ]
          },
          "metadata": {},
          "execution_count": 57
        }
      ],
      "source": [
        "err_train"
      ]
    },
    {
      "cell_type": "code",
      "execution_count": 58,
      "id": "71454f42",
      "metadata": {
        "id": "71454f42"
      },
      "outputs": [],
      "source": [
        "diff_lasso=[]\n",
        "for i in range (len(err_train)):\n",
        "    diff_lasso.append(np.abs(err_val[i]-err_train[i]))\n",
        "    "
      ]
    },
    {
      "cell_type": "code",
      "execution_count": 59,
      "id": "070e7d37",
      "metadata": {
        "colab": {
          "base_uri": "https://localhost:8080/"
        },
        "id": "070e7d37",
        "outputId": "be0df2ed-cdb1-4ad6-8940-80c7212c1029"
      },
      "outputs": [
        {
          "output_type": "execute_result",
          "data": {
            "text/plain": [
              "[1.2441369007684733,\n",
              " 0.21137208160565057,\n",
              " 0.4323250713325679,\n",
              " 0.7534586597634916,\n",
              " 0.7276871392917679,\n",
              " 0.7348884757309886,\n",
              " 0.6311640878905891,\n",
              " 0.3187631218165592,\n",
              " 0.23537988112796526,\n",
              " 0.23537988112796526,\n",
              " 0.23537988112796526,\n",
              " 0.23537988112796526,\n",
              " 0.23537988112796526,\n",
              " 0.23537988112796526,\n",
              " 0.23537988112796526]"
            ]
          },
          "metadata": {},
          "execution_count": 59
        }
      ],
      "source": [
        "diff_lasso "
      ]
    },
    {
      "cell_type": "code",
      "execution_count": 60,
      "id": "c3085d28",
      "metadata": {
        "colab": {
          "base_uri": "https://localhost:8080/"
        },
        "id": "c3085d28",
        "outputId": "f50a86c4-dacd-443c-d452-6a398175a553"
      },
      "outputs": [
        {
          "output_type": "stream",
          "name": "stdout",
          "text": [
            "score_lasso 85.8886138331612\n",
            "error_lasso 3.2469039009441008\n"
          ]
        }
      ],
      "source": [
        "#Test with lasso regularizaton with best_degree\n",
        "poly = PolynomialFeatures(degree = best_degree)\n",
        "X_poly = poly.fit_transform(X_train)\n",
        "x_poly_test=poly.fit_transform(X_test)\n",
        "pol=linear_model.Lasso(alpha=best)\n",
        "pol.fit(X_poly, y_train) \n",
        "y_pred=pol.predict(x_poly_test)\n",
        "ypred_lasso=pol.score(x_poly_test,y_test)\n",
        "mean_error_test_lasso=np.sqrt(metrics.mean_squared_error(y_test,y_pred))\n",
        "print(\"score_lasso\",ypred_lasso*100)\n",
        "print(\"error_lasso\",mean_error_test_lasso)"
      ]
    },
    {
      "cell_type": "code",
      "execution_count": 61,
      "id": "33214557",
      "metadata": {
        "id": "33214557"
      },
      "outputs": [],
      "source": [
        "#Ridge regularization with the best degree obtained\n",
        "err_val=[]\n",
        "deg=[]\n",
        "err_train=[]\n",
        "alpha=[]\n",
        "errval=[]\n",
        "errtrain=[]\n",
        "scr_val=[]\n",
        "scr_train=[]\n",
        "lambdas=[0,0.01,0.02,0.04,0.08,0.16,0.32,0.64,2.56,5.12,10.24,20]\n",
        "for i in lambdas:\n",
        "    alpha.append(i)\n",
        "    poly = PolynomialFeatures(degree = best_degree)\n",
        "    X_poly = poly.fit_transform(X_train)\n",
        "    x_poly_val=poly.fit_transform(X_val)\n",
        "    pol=linear_model.Ridge(alpha=i)\n",
        "    pol.fit(X_poly, y_train) \n",
        "    scrval=pol.score(x_poly_val,y_val)\n",
        "    scr_val.append(scrval)\n",
        "    errval.append(1-scrval)\n",
        "    y_pred=pol.predict(x_poly_val)\n",
        "    mean_error=np.sqrt(metrics.mean_squared_error(y_val,y_pred))\n",
        "    err_val.append(mean_error)\n",
        "    y_train_pred=pol.predict(X_poly)\n",
        "    scrtrain=pol.score(X_poly,y_train)\n",
        "    scr_train.append(scrtrain)\n",
        "    errtrain.append(1-scrtrain)\n",
        "    mean_error_train=np.sqrt(metrics.mean_squared_error(y_train,y_train_pred))\n",
        "    err_train.append(mean_error_train)"
      ]
    },
    {
      "cell_type": "code",
      "execution_count": 62,
      "id": "8cb644ef",
      "metadata": {
        "colab": {
          "base_uri": "https://localhost:8080/",
          "height": 280
        },
        "id": "8cb644ef",
        "outputId": "76f2031d-bf5c-40ab-a723-8d4f80793922"
      },
      "outputs": [
        {
          "output_type": "display_data",
          "data": {
            "text/plain": [
              "<Figure size 432x288 with 1 Axes>"
            ],
            "image/png": "[encoded data removed]"
          },
          "metadata": {
            "needs_background": "light"
          }
        }
      ],
      "source": [
        "fig, ax = plt.subplots()\n",
        "ax.plot(alpha, err_train, '-b', label='Train')\n",
        "ax.plot(alpha, err_val, '-r', label='Cross_validation')\n",
        "plt.xlabel(\"Rregularization_lasso\")\n",
        "plt.ylabel(\"Cost Function\")\n",
        "leg = ax.legend();"
      ]
    },
    {
      "cell_type": "code",
      "execution_count": 63,
      "id": "1c567cf7",
      "metadata": {
        "colab": {
          "base_uri": "https://localhost:8080/"
        },
        "id": "1c567cf7",
        "outputId": "4ea6698a-55c9-4b6d-90b1-1f49e98de239"
      },
      "outputs": [
        {
          "output_type": "execute_result",
          "data": {
            "text/plain": [
              "0.08"
            ]
          },
          "metadata": {},
          "execution_count": 63
        }
      ],
      "source": [
        "best_ridge=lambdas[np.argmin(err_val)]\n",
        "best_ridge"
      ]
    },
    {
      "cell_type": "code",
      "execution_count": 64,
      "id": "e95031f4",
      "metadata": {
        "colab": {
          "base_uri": "https://localhost:8080/"
        },
        "id": "e95031f4",
        "outputId": "b28ddca5-04eb-4ef8-bc8c-d41f9d07b096"
      },
      "outputs": [
        {
          "output_type": "execute_result",
          "data": {
            "text/plain": [
              "[4.274767896836138,\n",
              " 3.2487618197777652,\n",
              " 3.2130463896474986,\n",
              " 3.163612449573794,\n",
              " 3.1399869222261922,\n",
              " 3.1638115084118654,\n",
              " 3.2507637675842513,\n",
              " 3.4221742707426985,\n",
              " 4.015771197026585,\n",
              " 4.368792685456656,\n",
              " 4.710497782229043,\n",
              " 5.051628434396169]"
            ]
          },
          "metadata": {},
          "execution_count": 64
        }
      ],
      "source": [
        "err_val"
      ]
    },
    {
      "cell_type": "code",
      "execution_count": 65,
      "id": "c5bd6e57",
      "metadata": {
        "colab": {
          "base_uri": "https://localhost:8080/"
        },
        "id": "c5bd6e57",
        "outputId": "6bc59df4-2470-425c-8e33-0256993dded2"
      },
      "outputs": [
        {
          "output_type": "execute_result",
          "data": {
            "text/plain": [
              "[2.503237166797193,\n",
              " 2.6045602763910463,\n",
              " 2.684407483813072,\n",
              " 2.7897546891852145,\n",
              " 2.928504537512911,\n",
              " 3.108813970981139,\n",
              " 3.33155023416277,\n",
              " 3.5870296234626617,\n",
              " 4.161821673886913,\n",
              " 4.472942228679042,\n",
              " 4.8059735345831065,\n",
              " 5.191166437099858]"
            ]
          },
          "metadata": {},
          "execution_count": 65
        }
      ],
      "source": [
        "err_train"
      ]
    },
    {
      "cell_type": "code",
      "execution_count": 66,
      "id": "2a00ee01",
      "metadata": {
        "colab": {
          "base_uri": "https://localhost:8080/"
        },
        "id": "2a00ee01",
        "outputId": "322362a8-0eea-408b-faf5-3f7f18ecb40c"
      },
      "outputs": [
        {
          "output_type": "stream",
          "name": "stdout",
          "text": [
            "score 87.73126910738553\n",
            "error 3.027501847567982\n"
          ]
        }
      ],
      "source": [
        "#Test with lasso regularizaton with best_degree\n",
        "poly = PolynomialFeatures(degree = best_degree)\n",
        "X_poly = poly.fit_transform(X_train)\n",
        "x_poly_test=poly.fit_transform(X_test)\n",
        "pol=linear_model.Ridge(alpha=best_ridge)\n",
        "pol.fit(X_poly, y_train) \n",
        "y_pred=pol.predict(x_poly_test)\n",
        "ypred_ridge=pol.score(x_poly_test,y_test)\n",
        "mean_error_test_ridge=np.sqrt(metrics.mean_squared_error(y_test,y_pred))\n",
        "print(\"score\",ypred_ridge*100)\n",
        "print(\"error\",mean_error_test_ridge)"
      ]
    },
    {
      "cell_type": "code",
      "execution_count": 67,
      "id": "8257b108",
      "metadata": {
        "colab": {
          "base_uri": "https://localhost:8080/"
        },
        "id": "8257b108",
        "outputId": "e39cf22b-0975-45a9-8c50-81d028dbd11a"
      },
      "outputs": [
        {
          "output_type": "stream",
          "name": "stdout",
          "text": [
            "Error without Regularization: 3.320974189082425\n",
            "score without Regularization: 85.23743552660862\n",
            "Error with Lasso: 3.2469039009441008\n",
            "score with Lasso: 85.8886138331612\n",
            "Error with Ridge: 3.027501847567982\n",
            "score with Ridge: 87.73126910738553\n"
          ]
        }
      ],
      "source": [
        "print(\"Error without Regularization:\",mean_error_noregul)\n",
        "print(\"score without Regularization:\",score_noregul*100)\n",
        "print(\"Error with Lasso:\",mean_error_test_lasso)\n",
        "print(\"score with Lasso:\",ypred_lasso*100)\n",
        "print(\"Error with Ridge:\",mean_error_test_ridge)\n",
        "print(\"score with Ridge:\",ypred_ridge*100)\n"
      ]
    },
    {
      "cell_type": "code",
      "execution_count": 68,
      "id": "6b2d34f8",
      "metadata": {
        "colab": {
          "base_uri": "https://localhost:8080/",
          "height": 1000
        },
        "id": "6b2d34f8",
        "outputId": "5b5e15e4-0d46-4a77-c2e6-6d5e0475db29"
      },
      "outputs": [
        {
          "output_type": "stream",
          "name": "stdout",
          "text": [
            "0\n",
            "1\n",
            "2\n",
            "3\n",
            "4\n",
            "5\n",
            "6\n",
            "7\n",
            "8\n",
            "9\n"
          ]
        },
        {
          "output_type": "display_data",
          "data": {
            "text/plain": [
              "<Figure size 432x288 with 1 Axes>"
            ],
            "image/png": "[encoded data removed]"
          },
          "metadata": {
            "needs_background": "light"
          }
        },
        {
          "output_type": "display_data",
          "data": {
            "text/plain": [
              "<Figure size 432x288 with 1 Axes>"
            ],
            "image/png": "[encoded data removed]"
          },
          "metadata": {
            "needs_background": "light"
          }
        },
        {
          "output_type": "display_data",
          "data": {
            "text/plain": [
              "<Figure size 432x288 with 1 Axes>"
            ],
            "image/png": "[encoded data removed]"
          },
          "metadata": {
            "needs_background": "light"
          }
        },
        {
          "output_type": "display_data",
          "data": {
            "text/plain": [
              "<Figure size 432x288 with 1 Axes>"
            ],
            "image/png": "[encoded data removed]"
          },
          "metadata": {
            "needs_background": "light"
          }
        },
        {
          "output_type": "display_data",
          "data": {
            "text/plain": [
              "<Figure size 432x288 with 1 Axes>"
            ],
            "image/png": "[encoded data removed]"
          },
          "metadata": {
            "needs_background": "light"
          }
        },
        {
          "output_type": "display_data",
          "data": {
            "text/plain": [
              "<Figure size 432x288 with 1 Axes>"
            ],
            "image/png": "[encoded data removed]"
          },
          "metadata": {
            "needs_background": "light"
          }
        },
        {
          "output_type": "display_data",
          "data": {
            "text/plain": [
              "<Figure size 432x288 with 1 Axes>"
            ],
            "image/png": "[encoded data removed]"
          },
          "metadata": {
            "needs_background": "light"
          }
        },
        {
          "output_type": "display_data",
          "data": {
            "text/plain": [
              "<Figure size 432x288 with 1 Axes>"
            ],
            "image/png": "[encoded data removed]"
          },
          "metadata": {
            "needs_background": "light"
          }
        },
        {
          "output_type": "display_data",
          "data": {
            "text/plain": [
              "<Figure size 432x288 with 1 Axes>"
            ],
            "image/png": "[encoded data removed]"
          },
          "metadata": {
            "needs_background": "light"
          }
        },
        {
          "output_type": "display_data",
          "data": {
            "text/plain": [
              "<Figure size 432x288 with 1 Axes>"
            ],
            "image/png": "[encoded data removed]"
          },
          "metadata": {
            "needs_background": "light"
          }
        }
      ],
      "source": [
        "#Lasso Regulurization with degrees \n",
        "min=[]\n",
        "alpha=[]\n",
        "deg=[]\n",
        "best_degree_reg=[]\n",
        "lambdas=[0,0.01,0.02,0.04,0.08,0.16,0.32,0.64,2.56,5.12,10.24,20]\n",
        "for i in range (10):\n",
        "    err_val=[]\n",
        "    for j in lambdas :\n",
        "     poly = PolynomialFeatures(degree = i+1)\n",
        "     X_poly = poly.fit_transform(X_train)\n",
        "     x_poly_val=poly.fit_transform(X_val)\n",
        "     pol=linear_model.Lasso(alpha=j)\n",
        "     pol.fit(X_poly, y_train) \n",
        "     y_pred=pol.predict(x_poly_val)\n",
        "     mean_error=np.sqrt(metrics.mean_squared_error(y_val,y_pred))\n",
        "     err_val.append(mean_error)\n",
        "     y_train_pred=pol.predict(X_poly)\n",
        "     mean_error_train=np.sqrt(metrics.mean_squared_error(y_train,y_train_pred))\n",
        "     err_train.append(mean_error_train)\n",
        "    print(i)\n",
        "    plt.figure()\n",
        "    plt.plot(lambdas,err_val)\n",
        "    x=\"Degree\"+str(i+1)\n",
        "    plt.title(x)\n",
        "    plt.xlabel(\"Alpha\")\n",
        "    plt.ylabel(\"Error\")\n",
        "    min.append(np.min(err_val))\n",
        "    alpha.append(lambdas[np.argmin(err_val)])\n",
        "    deg.append(i+1)\n",
        "   "
      ]
    },
    {
      "cell_type": "code",
      "execution_count": 69,
      "id": "c90cad8f",
      "metadata": {
        "colab": {
          "base_uri": "https://localhost:8080/"
        },
        "id": "c90cad8f",
        "outputId": "b4aaa328-8ec5-4513-ed0b-139fef0197f4"
      },
      "outputs": [
        {
          "output_type": "execute_result",
          "data": {
            "text/plain": [
              "3.1780048273814057"
            ]
          },
          "metadata": {},
          "execution_count": 69
        }
      ],
      "source": [
        "np.min(min)"
      ]
    },
    {
      "cell_type": "code",
      "execution_count": 70,
      "id": "9be1a2fc",
      "metadata": {
        "colab": {
          "base_uri": "https://localhost:8080/"
        },
        "id": "9be1a2fc",
        "outputId": "fcac1a20-4f75-4e53-f737-9bb963a36f0a"
      },
      "outputs": [
        {
          "output_type": "execute_result",
          "data": {
            "text/plain": [
              "8"
            ]
          },
          "metadata": {},
          "execution_count": 70
        }
      ],
      "source": [
        "deg_lasso=deg[np.argmin(min)]\n",
        "deg_lasso"
      ]
    },
    {
      "cell_type": "code",
      "execution_count": 71,
      "id": "8e32e41c",
      "metadata": {
        "colab": {
          "base_uri": "https://localhost:8080/"
        },
        "id": "8e32e41c",
        "outputId": "64a5fdfe-a61d-4763-ca6d-96e51c39110d"
      },
      "outputs": [
        {
          "output_type": "execute_result",
          "data": {
            "text/plain": [
              "0.01"
            ]
          },
          "metadata": {},
          "execution_count": 71
        }
      ],
      "source": [
        "lambda_lasso=alpha[np.argmin(min)]\n",
        "lambda_lasso"
      ]
    },
    {
      "cell_type": "code",
      "execution_count": 72,
      "id": "0169a03e",
      "metadata": {
        "colab": {
          "base_uri": "https://localhost:8080/"
        },
        "id": "0169a03e",
        "outputId": "dd3465fa-29f0-43b3-d2d7-9ae7b3f90208"
      },
      "outputs": [
        {
          "output_type": "stream",
          "name": "stdout",
          "text": [
            "score 87.96465604750902\n",
            "error 2.9985676389768696\n"
          ]
        }
      ],
      "source": [
        "#Test with lasso regularizaton with best_degree\n",
        "poly = PolynomialFeatures(degree = deg_lasso)\n",
        "X_poly = poly.fit_transform(X_train)\n",
        "x_poly_test=poly.fit_transform(X_test)\n",
        "pol=linear_model.Lasso(alpha=lambda_lasso)\n",
        "pol.fit(X_poly, y_train) \n",
        "y_pred=pol.predict(x_poly_test)\n",
        "ypred=pol.score(x_poly_test,y_test)\n",
        "mean_error_test=np.sqrt(metrics.mean_squared_error(y_test,y_pred))\n",
        "print(\"score\",ypred*100)\n",
        "print(\"error\",mean_error_test)"
      ]
    },
    {
      "cell_type": "code",
      "execution_count": 73,
      "id": "3ed63719",
      "metadata": {
        "colab": {
          "base_uri": "https://localhost:8080/",
          "height": 1000
        },
        "id": "3ed63719",
        "outputId": "a69c14f2-6d27-4aee-8b4d-5f464286a193"
      },
      "outputs": [
        {
          "output_type": "stream",
          "name": "stdout",
          "text": [
            "0\n",
            "1\n",
            "2\n",
            "3\n",
            "4\n",
            "5\n",
            "6\n",
            "7\n",
            "8\n",
            "9\n"
          ]
        },
        {
          "output_type": "display_data",
          "data": {
            "text/plain": [
              "<Figure size 432x288 with 1 Axes>"
            ],
            "image/png": "[encoded data removed]"
          },
          "metadata": {
            "needs_background": "light"
          }
        },
        {
          "output_type": "display_data",
          "data": {
            "text/plain": [
              "<Figure size 432x288 with 1 Axes>"
            ],
            "image/png": "[encoded data removed]"
          },
          "metadata": {
            "needs_background": "light"
          }
        },
        {
          "output_type": "display_data",
          "data": {
            "text/plain": [
              "<Figure size 432x288 with 1 Axes>"
            ],
            "image/png": "[encoded data removed]"
          },
          "metadata": {
            "needs_background": "light"
          }
        },
        {
          "output_type": "display_data",
          "data": {
            "text/plain": [
              "<Figure size 432x288 with 1 Axes>"
            ],
            "image/png": "[encoded data removed]"
          },
          "metadata": {
            "needs_background": "light"
          }
        },
        {
          "output_type": "display_data",
          "data": {
            "text/plain": [
              "<Figure size 432x288 with 1 Axes>"
            ],
            "image/png": "[encoded data removed]"
          },
          "metadata": {
            "needs_background": "light"
          }
        },
        {
          "output_type": "display_data",
          "data": {
            "text/plain": [
              "<Figure size 432x288 with 1 Axes>"
            ],
            "image/png": "[encoded data removed]"
          },
          "metadata": {
            "needs_background": "light"
          }
        },
        {
          "output_type": "display_data",
          "data": {
            "text/plain": [
              "<Figure size 432x288 with 1 Axes>"
            ],
            "image/png": "[encoded data removed]"
          },
          "metadata": {
            "needs_background": "light"
          }
        },
        {
          "output_type": "display_data",
          "data": {
            "text/plain": [
              "<Figure size 432x288 with 1 Axes>"
            ],
            "image/png": "[encoded data removed]"
          },
          "metadata": {
            "needs_background": "light"
          }
        },
        {
          "output_type": "display_data",
          "data": {
            "text/plain": [
              "<Figure size 432x288 with 1 Axes>"
            ],
            "image/png": "[encoded data removed]"
          },
          "metadata": {
            "needs_background": "light"
          }
        },
        {
          "output_type": "display_data",
          "data": {
            "text/plain": [
              "<Figure size 432x288 with 1 Axes>"
            ],
            "image/png": "[encoded data removed]"
          },
          "metadata": {
            "needs_background": "light"
          }
        }
      ],
      "source": [
        "#Ridge Regulurization with degrees \n",
        "min=[]\n",
        "alpha=[]\n",
        "deg=[]\n",
        "best_degree_reg=[]\n",
        "lambdas=[0,0.01,0.02,0.04,0.08,0.16,0.32,0.64,2.56,5.12,10.24,20]\n",
        "for i in range (10):\n",
        "    err_val=[]\n",
        "    for j in lambdas :\n",
        "     poly = PolynomialFeatures(degree = i+1)\n",
        "     X_poly = poly.fit_transform(X_train)\n",
        "     x_poly_val=poly.fit_transform(X_val)\n",
        "     pol=linear_model.Ridge(alpha=j)\n",
        "     pol.fit(X_poly, y_train) \n",
        "     y_pred=pol.predict(x_poly_val)\n",
        "     mean_error=np.sqrt(metrics.mean_squared_error(y_val,y_pred))\n",
        "     err_val.append(mean_error)\n",
        "     y_train_pred=pol.predict(X_poly)\n",
        "     mean_error_train=np.sqrt(metrics.mean_squared_error(y_train,y_train_pred))\n",
        "     err_train.append(mean_error_train)\n",
        "    print(i)\n",
        "    plt.figure()\n",
        "    plt.plot(lambdas,err_val)\n",
        "    x=\"Degree\"+str(i+1)\n",
        "    plt.title(x)\n",
        "    plt.xlabel(\"Alpha\")\n",
        "    plt.ylabel(\"Error\")\n",
        "    min.append(np.min(err_val))\n",
        "    alpha.append(lambdas[np.argmin(err_val)])\n",
        "    deg.append(i+1)\n",
        "   "
      ]
    },
    {
      "cell_type": "code",
      "execution_count": 74,
      "id": "a7db9bac",
      "metadata": {
        "colab": {
          "base_uri": "https://localhost:8080/"
        },
        "id": "a7db9bac",
        "outputId": "7061c96e-04e4-49c5-bde6-560780626827"
      },
      "outputs": [
        {
          "output_type": "execute_result",
          "data": {
            "text/plain": [
              "2.94144777017537"
            ]
          },
          "metadata": {},
          "execution_count": 74
        }
      ],
      "source": [
        "np.min(min)"
      ]
    },
    {
      "cell_type": "code",
      "execution_count": 75,
      "id": "7a01cb14",
      "metadata": {
        "colab": {
          "base_uri": "https://localhost:8080/"
        },
        "id": "7a01cb14",
        "outputId": "243ae67a-8e24-401d-8a51-b713c9503090"
      },
      "outputs": [
        {
          "output_type": "execute_result",
          "data": {
            "text/plain": [
              "3"
            ]
          },
          "metadata": {},
          "execution_count": 75
        }
      ],
      "source": [
        "deg_ridge=deg[np.argmin(min)]\n",
        "deg_ridge"
      ]
    },
    {
      "cell_type": "code",
      "execution_count": 76,
      "id": "a7cc9bbd",
      "metadata": {
        "colab": {
          "base_uri": "https://localhost:8080/"
        },
        "id": "a7cc9bbd",
        "outputId": "79a90f4c-342a-48cb-b4e3-adf8fed3b590"
      },
      "outputs": [
        {
          "output_type": "execute_result",
          "data": {
            "text/plain": [
              "0.08"
            ]
          },
          "metadata": {},
          "execution_count": 76
        }
      ],
      "source": [
        "lambda_ridge=alpha[np.argmin(min)]\n",
        "lambda_ridge"
      ]
    },
    {
      "cell_type": "code",
      "execution_count": 77,
      "id": "222e309a",
      "metadata": {
        "colab": {
          "base_uri": "https://localhost:8080/"
        },
        "id": "222e309a",
        "outputId": "886d9d77-e7b4-4ff5-97e3-37c181f8b6ff"
      },
      "outputs": [
        {
          "output_type": "stream",
          "name": "stdout",
          "text": [
            "score 88.63533495806396\n",
            "error 2.913821319473846\n"
          ]
        }
      ],
      "source": [
        "#Test with Ridge regularizaton with best_degree\n",
        "poly = PolynomialFeatures(degree = deg_ridge)\n",
        "X_poly = poly.fit_transform(X_train)\n",
        "x_poly_test=poly.fit_transform(X_test)\n",
        "pol=linear_model.Ridge(alpha=lambda_ridge)\n",
        "pol.fit(X_poly, y_train) \n",
        "y_pred=pol.predict(x_poly_test)\n",
        "ypred_ridge_deg=pol.score(x_poly_test,y_test)\n",
        "mean_error_test_ridge_deg=np.sqrt(metrics.mean_squared_error(y_test,y_pred))\n",
        "print(\"score\",ypred_ridge_deg*100)\n",
        "print(\"error\",mean_error_test_ridge_deg)"
      ]
    },
    {
      "cell_type": "code",
      "execution_count": 78,
      "id": "6afdc0d4",
      "metadata": {
        "id": "6afdc0d4"
      },
      "outputs": [],
      "source": [
        "#Testing linear_model with different paremeters\n",
        "reg_coef = linear_model.LinearRegression().fit(X_train, y_train)\n",
        "train_coeff=[]\n",
        "val_coeff=[]\n",
        "test_coeff=[]\n",
        "for i in range(0, 100000):\n",
        "    reg_coef.coef_= np.random.uniform(-10, 10,13)\n",
        "    train_coeff.append(np.sqrt(metrics.mean_squared_error(reg_coef.predict(X_train), y_train)))\n",
        "    val_coeff.append(np.sqrt(metrics.mean_squared_error(reg_coef.predict(X_val), y_val)))\n",
        "    test_coeff.append(np.sqrt(metrics.mean_squared_error(reg_coef.predict(X_test), y_test)))"
      ]
    },
    {
      "cell_type": "code",
      "execution_count": 79,
      "id": "3c75c430",
      "metadata": {
        "colab": {
          "base_uri": "https://localhost:8080/"
        },
        "id": "3c75c430",
        "outputId": "9df11742-d789-436d-d9bd-34ea4aefb422"
      },
      "outputs": [
        {
          "output_type": "execute_result",
          "data": {
            "text/plain": [
              "5.680036636984616"
            ]
          },
          "metadata": {},
          "execution_count": 79
        }
      ],
      "source": [
        "np.min(val_coeff)"
      ]
    },
    {
      "cell_type": "code",
      "execution_count": 80,
      "id": "de903bc5",
      "metadata": {
        "colab": {
          "base_uri": "https://localhost:8080/"
        },
        "id": "de903bc5",
        "outputId": "c761533c-b4c5-4f6a-d30d-3f457e817dfb"
      },
      "outputs": [
        {
          "output_type": "execute_result",
          "data": {
            "text/plain": [
              "6.287190274624154"
            ]
          },
          "metadata": {},
          "execution_count": 80
        }
      ],
      "source": [
        "np.min(train_coeff)"
      ]
    },
    {
      "cell_type": "code",
      "execution_count": 81,
      "id": "0403812b",
      "metadata": {
        "colab": {
          "base_uri": "https://localhost:8080/"
        },
        "id": "0403812b",
        "outputId": "ab11e2f8-15c3-4e41-b6e4-711fbe6b17f0"
      },
      "outputs": [
        {
          "output_type": "execute_result",
          "data": {
            "text/plain": [
              "array([-1.25770106,  6.57307633,  3.0032981 ,  4.15898369, -1.55949739,\n",
              "       -4.52858695,  9.18062576, -1.06495473, -0.53985361, -7.63318078,\n",
              "       -2.1499269 ,  3.90149796, -7.50782842])"
            ]
          },
          "metadata": {},
          "execution_count": 81
        }
      ],
      "source": [
        "reg_coef.coef_"
      ]
    },
    {
      "cell_type": "code",
      "execution_count": 82,
      "id": "a2ecee65",
      "metadata": {
        "colab": {
          "base_uri": "https://localhost:8080/"
        },
        "id": "a2ecee65",
        "outputId": "f6711c34-38c8-4e42-cc62-ec71b5bf59d8"
      },
      "outputs": [
        {
          "output_type": "execute_result",
          "data": {
            "text/plain": [
              "5.254599562777502"
            ]
          },
          "metadata": {},
          "execution_count": 82
        }
      ],
      "source": [
        "np.min(test_coeff)"
      ]
    },
    {
      "cell_type": "code",
      "execution_count": 83,
      "id": "b81109e2",
      "metadata": {
        "colab": {
          "base_uri": "https://localhost:8080/"
        },
        "id": "b81109e2",
        "outputId": "71f4db1f-5d66-439e-b198-598139b9dad7"
      },
      "outputs": [
        {
          "output_type": "stream",
          "name": "stdout",
          "text": [
            "4.863739049953664\n",
            "4.449399134284692\n",
            "4.770342910090356\n"
          ]
        }
      ],
      "source": [
        "reg = linear_model.LinearRegression().fit(X_train, y_train)\n",
        "print(np.sqrt(metrics.mean_squared_error(reg.predict(X_train), y_train)))\n",
        "print(np.sqrt(metrics.mean_squared_error(reg.predict(X_val), y_val)))\n",
        "print(np.sqrt(metrics.mean_squared_error(reg.predict(X_test), y_test)))"
      ]
    },
    {
      "cell_type": "code",
      "execution_count": 84,
      "id": "d0701860",
      "metadata": {
        "id": "d0701860"
      },
      "outputs": [],
      "source": [
        "#with using predefined function it produces the best paremeters and it is faster so using it instead of generating paremeters each time"
      ]
    }
  ],
  "metadata": {
    "kernelspec": {
      "display_name": "Python 3 (ipykernel)",
      "language": "python",
      "name": "python3"
    },
    "language_info": {
      "codemirror_mode": {
        "name": "ipython",
        "version": 3
      },
      "file_extension": ".py",
      "mimetype": "text/x-python",
      "name": "python",
      "nbconvert_exporter": "python",
      "pygments_lexer": "ipython3",
      "version": "3.9.7"
    },
    "colab": {
      "name": "Regression_finall.ipynb",
      "provenance": [],
      "include_colab_link": true
    }
  },
  "nbformat": 4,
  "nbformat_minor": 5
}