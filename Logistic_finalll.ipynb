{
  "cells": [
    {
      "cell_type": "markdown",
      "metadata": {
        "id": "view-in-github",
        "colab_type": "text"
      },
      "source": [
        "<a href=\"https://colab.research.google.com/github/FarahRadwan/MachineLearning/blob/main/Logistic_finalll.ipynb\" target=\"_parent\"><img src=\"https://colab.research.google.com/assets/colab-badge.svg\" alt=\"Open In Colab\"/></a>"
      ]
    },
    {
      "cell_type": "code",
      "execution_count": null,
      "id": "602e174a",
      "metadata": {
        "id": "602e174a"
      },
      "outputs": [],
      "source": [
        "import numpy as np\n",
        "import pandas as pd\n",
        "import matplotlib.pyplot as plt\n",
        "import seaborn as sns\n",
        "from sklearn.model_selection import train_test_split,cross_val_score\n",
        "from sklearn.preprocessing import LabelEncoder\n",
        "from sklearn.linear_model import LogisticRegression\n",
        "from sklearn.metrics import accuracy_score,confusion_matrix,classification_report\n",
        "from sklearn.svm import SVC\n",
        "from sklearn.model_selection import StratifiedKFold\n",
        "from sklearn.model_selection import KFold\n",
        "from sklearn.model_selection import cross_val_score\n",
        "from sklearn import preprocessing\n",
        "import warnings\n",
        "warnings.filterwarnings(\"ignore\")"
      ]
    },
    {
      "cell_type": "code",
      "execution_count": null,
      "id": "f2eeeaae",
      "metadata": {
        "id": "f2eeeaae",
        "outputId": "4e21c140-8585-4ecf-9e62-b1003d455490"
      },
      "outputs": [
        {
          "data": {
            "text/html": [
              "<div>\n",
              "<style scoped>\n",
              "    .dataframe tbody tr th:only-of-type {\n",
              "        vertical-align: middle;\n",
              "    }\n",
              "\n",
              "    .dataframe tbody tr th {\n",
              "        vertical-align: top;\n",
              "    }\n",
              "\n",
              "    .dataframe thead th {\n",
              "        text-align: right;\n",
              "    }\n",
              "</style>\n",
              "<table border=\"1\" class=\"dataframe\">\n",
              "  <thead>\n",
              "    <tr style=\"text-align: right;\">\n",
              "      <th></th>\n",
              "      <th>step</th>\n",
              "      <th>type</th>\n",
              "      <th>amount</th>\n",
              "      <th>nameOrig</th>\n",
              "      <th>oldbalanceOrg</th>\n",
              "      <th>newbalanceOrig</th>\n",
              "      <th>nameDest</th>\n",
              "      <th>oldbalanceDest</th>\n",
              "      <th>newbalanceDest</th>\n",
              "      <th>isFraud</th>\n",
              "      <th>isFlaggedFraud</th>\n",
              "    </tr>\n",
              "  </thead>\n",
              "  <tbody>\n",
              "    <tr>\n",
              "      <th>0</th>\n",
              "      <td>1</td>\n",
              "      <td>PAYMENT</td>\n",
              "      <td>9839.64</td>\n",
              "      <td>C1231006815</td>\n",
              "      <td>170136.0</td>\n",
              "      <td>160296.36</td>\n",
              "      <td>M1979787155</td>\n",
              "      <td>0.0</td>\n",
              "      <td>0.0</td>\n",
              "      <td>0</td>\n",
              "      <td>0</td>\n",
              "    </tr>\n",
              "    <tr>\n",
              "      <th>1</th>\n",
              "      <td>1</td>\n",
              "      <td>PAYMENT</td>\n",
              "      <td>1864.28</td>\n",
              "      <td>C1666544295</td>\n",
              "      <td>21249.0</td>\n",
              "      <td>19384.72</td>\n",
              "      <td>M2044282225</td>\n",
              "      <td>0.0</td>\n",
              "      <td>0.0</td>\n",
              "      <td>0</td>\n",
              "      <td>0</td>\n",
              "    </tr>\n",
              "    <tr>\n",
              "      <th>2</th>\n",
              "      <td>1</td>\n",
              "      <td>TRANSFER</td>\n",
              "      <td>181.00</td>\n",
              "      <td>C1305486145</td>\n",
              "      <td>181.0</td>\n",
              "      <td>0.00</td>\n",
              "      <td>C553264065</td>\n",
              "      <td>0.0</td>\n",
              "      <td>0.0</td>\n",
              "      <td>1</td>\n",
              "      <td>0</td>\n",
              "    </tr>\n",
              "    <tr>\n",
              "      <th>3</th>\n",
              "      <td>1</td>\n",
              "      <td>CASH_OUT</td>\n",
              "      <td>181.00</td>\n",
              "      <td>C840083671</td>\n",
              "      <td>181.0</td>\n",
              "      <td>0.00</td>\n",
              "      <td>C38997010</td>\n",
              "      <td>21182.0</td>\n",
              "      <td>0.0</td>\n",
              "      <td>1</td>\n",
              "      <td>0</td>\n",
              "    </tr>\n",
              "    <tr>\n",
              "      <th>4</th>\n",
              "      <td>1</td>\n",
              "      <td>PAYMENT</td>\n",
              "      <td>11668.14</td>\n",
              "      <td>C2048537720</td>\n",
              "      <td>41554.0</td>\n",
              "      <td>29885.86</td>\n",
              "      <td>M1230701703</td>\n",
              "      <td>0.0</td>\n",
              "      <td>0.0</td>\n",
              "      <td>0</td>\n",
              "      <td>0</td>\n",
              "    </tr>\n",
              "  </tbody>\n",
              "</table>\n",
              "</div>"
            ],
            "text/plain": [
              "   step      type    amount     nameOrig  oldbalanceOrg  newbalanceOrig  \\\n",
              "0     1   PAYMENT   9839.64  C1231006815       170136.0       160296.36   \n",
              "1     1   PAYMENT   1864.28  C1666544295        21249.0        19384.72   \n",
              "2     1  TRANSFER    181.00  C1305486145          181.0            0.00   \n",
              "3     1  CASH_OUT    181.00   C840083671          181.0            0.00   \n",
              "4     1   PAYMENT  11668.14  C2048537720        41554.0        29885.86   \n",
              "\n",
              "      nameDest  oldbalanceDest  newbalanceDest  isFraud  isFlaggedFraud  \n",
              "0  M1979787155             0.0             0.0        0               0  \n",
              "1  M2044282225             0.0             0.0        0               0  \n",
              "2   C553264065             0.0             0.0        1               0  \n",
              "3    C38997010         21182.0             0.0        1               0  \n",
              "4  M1230701703             0.0             0.0        0               0  "
            ]
          },
          "execution_count": 67,
          "metadata": {},
          "output_type": "execute_result"
        }
      ],
      "source": [
        "df=pd.read_csv(\"Fraud.csv\")\n",
        "df.head()"
      ]
    },
    {
      "cell_type": "code",
      "execution_count": null,
      "id": "09a91f3c",
      "metadata": {
        "id": "09a91f3c",
        "outputId": "b0ccebcf-baeb-440c-d271-e5d350c15c8a"
      },
      "outputs": [
        {
          "data": {
            "text/plain": [
              "step              0\n",
              "type              0\n",
              "amount            0\n",
              "nameOrig          0\n",
              "oldbalanceOrg     0\n",
              "newbalanceOrig    0\n",
              "nameDest          0\n",
              "oldbalanceDest    0\n",
              "newbalanceDest    0\n",
              "isFraud           0\n",
              "isFlaggedFraud    0\n",
              "dtype: int64"
            ]
          },
          "execution_count": 68,
          "metadata": {},
          "output_type": "execute_result"
        }
      ],
      "source": [
        "df.isnull().sum()"
      ]
    },
    {
      "cell_type": "code",
      "execution_count": null,
      "id": "10cd8903",
      "metadata": {
        "id": "10cd8903",
        "outputId": "13ad7dfe-6c54-465a-ce2e-79d83ea14ec5"
      },
      "outputs": [
        {
          "name": "stdout",
          "output_type": "stream",
          "text": [
            "<class 'pandas.core.frame.DataFrame'>\n",
            "RangeIndex: 1048575 entries, 0 to 1048574\n",
            "Data columns (total 11 columns):\n",
            " #   Column          Non-Null Count    Dtype  \n",
            "---  ------          --------------    -----  \n",
            " 0   step            1048575 non-null  int64  \n",
            " 1   type            1048575 non-null  object \n",
            " 2   amount          1048575 non-null  float64\n",
            " 3   nameOrig        1048575 non-null  object \n",
            " 4   oldbalanceOrg   1048575 non-null  float64\n",
            " 5   newbalanceOrig  1048575 non-null  float64\n",
            " 6   nameDest        1048575 non-null  object \n",
            " 7   oldbalanceDest  1048575 non-null  float64\n",
            " 8   newbalanceDest  1048575 non-null  float64\n",
            " 9   isFraud         1048575 non-null  int64  \n",
            " 10  isFlaggedFraud  1048575 non-null  int64  \n",
            "dtypes: float64(5), int64(3), object(3)\n",
            "memory usage: 88.0+ MB\n"
          ]
        }
      ],
      "source": [
        "df.info()"
      ]
    },
    {
      "cell_type": "code",
      "execution_count": null,
      "id": "2f36eea3",
      "metadata": {
        "id": "2f36eea3"
      },
      "outputs": [],
      "source": [
        "la=LabelEncoder()\n",
        "df['type']=la.fit_transform(df['type'])\n",
        "df['nameOrig']=la.fit_transform(df['nameOrig'])\n",
        "df['nameDest']=la.fit_transform(df['nameDest'])"
      ]
    },
    {
      "cell_type": "code",
      "execution_count": null,
      "id": "bf05e38e",
      "metadata": {
        "id": "bf05e38e",
        "outputId": "c4ce5f61-607c-4468-ddda-11bd4dbef198"
      },
      "outputs": [
        {
          "data": {
            "text/html": [
              "<div>\n",
              "<style scoped>\n",
              "    .dataframe tbody tr th:only-of-type {\n",
              "        vertical-align: middle;\n",
              "    }\n",
              "\n",
              "    .dataframe tbody tr th {\n",
              "        vertical-align: top;\n",
              "    }\n",
              "\n",
              "    .dataframe thead th {\n",
              "        text-align: right;\n",
              "    }\n",
              "</style>\n",
              "<table border=\"1\" class=\"dataframe\">\n",
              "  <thead>\n",
              "    <tr style=\"text-align: right;\">\n",
              "      <th></th>\n",
              "      <th>step</th>\n",
              "      <th>type</th>\n",
              "      <th>amount</th>\n",
              "      <th>nameOrig</th>\n",
              "      <th>oldbalanceOrg</th>\n",
              "      <th>newbalanceOrig</th>\n",
              "      <th>nameDest</th>\n",
              "      <th>oldbalanceDest</th>\n",
              "      <th>newbalanceDest</th>\n",
              "      <th>isFraud</th>\n",
              "      <th>isFlaggedFraud</th>\n",
              "    </tr>\n",
              "  </thead>\n",
              "  <tbody>\n",
              "    <tr>\n",
              "      <th>0</th>\n",
              "      <td>1</td>\n",
              "      <td>3</td>\n",
              "      <td>9839.64</td>\n",
              "      <td>125164</td>\n",
              "      <td>170136.0</td>\n",
              "      <td>160296.36</td>\n",
              "      <td>274917</td>\n",
              "      <td>0.0</td>\n",
              "      <td>0.0</td>\n",
              "      <td>0</td>\n",
              "      <td>0</td>\n",
              "    </tr>\n",
              "    <tr>\n",
              "      <th>1</th>\n",
              "      <td>1</td>\n",
              "      <td>3</td>\n",
              "      <td>1864.28</td>\n",
              "      <td>361319</td>\n",
              "      <td>21249.0</td>\n",
              "      <td>19384.72</td>\n",
              "      <td>286716</td>\n",
              "      <td>0.0</td>\n",
              "      <td>0.0</td>\n",
              "      <td>0</td>\n",
              "      <td>0</td>\n",
              "    </tr>\n",
              "    <tr>\n",
              "      <th>2</th>\n",
              "      <td>1</td>\n",
              "      <td>4</td>\n",
              "      <td>181.00</td>\n",
              "      <td>165236</td>\n",
              "      <td>181.0</td>\n",
              "      <td>0.00</td>\n",
              "      <td>73550</td>\n",
              "      <td>0.0</td>\n",
              "      <td>0.0</td>\n",
              "      <td>1</td>\n",
              "      <td>0</td>\n",
              "    </tr>\n",
              "    <tr>\n",
              "      <th>3</th>\n",
              "      <td>1</td>\n",
              "      <td>1</td>\n",
              "      <td>181.00</td>\n",
              "      <td>961662</td>\n",
              "      <td>181.0</td>\n",
              "      <td>0.00</td>\n",
              "      <td>65464</td>\n",
              "      <td>21182.0</td>\n",
              "      <td>0.0</td>\n",
              "      <td>1</td>\n",
              "      <td>0</td>\n",
              "    </tr>\n",
              "    <tr>\n",
              "      <th>4</th>\n",
              "      <td>1</td>\n",
              "      <td>3</td>\n",
              "      <td>11668.14</td>\n",
              "      <td>567915</td>\n",
              "      <td>41554.0</td>\n",
              "      <td>29885.86</td>\n",
              "      <td>138001</td>\n",
              "      <td>0.0</td>\n",
              "      <td>0.0</td>\n",
              "      <td>0</td>\n",
              "      <td>0</td>\n",
              "    </tr>\n",
              "  </tbody>\n",
              "</table>\n",
              "</div>"
            ],
            "text/plain": [
              "   step  type    amount  nameOrig  oldbalanceOrg  newbalanceOrig  nameDest  \\\n",
              "0     1     3   9839.64    125164       170136.0       160296.36    274917   \n",
              "1     1     3   1864.28    361319        21249.0        19384.72    286716   \n",
              "2     1     4    181.00    165236          181.0            0.00     73550   \n",
              "3     1     1    181.00    961662          181.0            0.00     65464   \n",
              "4     1     3  11668.14    567915        41554.0        29885.86    138001   \n",
              "\n",
              "   oldbalanceDest  newbalanceDest  isFraud  isFlaggedFraud  \n",
              "0             0.0             0.0        0               0  \n",
              "1             0.0             0.0        0               0  \n",
              "2             0.0             0.0        1               0  \n",
              "3         21182.0             0.0        1               0  \n",
              "4             0.0             0.0        0               0  "
            ]
          },
          "execution_count": 71,
          "metadata": {},
          "output_type": "execute_result"
        }
      ],
      "source": [
        "df.head()"
      ]
    },
    {
      "cell_type": "code",
      "execution_count": null,
      "id": "c27089ba",
      "metadata": {
        "id": "c27089ba"
      },
      "outputs": [],
      "source": [
        "X=df.drop('isFraud',axis=1)\n",
        "y=df['isFraud']"
      ]
    },
    {
      "cell_type": "code",
      "execution_count": null,
      "id": "e6ef8cee",
      "metadata": {
        "id": "e6ef8cee"
      },
      "outputs": [],
      "source": [
        "scaler = preprocessing.MinMaxScaler()\n",
        "x_scaled = scaler.fit_transform(X)"
      ]
    },
    {
      "cell_type": "code",
      "execution_count": null,
      "id": "35ecedf3",
      "metadata": {
        "id": "35ecedf3",
        "outputId": "e916a01e-3dc2-4ad5-84a2-a7a63e99c0a1"
      },
      "outputs": [
        {
          "data": {
            "text/html": [
              "<div>\n",
              "<style scoped>\n",
              "    .dataframe tbody tr th:only-of-type {\n",
              "        vertical-align: middle;\n",
              "    }\n",
              "\n",
              "    .dataframe tbody tr th {\n",
              "        vertical-align: top;\n",
              "    }\n",
              "\n",
              "    .dataframe thead th {\n",
              "        text-align: right;\n",
              "    }\n",
              "</style>\n",
              "<table border=\"1\" class=\"dataframe\">\n",
              "  <thead>\n",
              "    <tr style=\"text-align: right;\">\n",
              "      <th></th>\n",
              "      <th>step</th>\n",
              "      <th>type</th>\n",
              "      <th>amount</th>\n",
              "      <th>nameOrig</th>\n",
              "      <th>oldbalanceOrg</th>\n",
              "      <th>newbalanceOrig</th>\n",
              "      <th>nameDest</th>\n",
              "      <th>oldbalanceDest</th>\n",
              "      <th>newbalanceDest</th>\n",
              "      <th>isFlaggedFraud</th>\n",
              "    </tr>\n",
              "  </thead>\n",
              "  <tbody>\n",
              "    <tr>\n",
              "      <th>0</th>\n",
              "      <td>0.0</td>\n",
              "      <td>0.75</td>\n",
              "      <td>0.000984</td>\n",
              "      <td>0.119395</td>\n",
              "      <td>0.004374</td>\n",
              "      <td>0.004121</td>\n",
              "      <td>0.611424</td>\n",
              "      <td>0.000000</td>\n",
              "      <td>0.0</td>\n",
              "      <td>0.0</td>\n",
              "    </tr>\n",
              "    <tr>\n",
              "      <th>1</th>\n",
              "      <td>0.0</td>\n",
              "      <td>0.75</td>\n",
              "      <td>0.000186</td>\n",
              "      <td>0.344666</td>\n",
              "      <td>0.000546</td>\n",
              "      <td>0.000498</td>\n",
              "      <td>0.637665</td>\n",
              "      <td>0.000000</td>\n",
              "      <td>0.0</td>\n",
              "      <td>0.0</td>\n",
              "    </tr>\n",
              "    <tr>\n",
              "      <th>2</th>\n",
              "      <td>0.0</td>\n",
              "      <td>1.00</td>\n",
              "      <td>0.000018</td>\n",
              "      <td>0.157620</td>\n",
              "      <td>0.000005</td>\n",
              "      <td>0.000000</td>\n",
              "      <td>0.163577</td>\n",
              "      <td>0.000000</td>\n",
              "      <td>0.0</td>\n",
              "      <td>0.0</td>\n",
              "    </tr>\n",
              "    <tr>\n",
              "      <th>3</th>\n",
              "      <td>0.0</td>\n",
              "      <td>0.25</td>\n",
              "      <td>0.000018</td>\n",
              "      <td>0.917340</td>\n",
              "      <td>0.000005</td>\n",
              "      <td>0.000000</td>\n",
              "      <td>0.145594</td>\n",
              "      <td>0.000503</td>\n",
              "      <td>0.0</td>\n",
              "      <td>0.0</td>\n",
              "    </tr>\n",
              "    <tr>\n",
              "      <th>4</th>\n",
              "      <td>0.0</td>\n",
              "      <td>0.75</td>\n",
              "      <td>0.001167</td>\n",
              "      <td>0.541740</td>\n",
              "      <td>0.001068</td>\n",
              "      <td>0.000768</td>\n",
              "      <td>0.306919</td>\n",
              "      <td>0.000000</td>\n",
              "      <td>0.0</td>\n",
              "      <td>0.0</td>\n",
              "    </tr>\n",
              "  </tbody>\n",
              "</table>\n",
              "</div>"
            ],
            "text/plain": [
              "   step  type    amount  nameOrig  oldbalanceOrg  newbalanceOrig  nameDest  \\\n",
              "0   0.0  0.75  0.000984  0.119395       0.004374        0.004121  0.611424   \n",
              "1   0.0  0.75  0.000186  0.344666       0.000546        0.000498  0.637665   \n",
              "2   0.0  1.00  0.000018  0.157620       0.000005        0.000000  0.163577   \n",
              "3   0.0  0.25  0.000018  0.917340       0.000005        0.000000  0.145594   \n",
              "4   0.0  0.75  0.001167  0.541740       0.001068        0.000768  0.306919   \n",
              "\n",
              "   oldbalanceDest  newbalanceDest  isFlaggedFraud  \n",
              "0        0.000000             0.0             0.0  \n",
              "1        0.000000             0.0             0.0  \n",
              "2        0.000000             0.0             0.0  \n",
              "3        0.000503             0.0             0.0  \n",
              "4        0.000000             0.0             0.0  "
            ]
          },
          "execution_count": 74,
          "metadata": {},
          "output_type": "execute_result"
        }
      ],
      "source": [
        "df_scaled=pd.DataFrame(x_scaled,columns=X.columns)\n",
        "df_scaled.head()"
      ]
    },
    {
      "cell_type": "code",
      "execution_count": null,
      "id": "d63c62da",
      "metadata": {
        "id": "d63c62da",
        "outputId": "7c60a5a3-e370-4e33-c2dc-f265c11782c6"
      },
      "outputs": [
        {
          "name": "stdout",
          "output_type": "stream",
          "text": [
            "X_train shape: (629145, 10)\n",
            "X_test shape: (209715, 10)\n",
            "y_train shape: (629145,)\n",
            "y_test shape: (209715,)\n",
            "X_val shape: (629145,)\n",
            "y_val shape: (209715,)\n"
          ]
        }
      ],
      "source": [
        "X_train, X_test, y_train, y_test = train_test_split(df_scaled, y, test_size=0.2)\n",
        "X_train, X_val, y_train, y_val = train_test_split(X_train, y_train, \n",
        "    test_size=0.25) #0.8*0.25=0.2\n",
        "\n",
        "\n",
        "print(\"X_train shape: {}\".format(X_train.shape))\n",
        "print(\"X_test shape: {}\".format(X_test.shape))\n",
        "print(\"y_train shape: {}\".format(y_train.shape))\n",
        "print(\"y_test shape: {}\".format(y_test.shape))\n",
        "print(\"X_val shape: {}\".format(y_train.shape))\n",
        "print(\"y_val shape: {}\".format(y_test.shape))"
      ]
    },
    {
      "cell_type": "code",
      "execution_count": null,
      "id": "6909b4d2",
      "metadata": {
        "id": "6909b4d2",
        "outputId": "4ab5739f-30a9-480f-df9a-7b69e72c80a7"
      },
      "outputs": [
        {
          "name": "stdout",
          "output_type": "stream",
          "text": [
            "Accuracy 99.9146460672818\n",
            "              precision    recall  f1-score   support\n",
            "\n",
            "           0       1.00      1.00      1.00    209464\n",
            "           1       0.84      0.35      0.50       251\n",
            "\n",
            "    accuracy                           1.00    209715\n",
            "   macro avg       0.92      0.68      0.75    209715\n",
            "weighted avg       1.00      1.00      1.00    209715\n",
            "\n"
          ]
        },
        {
          "data": {
            "text/plain": [
              "array([[209447,     17],\n",
              "       [   162,     89]], dtype=int64)"
            ]
          },
          "execution_count": 76,
          "metadata": {},
          "output_type": "execute_result"
        }
      ],
      "source": [
        "#Logistic Regression withoyt penalty\n",
        "lr_clf=LogisticRegression(penalty=\"none\")\n",
        "lr_clf.fit(X_train,y_train)\n",
        "pred=lr_clf.predict(X_test)\n",
        "accuracy=accuracy_score(y_test,pred)\n",
        "print(\"Accuracy\",accuracy*100)\n",
        "print(classification_report(y_test,pred))\n",
        "confusion_matrix(y_test,pred)\n"
      ]
    },
    {
      "cell_type": "code",
      "execution_count": null,
      "id": "a6db2b1b",
      "metadata": {
        "id": "a6db2b1b"
      },
      "outputs": [],
      "source": [
        "#kfold without penalty\n",
        "kf = KFold(n_splits=5, shuffle=True, random_state=1)\n",
        "kfold = []\n",
        "  \n",
        "for train_index, test_index in kf.split(X,y):\n",
        "    x_train_fold, x_test_fold = x_scaled[train_index], x_scaled[test_index]\n",
        "    y_train_fold, y_test_fold = y[train_index], y[test_index]\n",
        "    lr_clf.fit(x_train_fold, y_train_fold)\n",
        "    kfold.append(lr_clf.score(x_test_fold, y_test_fold))"
      ]
    },
    {
      "cell_type": "code",
      "execution_count": null,
      "id": "72e5853a",
      "metadata": {
        "id": "72e5853a",
        "outputId": "7dd70670-24cc-4b3a-8077-d82101c094cd"
      },
      "outputs": [
        {
          "data": {
            "text/plain": [
              "[0.9992513649476671,\n",
              " 0.9992895119567031,\n",
              " 0.9993133538373506,\n",
              " 0.9992609016999261,\n",
              " 0.9992990487089621]"
            ]
          },
          "execution_count": 78,
          "metadata": {},
          "output_type": "execute_result"
        }
      ],
      "source": [
        "kfold"
      ]
    },
    {
      "cell_type": "code",
      "execution_count": null,
      "id": "ab69e6b6",
      "metadata": {
        "id": "ab69e6b6"
      },
      "outputs": [],
      "source": [
        "skf = StratifiedKFold(n_splits=5, shuffle=True, random_state=1)\n",
        "Skfold = []\n",
        "  \n",
        "for train_index, test_index in skf.split(X,y):\n",
        "    x_train_fold, x_test_fold = x_scaled[train_index], x_scaled[test_index]\n",
        "    y_train_fold, y_test_fold = y[train_index], y[test_index]\n",
        "    lr_clf.fit(x_train_fold, y_train_fold)\n",
        "    Skfold.append(lr_clf.score(x_test_fold, y_test_fold))"
      ]
    },
    {
      "cell_type": "code",
      "execution_count": null,
      "id": "95b572b5",
      "metadata": {
        "id": "95b572b5",
        "outputId": "0f2ee846-b853-471c-af2a-6c9c17f4cf09"
      },
      "outputs": [
        {
          "name": "stdout",
          "output_type": "stream",
          "text": [
            "Mean of Kfold: 0.9992828362301218\n",
            "Mean of StratifiedKfold: 0.999290465631929\n"
          ]
        }
      ],
      "source": [
        "print('Mean of Kfold:',np.mean(kfold))\n",
        "print('Mean of StratifiedKfold:', np.mean(Skfold))"
      ]
    },
    {
      "cell_type": "code",
      "execution_count": null,
      "id": "1e08ddd8",
      "metadata": {
        "id": "1e08ddd8"
      },
      "outputs": [],
      "source": [
        "results = cross_val_score(lr_clf, x_scaled, y, cv=skf) "
      ]
    },
    {
      "cell_type": "code",
      "execution_count": null,
      "id": "b51c2e9a",
      "metadata": {
        "id": "b51c2e9a",
        "outputId": "9cd43fc9-9714-41b1-8762-ee13513929c6"
      },
      "outputs": [
        {
          "name": "stdout",
          "output_type": "stream",
          "text": [
            "0.999290465631929\n"
          ]
        }
      ],
      "source": [
        "print(np.mean(results))"
      ]
    },
    {
      "cell_type": "code",
      "execution_count": null,
      "id": "1c40c9b6",
      "metadata": {
        "id": "1c40c9b6"
      },
      "outputs": [],
      "source": [
        "results_fold= cross_val_score(lr_clf, x_scaled, y, cv=kf)"
      ]
    },
    {
      "cell_type": "code",
      "execution_count": null,
      "id": "e3711b8f",
      "metadata": {
        "id": "e3711b8f",
        "outputId": "e99cb47b-9630-4771-d118-1045124dc3ec"
      },
      "outputs": [
        {
          "name": "stdout",
          "output_type": "stream",
          "text": [
            "0.9992828362301218\n"
          ]
        }
      ],
      "source": [
        "print(np.mean(results_fold))"
      ]
    },
    {
      "cell_type": "code",
      "execution_count": null,
      "id": "02031339",
      "metadata": {
        "id": "02031339",
        "outputId": "af6be0a7-8cae-4dce-a99e-9a5cbddc991f"
      },
      "outputs": [
        {
          "name": "stdout",
          "output_type": "stream",
          "text": [
            "Accuracy 99.91703025534655\n",
            "              precision    recall  f1-score   support\n",
            "\n",
            "           0       1.00      1.00      1.00    209464\n",
            "           1       0.87      0.36      0.51       251\n",
            "\n",
            "    accuracy                           1.00    209715\n",
            "   macro avg       0.94      0.68      0.75    209715\n",
            "weighted avg       1.00      1.00      1.00    209715\n",
            "\n"
          ]
        },
        {
          "data": {
            "text/plain": [
              "array([[209451,     13],\n",
              "       [   161,     90]], dtype=int64)"
            ]
          },
          "execution_count": 85,
          "metadata": {},
          "output_type": "execute_result"
        }
      ],
      "source": [
        "X_train_str, X_test_str, y_train_str, y_test_str = train_test_split(df_scaled, y, test_size=0.2,stratify=y)\n",
        "lr_clf=LogisticRegression(penalty=\"none\")\n",
        "lr_clf.fit(X_train_str,y_train_str)\n",
        "pred=lr_clf.predict(X_test)\n",
        "accuracy=accuracy_score(y_test,pred)\n",
        "print(\"Accuracy\",accuracy*100)\n",
        "print(classification_report(y_test,pred))\n",
        "confusion_matrix(y_test,pred)\n"
      ]
    },
    {
      "cell_type": "code",
      "execution_count": null,
      "id": "1d55487d",
      "metadata": {
        "id": "1d55487d",
        "outputId": "7487c918-5725-45a7-fa9f-f2c20cf90805"
      },
      "outputs": [
        {
          "name": "stdout",
          "output_type": "stream",
          "text": [
            "0.9991703025534654\n",
            "              precision    recall  f1-score   support\n",
            "\n",
            "           0       1.00      1.00      1.00    209464\n",
            "           1       0.96      0.09      0.17       251\n",
            "\n",
            "    accuracy                           1.00    209715\n",
            "   macro avg       0.98      0.55      0.58    209715\n",
            "weighted avg       1.00      1.00      1.00    209715\n",
            "\n"
          ]
        },
        {
          "data": {
            "text/plain": [
              "array([[209463,      1],\n",
              "       [   228,     23]], dtype=int64)"
            ]
          },
          "execution_count": 86,
          "metadata": {},
          "output_type": "execute_result"
        }
      ],
      "source": [
        "reg_l2=LogisticRegression(penalty=\"l2\")\n",
        "reg_l2.fit(X_train,y_train)\n",
        "pred_l2=reg_l2.predict(X_test)\n",
        "accuracy=accuracy_score(y_test,pred)\n",
        "print(accuracy)\n",
        "print(classification_report(y_test,pred_l2))\n",
        "confusion_matrix(y_test,pred_l2)"
      ]
    },
    {
      "cell_type": "code",
      "execution_count": null,
      "id": "e8774264",
      "metadata": {
        "id": "e8774264",
        "outputId": "733302e2-b50e-44b5-a0ae-e03f6d099696"
      },
      "outputs": [
        {
          "name": "stdout",
          "output_type": "stream",
          "text": [
            "0.9989976873375772\n"
          ]
        }
      ],
      "source": [
        "results_fold_l2= cross_val_score(reg_l2, x_scaled, y, cv=kf)\n",
        "print(np.mean(results_fold_l2))"
      ]
    },
    {
      "cell_type": "code",
      "execution_count": null,
      "id": "4966c271",
      "metadata": {
        "id": "4966c271",
        "outputId": "557ae97d-67b6-47c1-9d8e-3205b89ddaa7"
      },
      "outputs": [
        {
          "name": "stdout",
          "output_type": "stream",
          "text": [
            "0.9989967336623513\n"
          ]
        }
      ],
      "source": [
        "results_sfold_l2= cross_val_score(reg_l2, x_scaled, y, cv=skf)\n",
        "print(np.mean(results_sfold_l2))"
      ]
    },
    {
      "cell_type": "code",
      "execution_count": null,
      "id": "e151392c",
      "metadata": {
        "id": "e151392c",
        "outputId": "0854d226-91c1-4f22-cd9b-b4919d668293"
      },
      "outputs": [
        {
          "name": "stdout",
          "output_type": "stream",
          "text": [
            "0.9990892401592638\n",
            "              precision    recall  f1-score   support\n",
            "\n",
            "           0       1.00      1.00      1.00    209464\n",
            "           1       0.96      0.09      0.17       251\n",
            "\n",
            "    accuracy                           1.00    209715\n",
            "   macro avg       0.98      0.55      0.58    209715\n",
            "weighted avg       1.00      1.00      1.00    209715\n",
            "\n"
          ]
        },
        {
          "data": {
            "text/plain": [
              "array([[209463,      1],\n",
              "       [   190,     61]], dtype=int64)"
            ]
          },
          "execution_count": 89,
          "metadata": {},
          "output_type": "execute_result"
        }
      ],
      "source": [
        "reg_l1=LogisticRegression(penalty=\"l1\",solver=\"liblinear\")\n",
        "reg_l1.fit(X_train,y_train)\n",
        "pred=reg_l1.predict(X_test)\n",
        "accuracy=accuracy_score(y_test,pred)\n",
        "print(accuracy)\n",
        "print(classification_report(y_test,pred_l2))\n",
        "confusion_matrix(y_test,pred)"
      ]
    },
    {
      "cell_type": "code",
      "execution_count": null,
      "id": "bb8a8aae",
      "metadata": {
        "id": "bb8a8aae",
        "outputId": "4a1c16fc-b5e3-4512-f3dd-d21f967fee90"
      },
      "outputs": [
        {
          "name": "stdout",
          "output_type": "stream",
          "text": [
            "0.9989976873375772\n"
          ]
        }
      ],
      "source": [
        "results_fold_l1= cross_val_score(reg_l1, x_scaled, y, cv=kf)\n",
        "print(np.mean(results_fold_l2))"
      ]
    },
    {
      "cell_type": "code",
      "execution_count": null,
      "id": "1a4e2750",
      "metadata": {
        "id": "1a4e2750",
        "outputId": "78597948-63d0-4ee0-d4a1-dd548fffa575"
      },
      "outputs": [
        {
          "name": "stdout",
          "output_type": "stream",
          "text": [
            "0.9989967336623513\n"
          ]
        }
      ],
      "source": [
        "results_sfold_l1= cross_val_score(reg_l1, x_scaled, y, cv=skf)\n",
        "print(np.mean(results_sfold_l2))"
      ]
    },
    {
      "cell_type": "code",
      "execution_count": null,
      "id": "265c163f",
      "metadata": {
        "id": "265c163f",
        "outputId": "2bbd0840-d6cb-4b67-9b31-3ecfaddbb072"
      },
      "outputs": [
        {
          "data": {
            "image/png": "[encoded data removed]",
            "text/plain": [
              "<Figure size 432x288 with 1 Axes>"
            ]
          },
          "metadata": {
            "needs_background": "light"
          },
          "output_type": "display_data"
        }
      ],
      "source": [
        "#l2 =Ridge\n",
        "predict_val=[]\n",
        "predict_train=[]\n",
        "min=[]\n",
        "C_param_range = [0.001,0.01,0.1,1,5,10,50,100]\n",
        "for i in C_param_range:\n",
        "    lr_clf=LogisticRegression(C=i)\n",
        "    lr_clf.fit(X_train,y_train)\n",
        "    pred_val=lr_clf.predict(X_val)\n",
        "    accuracy_val=accuracy_score(y_val,pred_val)\n",
        "    err_val=1-accuracy_val\n",
        "    predict_val.append(1-accuracy_val)\n",
        "    \n",
        "    pred_train=lr_clf.predict(X_train)\n",
        "    accuracy_train=accuracy_score(y_train,pred_train)\n",
        "    predict_train.append(1-accuracy_train)\n",
        "\n",
        "\n",
        "    \n",
        "fig, ax = plt.subplots()\n",
        "ax.plot(C_param_range, predict_train, '-b', label='Train')\n",
        "ax.plot(C_param_range, predict_val, '-r', label='Cross_validation')\n",
        "plt.xlabel(\"lambda (Regularization)\")\n",
        "plt.ylabel(\"Cost Function\")\n",
        "leg = ax.legend();"
      ]
    },
    {
      "cell_type": "code",
      "execution_count": null,
      "id": "272bb587",
      "metadata": {
        "id": "272bb587",
        "outputId": "b2c3a484-af7a-441f-f021-d2785550fbbd"
      },
      "outputs": [
        {
          "data": {
            "text/plain": [
              "100"
            ]
          },
          "execution_count": 101,
          "metadata": {},
          "output_type": "execute_result"
        }
      ],
      "source": [
        "best_lambda=C_param_range[np.argmin(predict_val)]\n",
        "best_lambda"
      ]
    },
    {
      "cell_type": "code",
      "execution_count": null,
      "id": "7c0defa3",
      "metadata": {
        "id": "7c0defa3",
        "outputId": "bb084c50-7b54-4bec-e7f5-c1e759bec94b"
      },
      "outputs": [
        {
          "name": "stdout",
          "output_type": "stream",
          "text": [
            "0.9990701666547457\n",
            "              precision    recall  f1-score   support\n",
            "\n",
            "           0       1.00      1.00      1.00    209464\n",
            "           1       0.98      0.23      0.37       251\n",
            "\n",
            "    accuracy                           1.00    209715\n",
            "   macro avg       0.99      0.61      0.68    209715\n",
            "weighted avg       1.00      1.00      1.00    209715\n",
            "\n"
          ]
        },
        {
          "data": {
            "text/plain": [
              "array([[209463,      1],\n",
              "       [   194,     57]], dtype=int64)"
            ]
          },
          "execution_count": 102,
          "metadata": {},
          "output_type": "execute_result"
        }
      ],
      "source": [
        "best_lambda=C_param_range[np.argmin(predict_val)]\n",
        "lr_clf=LogisticRegression(C=best_lambda)\n",
        "lr_clf.fit(X_train,y_train)\n",
        "pred_ridge=lr_clf.predict(X_test)\n",
        "accuracy_ridge=accuracy_score(y_test,pred_ridge)\n",
        "print(accuracy_ridge)\n",
        "print(classification_report(y_test,pred_ridge))\n",
        "confusion_matrix(y_test,pred_ridge)"
      ]
    },
    {
      "cell_type": "code",
      "execution_count": null,
      "id": "40bec47e",
      "metadata": {
        "id": "40bec47e",
        "outputId": "fb5a7993-22a7-410b-f521-38c9f2bdeea0"
      },
      "outputs": [
        {
          "name": "stdout",
          "output_type": "stream",
          "text": [
            "0.999184607681854\n"
          ]
        }
      ],
      "source": [
        "results_fold_ridge= cross_val_score(lr_clf, x_scaled, y, cv=kf)\n",
        "print(np.mean(results_fold_ridge))"
      ]
    },
    {
      "cell_type": "code",
      "execution_count": null,
      "id": "843de531",
      "metadata": {
        "id": "843de531",
        "outputId": "51e82cc4-f6ec-4270-a23d-a4616a95ee9b"
      },
      "outputs": [
        {
          "name": "stdout",
          "output_type": "stream",
          "text": [
            "0.9991807929809504\n"
          ]
        }
      ],
      "source": [
        "results_sfold_ridge= cross_val_score(lr_clf, x_scaled, y, cv=skf)\n",
        "print(np.mean(results_sfold_ridge))"
      ]
    },
    {
      "cell_type": "code",
      "execution_count": null,
      "id": "ef107c10",
      "metadata": {
        "id": "ef107c10",
        "outputId": "4f912477-b77c-4ac0-9f3f-7d0fc2f5b7ab"
      },
      "outputs": [
        {
          "data": {
            "image/png": "[encoded data removed]",
            "text/plain": [
              "<Figure size 432x288 with 1 Axes>"
            ]
          },
          "metadata": {
            "needs_background": "light"
          },
          "output_type": "display_data"
        }
      ],
      "source": [
        "predict_val=[]\n",
        "predict_train=[]\n",
        "min=[]\n",
        "C_param_range = [0.001,0.01,0.1,0.3,0.4,0.5,0.8]\n",
        "for i in C_param_range:\n",
        "    lr_clf_lasso=LogisticRegression(penalty=\"l1\",solver=\"liblinear\",C=i)\n",
        "    lr_clf_lasso.fit(X_train,y_train)\n",
        "    pred_val=lr_clf_lasso.predict(X_val)\n",
        "    accuracy_val=accuracy_score(y_val,pred_val)\n",
        "    err_val=1-accuracy_val\n",
        "    predict_val.append(1-accuracy_val)\n",
        "    \n",
        "    pred_train=lr_clf_lasso.predict(X_train)\n",
        "    accuracy_train=accuracy_score(y_train,pred_train)\n",
        "    predict_train.append(1-accuracy_train)\n",
        "\n",
        "\n",
        "    \n",
        "fig, ax = plt.subplots()\n",
        "ax.plot(C_param_range, predict_train, '-b', label='Train')\n",
        "ax.plot(C_param_range, predict_val, '-r', label='Cross_validation')\n",
        "plt.xlabel(\"lambda (Regularization)\")\n",
        "plt.ylabel(\"Cost Function\")\n",
        "leg = ax.legend();"
      ]
    },
    {
      "cell_type": "code",
      "execution_count": null,
      "id": "77a7dd7e",
      "metadata": {
        "id": "77a7dd7e",
        "outputId": "ec4260c6-25d9-46a8-8f7c-9828cca71607"
      },
      "outputs": [
        {
          "data": {
            "text/plain": [
              "0.8"
            ]
          },
          "execution_count": 115,
          "metadata": {},
          "output_type": "execute_result"
        }
      ],
      "source": [
        "best_lambda=C_param_range[np.argmin(predict_val)]\n",
        "best_lambda"
      ]
    },
    {
      "cell_type": "code",
      "execution_count": null,
      "id": "82b5715a",
      "metadata": {
        "id": "82b5715a",
        "outputId": "a0514d8c-6d45-4f6d-e1fd-faa1e03aa645"
      },
      "outputs": [
        {
          "name": "stdout",
          "output_type": "stream",
          "text": [
            "0.9989080418663424\n",
            "              precision    recall  f1-score   support\n",
            "\n",
            "           0       1.00      1.00      1.00    209464\n",
            "           1       0.96      0.09      0.17       251\n",
            "\n",
            "    accuracy                           1.00    209715\n",
            "   macro avg       0.98      0.55      0.58    209715\n",
            "weighted avg       1.00      1.00      1.00    209715\n",
            "\n"
          ]
        },
        {
          "data": {
            "text/plain": [
              "array([[209463,      1],\n",
              "       [   228,     23]], dtype=int64)"
            ]
          },
          "execution_count": 116,
          "metadata": {},
          "output_type": "execute_result"
        }
      ],
      "source": [
        "best_lambda=C_param_range[np.argmin(predict_val)]\n",
        "lr_clf_lasso=LogisticRegression(C=best_lambda)\n",
        "lr_clf_lasso.fit(X_train,y_train)\n",
        "pred_lasso=lr_clf_lasso.predict(X_test)\n",
        "accuracy_lasso=accuracy_score(y_test,pred_lasso)\n",
        "print(accuracy_lasso)\n",
        "print(classification_report(y_test,pred_lasso))\n",
        "confusion_matrix(y_test,pred_lasso)"
      ]
    },
    {
      "cell_type": "code",
      "execution_count": null,
      "id": "799ba3b3",
      "metadata": {
        "id": "799ba3b3",
        "outputId": "89ea2acc-6cad-4500-bd63-201f5fc43540"
      },
      "outputs": [
        {
          "name": "stdout",
          "output_type": "stream",
          "text": [
            "0.9989910116109959\n"
          ]
        }
      ],
      "source": [
        "results_fold_lasso= cross_val_score(lr_clf_lasso, x_scaled, y, cv=kf)\n",
        "print(np.mean(results_fold_lasso))"
      ]
    },
    {
      "cell_type": "code",
      "execution_count": null,
      "id": "cd785884",
      "metadata": {
        "id": "cd785884",
        "outputId": "b433c01b-5697-4846-c2d6-6e946c2e0cdc"
      },
      "outputs": [
        {
          "name": "stdout",
          "output_type": "stream",
          "text": [
            "0.9989891042605441\n"
          ]
        }
      ],
      "source": [
        "results_sfold_lasso= cross_val_score(lr_clf_lasso, x_scaled, y, cv=skf)\n",
        "print(np.mean(results_sfold_lasso))"
      ]
    },
    {
      "cell_type": "code",
      "execution_count": null,
      "id": "f9f304b3",
      "metadata": {
        "id": "f9f304b3",
        "outputId": "5054c0b8-cf30-4e0c-fa03-1b022fd0c799"
      },
      "outputs": [
        {
          "name": "stdout",
          "output_type": "stream",
          "text": [
            "Max Accuracy: 0.9993028634098657\n",
            "best_alpha 500\n"
          ]
        }
      ],
      "source": [
        "predict_val=[]\n",
        "predict_train=[]\n",
        "min=[]\n",
        "scores_val=[]\n",
        "C_param_range = [0.001,0.01,0.1,1,5,10,100,500]\n",
        "for i in C_param_range:\n",
        "    lr_clf=LogisticRegression(penalty=\"l1\",solver=\"liblinear\",C=i)\n",
        "    lr_clf.fit(X_train,y_train)\n",
        "    pred_val=lr_clf.predict(X_val)\n",
        "    accuracy_val=accuracy_score(y_val,pred_val)\n",
        "    err_val=1-accuracy_val\n",
        "    predict_val.append(1-accuracy_val)\n",
        "    \n",
        "    pred_train=lr_clf.predict(X_train)\n",
        "    accuracy_train=accuracy_score(y_train,pred_train)\n",
        "    predict_train.append(1-accuracy_train)\n",
        "    score=cross_val_score(lr_clf,x_scaled,y,cv=skf)\n",
        "    mean_score=np.mean(score)\n",
        "    scores_val.append(mean_score)\n",
        "\n",
        "\n",
        "    \n",
        "print(\"Max Accuracy:\",np.max(scores_val))\n",
        "print(\"best_alpha\",C_param_range[np.argmax(scores_val)])"
      ]
    },
    {
      "cell_type": "code",
      "execution_count": null,
      "id": "b37d00f7",
      "metadata": {
        "id": "b37d00f7",
        "outputId": "cc137a4a-69f1-44ce-fa77-456bf9ce312e"
      },
      "outputs": [
        {
          "name": "stdout",
          "output_type": "stream",
          "text": [
            "              precision    recall  f1-score   support\n",
            "\n",
            "           0       1.00      1.00      1.00    209464\n",
            "           1       0.88      0.37      0.52       251\n",
            "\n",
            "    accuracy                           1.00    209715\n",
            "   macro avg       0.94      0.68      0.76    209715\n",
            "weighted avg       1.00      1.00      1.00    209715\n",
            "\n"
          ]
        },
        {
          "data": {
            "text/plain": [
              "array([[209451,     13],\n",
              "       [   159,     92]], dtype=int64)"
            ]
          },
          "execution_count": 122,
          "metadata": {},
          "output_type": "execute_result"
        }
      ],
      "source": [
        "lr_clf=LogisticRegression(penalty=\"l1\",solver=\"liblinear\",C=500)\n",
        "lr_clf.fit(X_train,y_train)\n",
        "pred_test=lr_clf.predict(X_test)\n",
        "accuracy_val=accuracy_score(y_test,pred_test)\n",
        "print(classification_report(y_test,pred_test))\n",
        "confusion_matrix(y_test,pred_test)"
      ]
    },
    {
      "cell_type": "code",
      "execution_count": null,
      "id": "aa3f7ce8",
      "metadata": {
        "id": "aa3f7ce8",
        "outputId": "320dd2ce-e905-4fd2-9a9e-db5cec8cdd7b"
      },
      "outputs": [
        {
          "name": "stdout",
          "output_type": "stream",
          "text": [
            "Max Accuracy: 0.9992284767422455\n",
            "best_alpha 500\n"
          ]
        }
      ],
      "source": [
        "predict_val=[]\n",
        "predict_train=[]\n",
        "min=[]\n",
        "scores_val=[]\n",
        "C_param_range = [0.001,0.01,0.1,1,5,10,100,500]\n",
        "for i in C_param_range:\n",
        "    lr_clf=LogisticRegression(penalty=\"l2\",C=i)\n",
        "    lr_clf.fit(X_train,y_train)\n",
        "    pred_val=lr_clf.predict(X_val)\n",
        "    accuracy_val=accuracy_score(y_val,pred_val)\n",
        "    err_val=1-accuracy_val\n",
        "    predict_val.append(1-accuracy_val)\n",
        "    \n",
        "    pred_train=lr_clf.predict(X_train)\n",
        "    accuracy_train=accuracy_score(y_train,pred_train)\n",
        "    predict_train.append(1-accuracy_train)\n",
        "    score=cross_val_score(lr_clf,x_scaled,y,cv=skf)\n",
        "    mean_score=np.mean(score)\n",
        "    scores_val.append(mean_score)\n",
        "\n",
        "\n",
        "    \n",
        "print(\"Max Accuracy:\",np.max(scores_val))\n",
        "print(\"best_alpha\",C_param_range[np.argmax(scores_val)])"
      ]
    },
    {
      "cell_type": "code",
      "execution_count": null,
      "id": "1c22ee76",
      "metadata": {
        "id": "1c22ee76",
        "outputId": "214f88bf-9080-48c6-bdfa-03b88a63bb6b"
      },
      "outputs": [
        {
          "name": "stdout",
          "output_type": "stream",
          "text": [
            "              precision    recall  f1-score   support\n",
            "\n",
            "           0       1.00      1.00      1.00    209464\n",
            "           1       0.96      0.26      0.41       251\n",
            "\n",
            "    accuracy                           1.00    209715\n",
            "   macro avg       0.98      0.63      0.71    209715\n",
            "weighted avg       1.00      1.00      1.00    209715\n",
            "\n"
          ]
        },
        {
          "data": {
            "text/plain": [
              "array([[209461,      3],\n",
              "       [   185,     66]], dtype=int64)"
            ]
          },
          "execution_count": 124,
          "metadata": {},
          "output_type": "execute_result"
        }
      ],
      "source": [
        "lr_clf=LogisticRegression(penalty=\"l2\",C=500)\n",
        "lr_clf.fit(X_train,y_train)\n",
        "pred_test=lr_clf.predict(X_test)\n",
        "accuracy_val=accuracy_score(y_test,pred_test)\n",
        "print(classification_report(y_test,pred_test))\n",
        "confusion_matrix(y_test,pred_test)"
      ]
    },
    {
      "cell_type": "code",
      "execution_count": null,
      "id": "db1315a3",
      "metadata": {
        "id": "db1315a3"
      },
      "outputs": [],
      "source": [
        ""
      ]
    }
  ],
  "metadata": {
    "kernelspec": {
      "display_name": "Python 3 (ipykernel)",
      "language": "python",
      "name": "python3"
    },
    "language_info": {
      "codemirror_mode": {
        "name": "ipython",
        "version": 3
      },
      "file_extension": ".py",
      "mimetype": "text/x-python",
      "name": "python",
      "nbconvert_exporter": "python",
      "pygments_lexer": "ipython3",
      "version": "3.9.7"
    },
    "colab": {
      "name": "Logistic_finalll.ipynb",
      "provenance": [],
      "include_colab_link": true
    }
  },
  "nbformat": 4,
  "nbformat_minor": 5
}